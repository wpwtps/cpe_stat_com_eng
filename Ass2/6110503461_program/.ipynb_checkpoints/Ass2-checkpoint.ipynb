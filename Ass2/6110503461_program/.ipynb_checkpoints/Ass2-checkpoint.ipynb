{
 "cells": [
  {
   "cell_type": "code",
   "execution_count": 1,
   "id": "reduced-riding",
   "metadata": {},
   "outputs": [
    {
     "data": {
      "text/html": [
       "'C:/Users/User/Documents/stat2020/Ass2/6110503461_program'"
      ],
      "text/latex": [
       "'C:/Users/User/Documents/stat2020/Ass2/6110503461\\_program'"
      ],
      "text/markdown": [
       "'C:/Users/User/Documents/stat2020/Ass2/6110503461_program'"
      ],
      "text/plain": [
       "[1] \"C:/Users/User/Documents/stat2020/Ass2/6110503461_program\""
      ]
     },
     "metadata": {},
     "output_type": "display_data"
    }
   ],
   "source": [
    "getwd()\n",
    "setwd('C:/Users/User/Documents/stat2020/Ass2/6110503461_program')"
   ]
  },
  {
   "cell_type": "markdown",
   "id": "thorough-bikini",
   "metadata": {},
   "source": [
    "#  \n",
    "# Part 3.1 Hypothesis"
   ]
  },
  {
   "cell_type": "code",
   "execution_count": 2,
   "id": "satisfactory-samuel",
   "metadata": {},
   "outputs": [],
   "source": [
    "df <- read.csv(\"ass2_hypo.csv\", sep=\",\", header=T, fileEncoding=\"UTF-8-BOM\")"
   ]
  },
  {
   "cell_type": "code",
   "execution_count": 3,
   "id": "reduced-stress",
   "metadata": {},
   "outputs": [
    {
     "data": {
      "text/plain": [
       "            Df Sum Sq Mean Sq F value Pr(>F)  \n",
       "x1           1  262.4  262.43   3.202 0.0833 .\n",
       "x2           1  165.4  165.43   2.019 0.1654  \n",
       "x1:x2        1   36.6   36.60   0.447 0.5089  \n",
       "Residuals   31 2540.5   81.95                 \n",
       "---\n",
       "Signif. codes:  0 '***' 0.001 '**' 0.01 '*' 0.05 '.' 0.1 ' ' 1"
      ]
     },
     "metadata": {},
     "output_type": "display_data"
    }
   ],
   "source": [
    "x1 <- factor(df$Type)\n",
    "x2 <- factor(df$more_th20)\n",
    "anovaResult <- aov(df$exp_dis ~ x1*x2, data=df)\n",
    "summary(anovaResult)"
   ]
  },
  {
   "cell_type": "code",
   "execution_count": 4,
   "id": "novel-harbor",
   "metadata": {},
   "outputs": [],
   "source": [
    "attach(df)"
   ]
  },
  {
   "cell_type": "code",
   "execution_count": 5,
   "id": "complicated-prior",
   "metadata": {},
   "outputs": [
    {
     "data": {
      "text/html": [
       "<ol class=list-inline>\n",
       "\t<li>'exp_dis'</li>\n",
       "\t<li>'Type'</li>\n",
       "\t<li>'more_th20'</li>\n",
       "</ol>\n"
      ],
      "text/latex": [
       "\\begin{enumerate*}\n",
       "\\item 'exp\\_dis'\n",
       "\\item 'Type'\n",
       "\\item 'more\\_th20'\n",
       "\\end{enumerate*}\n"
      ],
      "text/markdown": [
       "1. 'exp_dis'\n",
       "2. 'Type'\n",
       "3. 'more_th20'\n",
       "\n",
       "\n"
      ],
      "text/plain": [
       "[1] \"exp_dis\"   \"Type\"      \"more_th20\""
      ]
     },
     "metadata": {},
     "output_type": "display_data"
    }
   ],
   "source": [
    "names(df)"
   ]
  },
  {
   "cell_type": "code",
   "execution_count": 6,
   "id": "micro-locator",
   "metadata": {},
   "outputs": [
    {
     "data": {
      "text/html": [
       "'factor'"
      ],
      "text/latex": [
       "'factor'"
      ],
      "text/markdown": [
       "'factor'"
      ],
      "text/plain": [
       "[1] \"factor\""
      ]
     },
     "metadata": {},
     "output_type": "display_data"
    }
   ],
   "source": [
    "class(Type)"
   ]
  },
  {
   "cell_type": "code",
   "execution_count": 7,
   "id": "automatic-payday",
   "metadata": {},
   "outputs": [
    {
     "data": {
      "text/html": [
       "<ol class=list-inline>\n",
       "\t<li>'bts'</li>\n",
       "\t<li>'mrt'</li>\n",
       "</ol>\n"
      ],
      "text/latex": [
       "\\begin{enumerate*}\n",
       "\\item 'bts'\n",
       "\\item 'mrt'\n",
       "\\end{enumerate*}\n"
      ],
      "text/markdown": [
       "1. 'bts'\n",
       "2. 'mrt'\n",
       "\n",
       "\n"
      ],
      "text/plain": [
       "[1] \"bts\" \"mrt\""
      ]
     },
     "metadata": {},
     "output_type": "display_data"
    }
   ],
   "source": [
    "levels(Type)"
   ]
  },
  {
   "cell_type": "code",
   "execution_count": 8,
   "id": "jewish-monkey",
   "metadata": {},
   "outputs": [],
   "source": [
    "# H0: mean expense/distance of BTS = BUS"
   ]
  },
  {
   "cell_type": "code",
   "execution_count": 9,
   "id": "thermal-jumping",
   "metadata": {},
   "outputs": [
    {
     "data": {
      "text/plain": [
       "\n",
       "\tWelch Two Sample t-test\n",
       "\n",
       "data:  exp_dis[Type == \"bts\"] and exp_dis[Type == \"mrt\"]\n",
       "t = 1.9096, df = 22.225, p-value = 0.06918\n",
       "alternative hypothesis: true difference in means is not equal to 0\n",
       "95 percent confidence interval:\n",
       " -0.4693813 11.4628023\n",
       "sample estimates:\n",
       "mean of x mean of y \n",
       " 38.68421  33.18750 \n"
      ]
     },
     "metadata": {},
     "output_type": "display_data"
    }
   ],
   "source": [
    "t.test(exp_dis[Type==\"bts\"], exp_dis[Type==\"mrt\"])"
   ]
  },
  {
   "cell_type": "code",
   "execution_count": null,
   "id": "included-tennis",
   "metadata": {},
   "outputs": [],
   "source": []
  },
  {
   "cell_type": "markdown",
   "id": "clinical-canadian",
   "metadata": {},
   "source": [
    "#           \n",
    "# Part 3.2 Anova on single factor   "
   ]
  },
  {
   "cell_type": "code",
   "execution_count": 10,
   "id": "moderate-clock",
   "metadata": {},
   "outputs": [],
   "source": [
    "df2 <- read.csv(\"ass2_anova1.csv\", sep=\",\", header=T, fileEncoding=\"UTF-8-BOM\")"
   ]
  },
  {
   "cell_type": "code",
   "execution_count": 11,
   "id": "superb-amsterdam",
   "metadata": {},
   "outputs": [
    {
     "data": {
      "text/plain": [
       "            Df Sum Sq Mean Sq F value Pr(>F)  \n",
       "timeFactor   2   1757   878.5   3.178  0.048 *\n",
       "Residuals   67  18520   276.4                 \n",
       "---\n",
       "Signif. codes:  0 '***' 0.001 '**' 0.01 '*' 0.05 '.' 0.1 ' ' 1"
      ]
     },
     "metadata": {},
     "output_type": "display_data"
    }
   ],
   "source": [
    "timeFactor <- factor(df2$time)\n",
    "anovaResult <- aov(df2$expense~timeFactor, data=df2)\n",
    "summary(anovaResult)"
   ]
  },
  {
   "cell_type": "code",
   "execution_count": 12,
   "id": "immune-mayor",
   "metadata": {},
   "outputs": [
    {
     "data": {
      "text/html": [
       "4.93671818959299"
      ],
      "text/latex": [
       "4.93671818959299"
      ],
      "text/markdown": [
       "4.93671818959299"
      ],
      "text/plain": [
       "[1] 4.936718"
      ]
     },
     "metadata": {},
     "output_type": "display_data"
    }
   ],
   "source": [
    "qf(0.99, 2, 67)"
   ]
  },
  {
   "cell_type": "code",
   "execution_count": 13,
   "id": "dangerous-calibration",
   "metadata": {},
   "outputs": [
    {
     "data": {
      "text/html": [
       "4.26479043602793"
      ],
      "text/latex": [
       "4.26479043602793"
      ],
      "text/markdown": [
       "4.26479043602793"
      ],
      "text/plain": [
       "[1] 4.26479"
      ]
     },
     "metadata": {},
     "output_type": "display_data"
    }
   ],
   "source": [
    "qtukey(0.01, nmeans=anovaResult$rank, df=anovaResult$df.residual, lower.tail=F)"
   ]
  },
  {
   "cell_type": "code",
   "execution_count": 14,
   "id": "athletic-wells",
   "metadata": {},
   "outputs": [
    {
     "data": {
      "image/png": "[encoded data removed]",
      "text/plain": [
       "Plot with title \"99% family-wise confidence level\n",
       "\""
      ]
     },
     "metadata": {},
     "output_type": "display_data"
    }
   ],
   "source": [
    "tk <- TukeyHSD(anovaResult, conf.level = 0.99)\n",
    "plot(tk)"
   ]
  },
  {
   "cell_type": "code",
   "execution_count": null,
   "id": "modified-mayor",
   "metadata": {},
   "outputs": [],
   "source": []
  },
  {
   "cell_type": "code",
   "execution_count": 15,
   "id": "relative-daniel",
   "metadata": {},
   "outputs": [
    {
     "data": {
      "image/png": "[encoded data removed]",
      "text/plain": [
       "plot without title"
      ]
     },
     "metadata": {},
     "output_type": "display_data"
    }
   ],
   "source": [
    "boxplot(df2$expense~df2$time, horizontal=T, xlab=\"time\", ylab=\"expense\")"
   ]
  },
  {
   "cell_type": "code",
   "execution_count": null,
   "id": "knowing-fruit",
   "metadata": {},
   "outputs": [],
   "source": []
  },
  {
   "cell_type": "markdown",
   "id": "painted-virus",
   "metadata": {},
   "source": [
    "#  \n",
    "# Part 3.3 Anova on two factors"
   ]
  },
  {
   "cell_type": "code",
   "execution_count": 16,
   "id": "facial-prayer",
   "metadata": {},
   "outputs": [],
   "source": [
    "df3 <- read.csv(\"ass2_anova2.csv\", sep=\",\", header=T, fileEncoding=\"UTF-8-BOM\")"
   ]
  },
  {
   "cell_type": "code",
   "execution_count": 17,
   "id": "ignored-serial",
   "metadata": {},
   "outputs": [
    {
     "data": {
      "text/html": [
       "<table>\n",
       "<thead><tr><th scope=col>expense</th><th scope=col>time</th><th scope=col>type</th></tr></thead>\n",
       "<tbody>\n",
       "\t<tr><td> 30</td><td>1  </td><td>0  </td></tr>\n",
       "\t<tr><td> 35</td><td>2  </td><td>0  </td></tr>\n",
       "\t<tr><td> 15</td><td>3  </td><td>0  </td></tr>\n",
       "\t<tr><td>134</td><td>1  </td><td>0  </td></tr>\n",
       "\t<tr><td> 35</td><td>3  </td><td>1  </td></tr>\n",
       "\t<tr><td> 27</td><td>1  </td><td>0  </td></tr>\n",
       "\t<tr><td> 40</td><td>2  </td><td>0  </td></tr>\n",
       "\t<tr><td> 25</td><td>3  </td><td>1  </td></tr>\n",
       "\t<tr><td> 57</td><td>1  </td><td>0  </td></tr>\n",
       "\t<tr><td> 30</td><td>2  </td><td>0  </td></tr>\n",
       "\t<tr><td> 75</td><td>3  </td><td>1  </td></tr>\n",
       "\t<tr><td> 70</td><td>1  </td><td>0  </td></tr>\n",
       "\t<tr><td> 30</td><td>2  </td><td>0  </td></tr>\n",
       "\t<tr><td> 47</td><td>1  </td><td>0  </td></tr>\n",
       "\t<tr><td> 40</td><td>2  </td><td>0  </td></tr>\n",
       "\t<tr><td> 25</td><td>3  </td><td>2  </td></tr>\n",
       "\t<tr><td> 55</td><td>3  </td><td>1  </td></tr>\n",
       "\t<tr><td> 30</td><td>3  </td><td>2  </td></tr>\n",
       "\t<tr><td> 30</td><td>2  </td><td>0  </td></tr>\n",
       "\t<tr><td> 40</td><td>1  </td><td>0  </td></tr>\n",
       "\t<tr><td> 15</td><td>1  </td><td>1  </td></tr>\n",
       "\t<tr><td> 30</td><td>2  </td><td>0  </td></tr>\n",
       "\t<tr><td> 40</td><td>3  </td><td>1  </td></tr>\n",
       "\t<tr><td> 15</td><td>3  </td><td>2  </td></tr>\n",
       "\t<tr><td> 40</td><td>1  </td><td>0  </td></tr>\n",
       "\t<tr><td> 30</td><td>2  </td><td>0  </td></tr>\n",
       "\t<tr><td> 30</td><td>3  </td><td>1  </td></tr>\n",
       "\t<tr><td> 15</td><td>3  </td><td>2  </td></tr>\n",
       "\t<tr><td> 30</td><td>2  </td><td>0  </td></tr>\n",
       "\t<tr><td> 15</td><td>3  </td><td>0  </td></tr>\n",
       "\t<tr><td>...</td><td>...</td><td>...</td></tr>\n",
       "\t<tr><td>25</td><td>2 </td><td>2 </td></tr>\n",
       "\t<tr><td>25</td><td>3 </td><td>2 </td></tr>\n",
       "\t<tr><td>45</td><td>1 </td><td>0 </td></tr>\n",
       "\t<tr><td>35</td><td>1 </td><td>1 </td></tr>\n",
       "\t<tr><td>40</td><td>2 </td><td>0 </td></tr>\n",
       "\t<tr><td>35</td><td>2 </td><td>1 </td></tr>\n",
       "\t<tr><td>15</td><td>2 </td><td>2 </td></tr>\n",
       "\t<tr><td>40</td><td>1 </td><td>0 </td></tr>\n",
       "\t<tr><td>30</td><td>1 </td><td>1 </td></tr>\n",
       "\t<tr><td>40</td><td>2 </td><td>0 </td></tr>\n",
       "\t<tr><td>40</td><td>3 </td><td>2 </td></tr>\n",
       "\t<tr><td>30</td><td>1 </td><td>0 </td></tr>\n",
       "\t<tr><td>40</td><td>2 </td><td>0 </td></tr>\n",
       "\t<tr><td>15</td><td>2 </td><td>2 </td></tr>\n",
       "\t<tr><td>40</td><td>1 </td><td>0 </td></tr>\n",
       "\t<tr><td>30</td><td>3 </td><td>1 </td></tr>\n",
       "\t<tr><td>40</td><td>2 </td><td>0 </td></tr>\n",
       "\t<tr><td>30</td><td>3 </td><td>2 </td></tr>\n",
       "\t<tr><td>40</td><td>1 </td><td>0 </td></tr>\n",
       "\t<tr><td>30</td><td>2 </td><td>0 </td></tr>\n",
       "\t<tr><td>20</td><td>2 </td><td>0 </td></tr>\n",
       "\t<tr><td>25</td><td>1 </td><td>0 </td></tr>\n",
       "\t<tr><td>15</td><td>1 </td><td>1 </td></tr>\n",
       "\t<tr><td>25</td><td>1 </td><td>2 </td></tr>\n",
       "\t<tr><td>40</td><td>2 </td><td>0 </td></tr>\n",
       "\t<tr><td>25</td><td>2 </td><td>1 </td></tr>\n",
       "\t<tr><td>40</td><td>1 </td><td>0 </td></tr>\n",
       "\t<tr><td>40</td><td>2 </td><td>0 </td></tr>\n",
       "\t<tr><td>10</td><td>2 </td><td>1 </td></tr>\n",
       "\t<tr><td>15</td><td>3 </td><td>1 </td></tr>\n",
       "</tbody>\n",
       "</table>\n"
      ],
      "text/latex": [
       "\\begin{tabular}{r|lll}\n",
       " expense & time & type\\\\\n",
       "\\hline\n",
       "\t  30 & 1   & 0  \\\\\n",
       "\t  35 & 2   & 0  \\\\\n",
       "\t  15 & 3   & 0  \\\\\n",
       "\t 134 & 1   & 0  \\\\\n",
       "\t  35 & 3   & 1  \\\\\n",
       "\t  27 & 1   & 0  \\\\\n",
       "\t  40 & 2   & 0  \\\\\n",
       "\t  25 & 3   & 1  \\\\\n",
       "\t  57 & 1   & 0  \\\\\n",
       "\t  30 & 2   & 0  \\\\\n",
       "\t  75 & 3   & 1  \\\\\n",
       "\t  70 & 1   & 0  \\\\\n",
       "\t  30 & 2   & 0  \\\\\n",
       "\t  47 & 1   & 0  \\\\\n",
       "\t  40 & 2   & 0  \\\\\n",
       "\t  25 & 3   & 2  \\\\\n",
       "\t  55 & 3   & 1  \\\\\n",
       "\t  30 & 3   & 2  \\\\\n",
       "\t  30 & 2   & 0  \\\\\n",
       "\t  40 & 1   & 0  \\\\\n",
       "\t  15 & 1   & 1  \\\\\n",
       "\t  30 & 2   & 0  \\\\\n",
       "\t  40 & 3   & 1  \\\\\n",
       "\t  15 & 3   & 2  \\\\\n",
       "\t  40 & 1   & 0  \\\\\n",
       "\t  30 & 2   & 0  \\\\\n",
       "\t  30 & 3   & 1  \\\\\n",
       "\t  15 & 3   & 2  \\\\\n",
       "\t  30 & 2   & 0  \\\\\n",
       "\t  15 & 3   & 0  \\\\\n",
       "\t ... & ... & ...\\\\\n",
       "\t 25 & 2  & 2 \\\\\n",
       "\t 25 & 3  & 2 \\\\\n",
       "\t 45 & 1  & 0 \\\\\n",
       "\t 35 & 1  & 1 \\\\\n",
       "\t 40 & 2  & 0 \\\\\n",
       "\t 35 & 2  & 1 \\\\\n",
       "\t 15 & 2  & 2 \\\\\n",
       "\t 40 & 1  & 0 \\\\\n",
       "\t 30 & 1  & 1 \\\\\n",
       "\t 40 & 2  & 0 \\\\\n",
       "\t 40 & 3  & 2 \\\\\n",
       "\t 30 & 1  & 0 \\\\\n",
       "\t 40 & 2  & 0 \\\\\n",
       "\t 15 & 2  & 2 \\\\\n",
       "\t 40 & 1  & 0 \\\\\n",
       "\t 30 & 3  & 1 \\\\\n",
       "\t 40 & 2  & 0 \\\\\n",
       "\t 30 & 3  & 2 \\\\\n",
       "\t 40 & 1  & 0 \\\\\n",
       "\t 30 & 2  & 0 \\\\\n",
       "\t 20 & 2  & 0 \\\\\n",
       "\t 25 & 1  & 0 \\\\\n",
       "\t 15 & 1  & 1 \\\\\n",
       "\t 25 & 1  & 2 \\\\\n",
       "\t 40 & 2  & 0 \\\\\n",
       "\t 25 & 2  & 1 \\\\\n",
       "\t 40 & 1  & 0 \\\\\n",
       "\t 40 & 2  & 0 \\\\\n",
       "\t 10 & 2  & 1 \\\\\n",
       "\t 15 & 3  & 1 \\\\\n",
       "\\end{tabular}\n"
      ],
      "text/markdown": [
       "\n",
       "| expense | time | type |\n",
       "|---|---|---|\n",
       "|  30 | 1   | 0   |\n",
       "|  35 | 2   | 0   |\n",
       "|  15 | 3   | 0   |\n",
       "| 134 | 1   | 0   |\n",
       "|  35 | 3   | 1   |\n",
       "|  27 | 1   | 0   |\n",
       "|  40 | 2   | 0   |\n",
       "|  25 | 3   | 1   |\n",
       "|  57 | 1   | 0   |\n",
       "|  30 | 2   | 0   |\n",
       "|  75 | 3   | 1   |\n",
       "|  70 | 1   | 0   |\n",
       "|  30 | 2   | 0   |\n",
       "|  47 | 1   | 0   |\n",
       "|  40 | 2   | 0   |\n",
       "|  25 | 3   | 2   |\n",
       "|  55 | 3   | 1   |\n",
       "|  30 | 3   | 2   |\n",
       "|  30 | 2   | 0   |\n",
       "|  40 | 1   | 0   |\n",
       "|  15 | 1   | 1   |\n",
       "|  30 | 2   | 0   |\n",
       "|  40 | 3   | 1   |\n",
       "|  15 | 3   | 2   |\n",
       "|  40 | 1   | 0   |\n",
       "|  30 | 2   | 0   |\n",
       "|  30 | 3   | 1   |\n",
       "|  15 | 3   | 2   |\n",
       "|  30 | 2   | 0   |\n",
       "|  15 | 3   | 0   |\n",
       "| ... | ... | ... |\n",
       "| 25 | 2  | 2  |\n",
       "| 25 | 3  | 2  |\n",
       "| 45 | 1  | 0  |\n",
       "| 35 | 1  | 1  |\n",
       "| 40 | 2  | 0  |\n",
       "| 35 | 2  | 1  |\n",
       "| 15 | 2  | 2  |\n",
       "| 40 | 1  | 0  |\n",
       "| 30 | 1  | 1  |\n",
       "| 40 | 2  | 0  |\n",
       "| 40 | 3  | 2  |\n",
       "| 30 | 1  | 0  |\n",
       "| 40 | 2  | 0  |\n",
       "| 15 | 2  | 2  |\n",
       "| 40 | 1  | 0  |\n",
       "| 30 | 3  | 1  |\n",
       "| 40 | 2  | 0  |\n",
       "| 30 | 3  | 2  |\n",
       "| 40 | 1  | 0  |\n",
       "| 30 | 2  | 0  |\n",
       "| 20 | 2  | 0  |\n",
       "| 25 | 1  | 0  |\n",
       "| 15 | 1  | 1  |\n",
       "| 25 | 1  | 2  |\n",
       "| 40 | 2  | 0  |\n",
       "| 25 | 2  | 1  |\n",
       "| 40 | 1  | 0  |\n",
       "| 40 | 2  | 0  |\n",
       "| 10 | 2  | 1  |\n",
       "| 15 | 3  | 1  |\n",
       "\n"
      ],
      "text/plain": [
       "    expense time type\n",
       "1    30     1    0   \n",
       "2    35     2    0   \n",
       "3    15     3    0   \n",
       "4   134     1    0   \n",
       "5    35     3    1   \n",
       "6    27     1    0   \n",
       "7    40     2    0   \n",
       "8    25     3    1   \n",
       "9    57     1    0   \n",
       "10   30     2    0   \n",
       "11   75     3    1   \n",
       "12   70     1    0   \n",
       "13   30     2    0   \n",
       "14   47     1    0   \n",
       "15   40     2    0   \n",
       "16   25     3    2   \n",
       "17   55     3    1   \n",
       "18   30     3    2   \n",
       "19   30     2    0   \n",
       "20   40     1    0   \n",
       "21   15     1    1   \n",
       "22   30     2    0   \n",
       "23   40     3    1   \n",
       "24   15     3    2   \n",
       "25   40     1    0   \n",
       "26   30     2    0   \n",
       "27   30     3    1   \n",
       "28   15     3    2   \n",
       "29   30     2    0   \n",
       "30   15     3    0   \n",
       "... ...     ...  ... \n",
       "41  25      2    2   \n",
       "42  25      3    2   \n",
       "43  45      1    0   \n",
       "44  35      1    1   \n",
       "45  40      2    0   \n",
       "46  35      2    1   \n",
       "47  15      2    2   \n",
       "48  40      1    0   \n",
       "49  30      1    1   \n",
       "50  40      2    0   \n",
       "51  40      3    2   \n",
       "52  30      1    0   \n",
       "53  40      2    0   \n",
       "54  15      2    2   \n",
       "55  40      1    0   \n",
       "56  30      3    1   \n",
       "57  40      2    0   \n",
       "58  30      3    2   \n",
       "59  40      1    0   \n",
       "60  30      2    0   \n",
       "61  20      2    0   \n",
       "62  25      1    0   \n",
       "63  15      1    1   \n",
       "64  25      1    2   \n",
       "65  40      2    0   \n",
       "66  25      2    1   \n",
       "67  40      1    0   \n",
       "68  40      2    0   \n",
       "69  10      2    1   \n",
       "70  15      3    1   "
      ]
     },
     "metadata": {},
     "output_type": "display_data"
    }
   ],
   "source": [
    "df3"
   ]
  },
  {
   "cell_type": "code",
   "execution_count": 18,
   "id": "future-median",
   "metadata": {},
   "outputs": [
    {
     "data": {
      "text/plain": [
       "            Df Sum Sq Mean Sq F value  Pr(>F)   \n",
       "typeFactor   2   2568  1284.0   4.992 0.00962 **\n",
       "timeFactor   2    990   495.0   1.924 0.15418   \n",
       "Residuals   65  16719   257.2                   \n",
       "---\n",
       "Signif. codes:  0 '***' 0.001 '**' 0.01 '*' 0.05 '.' 0.1 ' ' 1"
      ]
     },
     "metadata": {},
     "output_type": "display_data"
    }
   ],
   "source": [
    "typeFactor <- factor(df3$type)\n",
    "timeFactor <- factor(df3$time)\n",
    "anovaResult <- aov(df3$expense ~ typeFactor + timeFactor, data=df3)\n",
    "summary(anovaResult)"
   ]
  },
  {
   "cell_type": "code",
   "execution_count": 19,
   "id": "major-bunch",
   "metadata": {},
   "outputs": [
    {
     "data": {
      "text/html": [
       "4.94741317654419"
      ],
      "text/latex": [
       "4.94741317654419"
      ],
      "text/markdown": [
       "4.94741317654419"
      ],
      "text/plain": [
       "[1] 4.947413"
      ]
     },
     "metadata": {},
     "output_type": "display_data"
    }
   ],
   "source": [
    "qf(0.01, 2, 65, lower.tail=F)"
   ]
  },
  {
   "cell_type": "code",
   "execution_count": 20,
   "id": "listed-alloy",
   "metadata": {},
   "outputs": [
    {
     "data": {
      "text/html": [
       "4.94741317654419"
      ],
      "text/latex": [
       "4.94741317654419"
      ],
      "text/markdown": [
       "4.94741317654419"
      ],
      "text/plain": [
       "[1] 4.947413"
      ]
     },
     "metadata": {},
     "output_type": "display_data"
    }
   ],
   "source": [
    "qf(0.01, 2, 65, lower.tail=F)"
   ]
  },
  {
   "cell_type": "code",
   "execution_count": 21,
   "id": "elder-victor",
   "metadata": {},
   "outputs": [
    {
     "data": {
      "image/png": "[encoded data removed]",
      "text/plain": [
       "Plot with title \"99% family-wise confidence level\n",
       "\""
      ]
     },
     "metadata": {},
     "output_type": "display_data"
    }
   ],
   "source": [
    "tk1 <- TukeyHSD(anovaResult, 'typeFactor', conf.level = 0.99)\n",
    "plot(tk1)"
   ]
  },
  {
   "cell_type": "code",
   "execution_count": 22,
   "id": "reserved-sterling",
   "metadata": {},
   "outputs": [
    {
     "data": {
      "image/png": "[encoded data removed]",
      "text/plain": [
       "Plot with title \"95% family-wise confidence level\n",
       "\""
      ]
     },
     "metadata": {},
     "output_type": "display_data"
    }
   ],
   "source": [
    "tk1 <- TukeyHSD(anovaResult, 'typeFactor', conf.level = 0.95)\n",
    "plot(tk1)"
   ]
  },
  {
   "cell_type": "code",
   "execution_count": 23,
   "id": "british-rolling",
   "metadata": {},
   "outputs": [
    {
     "data": {
      "image/png": "[encoded data removed]",
      "text/plain": [
       "Plot with title \"99% family-wise confidence level\n",
       "\""
      ]
     },
     "metadata": {},
     "output_type": "display_data"
    }
   ],
   "source": [
    "tk2 <- TukeyHSD(anovaResult, 'timeFactor', conf.level = 0.99)\n",
    "plot(tk2)"
   ]
  },
  {
   "cell_type": "code",
   "execution_count": 24,
   "id": "prospective-welsh",
   "metadata": {},
   "outputs": [
    {
     "data": {
      "image/png": "[encoded data removed]",
      "text/plain": [
       "Plot with title \"95% family-wise confidence level\n",
       "\""
      ]
     },
     "metadata": {},
     "output_type": "display_data"
    }
   ],
   "source": [
    "tk2 <- TukeyHSD(anovaResult, 'timeFactor', conf.level = 0.95)\n",
    "plot(tk2)"
   ]
  },
  {
   "cell_type": "code",
   "execution_count": 25,
   "id": "important-marina",
   "metadata": {},
   "outputs": [
    {
     "data": {
      "image/png": "[encoded data removed]",
      "text/plain": [
       "plot without title"
      ]
     },
     "metadata": {},
     "output_type": "display_data"
    }
   ],
   "source": [
    "boxplot(df3$expense~df3$type, horizontal=T,xlab=\"Type\", ylab=\"expense\")"
   ]
  },
  {
   "cell_type": "code",
   "execution_count": 26,
   "id": "occupational-korea",
   "metadata": {},
   "outputs": [
    {
     "data": {
      "image/png": "[encoded data removed]",
      "text/plain": [
       "plot without title"
      ]
     },
     "metadata": {},
     "output_type": "display_data"
    }
   ],
   "source": [
    "boxplot(df3$expense~df3$time, horizontal=T,xlab=\"time\", ylab=\"expense\")"
   ]
  },
  {
   "cell_type": "code",
   "execution_count": null,
   "id": "compatible-wilson",
   "metadata": {},
   "outputs": [],
   "source": []
  },
  {
   "cell_type": "markdown",
   "id": "informed-iceland",
   "metadata": {},
   "source": [
    "# \n",
    "# 3.4 Categorical data analysis (homogeneity)"
   ]
  },
  {
   "cell_type": "code",
   "execution_count": null,
   "id": "guilty-jumping",
   "metadata": {},
   "outputs": [],
   "source": [
    "#ย้ายไปใช้ python ค่ะ"
   ]
  }
 ],
 "metadata": {
  "kernelspec": {
   "display_name": "R",
   "language": "R",
   "name": "ir"
  },
  "language_info": {
   "codemirror_mode": "r",
   "file_extension": ".r",
   "mimetype": "text/x-r-source",
   "name": "R",
   "pygments_lexer": "r",
   "version": "3.6.1"
  }
 },
 "nbformat": 4,
 "nbformat_minor": 5
}
