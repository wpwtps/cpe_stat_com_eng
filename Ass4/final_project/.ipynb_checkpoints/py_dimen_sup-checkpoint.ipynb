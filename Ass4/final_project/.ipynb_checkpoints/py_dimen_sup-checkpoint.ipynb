{
 "cells": [
  {
   "cell_type": "code",
   "execution_count": 2,
   "metadata": {},
   "outputs": [],
   "source": [
    "import pandas as pd\n",
    "import numpy as np\n",
    "import matplotlib.pyplot as plt\n",
    "import seaborn as sns\n",
    "%matplotlib inline"
   ]
  },
  {
   "cell_type": "code",
   "execution_count": 3,
   "metadata": {},
   "outputs": [
    {
     "data": {
      "text/html": [
       "<div>\n",
       "<style scoped>\n",
       "    .dataframe tbody tr th:only-of-type {\n",
       "        vertical-align: middle;\n",
       "    }\n",
       "\n",
       "    .dataframe tbody tr th {\n",
       "        vertical-align: top;\n",
       "    }\n",
       "\n",
       "    .dataframe thead th {\n",
       "        text-align: right;\n",
       "    }\n",
       "</style>\n",
       "<table border=\"1\" class=\"dataframe\">\n",
       "  <thead>\n",
       "    <tr style=\"text-align: right;\">\n",
       "      <th></th>\n",
       "      <th>b</th>\n",
       "      <th>c</th>\n",
       "      <th>d</th>\n",
       "      <th>e</th>\n",
       "      <th>f</th>\n",
       "      <th>g</th>\n",
       "      <th>h</th>\n",
       "      <th>i</th>\n",
       "      <th>j</th>\n",
       "      <th>k</th>\n",
       "      <th>...</th>\n",
       "      <th>New_Construction</th>\n",
       "      <th>Working</th>\n",
       "      <th>household</th>\n",
       "      <th>ath_pop</th>\n",
       "      <th>th_worker</th>\n",
       "      <th>debt</th>\n",
       "      <th>percent_import_us</th>\n",
       "      <th>population</th>\n",
       "      <th>Planted_area</th>\n",
       "      <th>export</th>\n",
       "    </tr>\n",
       "  </thead>\n",
       "  <tbody>\n",
       "    <tr>\n",
       "      <th>0</th>\n",
       "      <td>38142</td>\n",
       "      <td>1366</td>\n",
       "      <td>396</td>\n",
       "      <td>2994</td>\n",
       "      <td>265</td>\n",
       "      <td>22</td>\n",
       "      <td>471</td>\n",
       "      <td>1221</td>\n",
       "      <td>465</td>\n",
       "      <td>0</td>\n",
       "      <td>...</td>\n",
       "      <td>341.55</td>\n",
       "      <td>150762</td>\n",
       "      <td>72960</td>\n",
       "      <td>269</td>\n",
       "      <td>32174.85</td>\n",
       "      <td>7650</td>\n",
       "      <td>80.5</td>\n",
       "      <td>59467274</td>\n",
       "      <td>95.591759</td>\n",
       "      <td>1406310.1</td>\n",
       "    </tr>\n",
       "    <tr>\n",
       "      <th>1</th>\n",
       "      <td>43923</td>\n",
       "      <td>1859</td>\n",
       "      <td>795</td>\n",
       "      <td>3242</td>\n",
       "      <td>263</td>\n",
       "      <td>22</td>\n",
       "      <td>518</td>\n",
       "      <td>1449</td>\n",
       "      <td>546</td>\n",
       "      <td>0</td>\n",
       "      <td>...</td>\n",
       "      <td>338.24</td>\n",
       "      <td>149023</td>\n",
       "      <td>73568</td>\n",
       "      <td>270</td>\n",
       "      <td>32324.20</td>\n",
       "      <td>14120</td>\n",
       "      <td>80.6</td>\n",
       "      <td>60130186</td>\n",
       "      <td>91.687820</td>\n",
       "      <td>1411039.3</td>\n",
       "    </tr>\n",
       "    <tr>\n",
       "      <th>2</th>\n",
       "      <td>45409</td>\n",
       "      <td>1920</td>\n",
       "      <td>643</td>\n",
       "      <td>3454</td>\n",
       "      <td>292</td>\n",
       "      <td>25</td>\n",
       "      <td>451</td>\n",
       "      <td>1523</td>\n",
       "      <td>650</td>\n",
       "      <td>2</td>\n",
       "      <td>...</td>\n",
       "      <td>334.93</td>\n",
       "      <td>140929</td>\n",
       "      <td>74176</td>\n",
       "      <td>271</td>\n",
       "      <td>32780.45</td>\n",
       "      <td>20590</td>\n",
       "      <td>78.6</td>\n",
       "      <td>60846582</td>\n",
       "      <td>92.229538</td>\n",
       "      <td>1806682.0</td>\n",
       "    </tr>\n",
       "    <tr>\n",
       "      <th>3</th>\n",
       "      <td>48542</td>\n",
       "      <td>2505</td>\n",
       "      <td>572</td>\n",
       "      <td>3347</td>\n",
       "      <td>357</td>\n",
       "      <td>24</td>\n",
       "      <td>360</td>\n",
       "      <td>1500</td>\n",
       "      <td>739</td>\n",
       "      <td>7</td>\n",
       "      <td>...</td>\n",
       "      <td>331.62</td>\n",
       "      <td>137507</td>\n",
       "      <td>74784</td>\n",
       "      <td>273</td>\n",
       "      <td>32595.48</td>\n",
       "      <td>69674</td>\n",
       "      <td>80.7</td>\n",
       "      <td>61585103</td>\n",
       "      <td>93.556351</td>\n",
       "      <td>2248089.4</td>\n",
       "    </tr>\n",
       "    <tr>\n",
       "      <th>4</th>\n",
       "      <td>44119</td>\n",
       "      <td>1861</td>\n",
       "      <td>438</td>\n",
       "      <td>2984</td>\n",
       "      <td>312</td>\n",
       "      <td>28</td>\n",
       "      <td>349</td>\n",
       "      <td>1327</td>\n",
       "      <td>812</td>\n",
       "      <td>16</td>\n",
       "      <td>...</td>\n",
       "      <td>328.31</td>\n",
       "      <td>133313</td>\n",
       "      <td>75392</td>\n",
       "      <td>274</td>\n",
       "      <td>32910.83</td>\n",
       "      <td>33530</td>\n",
       "      <td>78.7</td>\n",
       "      <td>62298571</td>\n",
       "      <td>97.298302</td>\n",
       "      <td>2214248.7</td>\n",
       "    </tr>\n",
       "  </tbody>\n",
       "</table>\n",
       "<p>5 rows × 32 columns</p>\n",
       "</div>"
      ],
      "text/plain": [
       "       b     c    d     e    f   g    h     i    j   k  ...  New_Construction  \\\n",
       "0  38142  1366  396  2994  265  22  471  1221  465   0  ...            341.55   \n",
       "1  43923  1859  795  3242  263  22  518  1449  546   0  ...            338.24   \n",
       "2  45409  1920  643  3454  292  25  451  1523  650   2  ...            334.93   \n",
       "3  48542  2505  572  3347  357  24  360  1500  739   7  ...            331.62   \n",
       "4  44119  1861  438  2984  312  28  349  1327  812  16  ...            328.31   \n",
       "\n",
       "   Working  household  ath_pop  th_worker   debt  percent_import_us  \\\n",
       "0   150762      72960      269   32174.85   7650               80.5   \n",
       "1   149023      73568      270   32324.20  14120               80.6   \n",
       "2   140929      74176      271   32780.45  20590               78.6   \n",
       "3   137507      74784      273   32595.48  69674               80.7   \n",
       "4   133313      75392      274   32910.83  33530               78.7   \n",
       "\n",
       "   population  Planted_area     export  \n",
       "0    59467274     95.591759  1406310.1  \n",
       "1    60130186     91.687820  1411039.3  \n",
       "2    60846582     92.229538  1806682.0  \n",
       "3    61585103     93.556351  2248089.4  \n",
       "4    62298571     97.298302  2214248.7  \n",
       "\n",
       "[5 rows x 32 columns]"
      ]
     },
     "execution_count": 3,
     "metadata": {},
     "output_type": "execute_result"
    }
   ],
   "source": [
    "df = pd.read_csv(\"angthong2.csv\")\n",
    "df.head()"
   ]
  },
  {
   "cell_type": "code",
   "execution_count": 4,
   "metadata": {},
   "outputs": [],
   "source": [
    "X = df.drop('b',1)\n",
    "y = df.b"
   ]
  },
  {
   "cell_type": "code",
   "execution_count": 5,
   "metadata": {},
   "outputs": [],
   "source": [
    "from sklearn.model_selection import train_test_split\n",
    "X_train, X_test, y_train, y_test = train_test_split(X, y, test_size=0.3, random_state=0)"
   ]
  },
  {
   "cell_type": "code",
   "execution_count": 6,
   "metadata": {},
   "outputs": [],
   "source": [
    "from sklearn.preprocessing import StandardScaler\n",
    "scaler = StandardScaler().fit(X_train)"
   ]
  },
  {
   "cell_type": "code",
   "execution_count": 7,
   "metadata": {},
   "outputs": [],
   "source": [
    "mean_X_train = X_train.mean()\n",
    "std_X_train = X_train.std()"
   ]
  },
  {
   "cell_type": "code",
   "execution_count": 8,
   "metadata": {},
   "outputs": [
    {
     "data": {
      "text/plain": [
       "array([3.35843750e+03, 8.22812500e+02, 3.52225000e+03, 4.04875000e+02,\n",
       "       3.83750000e+01, 6.86125000e+02, 2.12281250e+03, 8.81000000e+02,\n",
       "       1.75625000e+01, 1.65000000e+02, 9.37625000e+02, 9.27062500e+02,\n",
       "       2.75000000e+00, 3.21875000e+01, 1.03250000e+03, 1.38306250e+03,\n",
       "       6.39187500e+02, 4.69375000e+01, 1.51437500e+02, 2.75910625e+03,\n",
       "       4.28777312e+05, 3.18021875e+02, 1.49179812e+05, 7.85991875e+04,\n",
       "       2.64375000e+02, 3.54775306e+04, 9.38185000e+04, 7.96366500e+01,\n",
       "       6.49118510e+07, 9.76887735e+01, 4.40149396e+06])"
      ]
     },
     "execution_count": 8,
     "metadata": {},
     "output_type": "execute_result"
    }
   ],
   "source": [
    "scaler.mean_"
   ]
  },
  {
   "cell_type": "code",
   "execution_count": 9,
   "metadata": {},
   "outputs": [
    {
     "data": {
      "text/plain": [
       "c                    3.358438e+03\n",
       "d                    8.228125e+02\n",
       "e                    3.522250e+03\n",
       "f                    4.048750e+02\n",
       "g                    3.837500e+01\n",
       "h                    6.861250e+02\n",
       "i                    2.122812e+03\n",
       "j                    8.810000e+02\n",
       "k                    1.756250e+01\n",
       "l                    1.650000e+02\n",
       "m                    9.376250e+02\n",
       "n                    9.270625e+02\n",
       "o                    2.750000e+00\n",
       "p                    3.218750e+01\n",
       "q                    1.032500e+03\n",
       "r                    1.383062e+03\n",
       "s                    6.391875e+02\n",
       "t                    4.693750e+01\n",
       "u                    1.514375e+02\n",
       "ฺBirths              2.759106e+03\n",
       "Farm_holding         4.287773e+05\n",
       "New_Construction     3.180219e+02\n",
       "Working              1.491798e+05\n",
       "household            7.859919e+04\n",
       "ath_pop              2.643750e+02\n",
       "th_worker            3.547753e+04\n",
       "debt                 9.381850e+04\n",
       "percent_import_us    7.963665e+01\n",
       "population           6.491185e+07\n",
       "Planted_area         9.768877e+01\n",
       "export               4.401494e+06\n",
       "dtype: float64"
      ]
     },
     "execution_count": 9,
     "metadata": {},
     "output_type": "execute_result"
    }
   ],
   "source": [
    "mean_X_train"
   ]
  },
  {
   "cell_type": "code",
   "execution_count": 10,
   "metadata": {},
   "outputs": [
    {
     "data": {
      "text/plain": [
       "array([1.56262911e+03, 4.86414075e+02, 9.44040419e+02, 2.67864209e+02,\n",
       "       1.46666075e+01, 4.74085287e+02, 9.08885115e+02, 2.14281065e+02,\n",
       "       8.41106971e+00, 5.01908856e+01, 4.29281504e+02, 1.83542730e+02,\n",
       "       1.29903811e+00, 2.74322318e+01, 3.16481437e+02, 4.88908794e+02,\n",
       "       2.27880785e+02, 2.58105326e+01, 6.20070246e+01, 3.13061848e+02,\n",
       "       4.99978682e+04, 3.26808155e+01, 1.12991927e+04, 3.87855744e+03,\n",
       "       8.64490457e+00, 2.51558992e+03, 4.45439362e+04, 1.02960591e+00,\n",
       "       2.87419847e+06, 2.64431543e+00, 2.15943824e+06])"
      ]
     },
     "execution_count": 10,
     "metadata": {},
     "output_type": "execute_result"
    }
   ],
   "source": [
    "np.sqrt(scaler.var_)"
   ]
  },
  {
   "cell_type": "code",
   "execution_count": 11,
   "metadata": {},
   "outputs": [
    {
     "data": {
      "text/plain": [
       "c                    1.613876e+03\n",
       "d                    5.023663e+02\n",
       "e                    9.750008e+02\n",
       "f                    2.766490e+02\n",
       "g                    1.514761e+01\n",
       "h                    4.896332e+02\n",
       "i                    9.386925e+02\n",
       "j                    2.213085e+02\n",
       "k                    8.686915e+00\n",
       "l                    5.183692e+01\n",
       "m                    4.433600e+02\n",
       "n                    1.895621e+02\n",
       "o                    1.341641e+00\n",
       "p                    2.833189e+01\n",
       "q                    3.268606e+02\n",
       "r                    5.049428e+02\n",
       "s                    2.353543e+02\n",
       "t                    2.665700e+01\n",
       "u                    6.404058e+01\n",
       "ฺBirths              3.233289e+02\n",
       "Farm_holding         5.163758e+04\n",
       "New_Construction     3.375260e+01\n",
       "Working              1.166976e+04\n",
       "household            4.005757e+03\n",
       "ath_pop              8.928419e+00\n",
       "th_worker            2.598090e+03\n",
       "debt                 4.600478e+04\n",
       "percent_import_us    1.063372e+00\n",
       "population           2.968459e+06\n",
       "Planted_area         2.731037e+00\n",
       "export               2.230258e+06\n",
       "dtype: float64"
      ]
     },
     "execution_count": 11,
     "metadata": {},
     "output_type": "execute_result"
    }
   ],
   "source": [
    "std_X_train"
   ]
  },
  {
   "cell_type": "code",
   "execution_count": 12,
   "metadata": {},
   "outputs": [],
   "source": [
    "sk_scaled_X_train = scaler.transform(X_train)\n",
    "sk_scaled_X_test = scaler.transform(X_test)"
   ]
  },
  {
   "cell_type": "code",
   "execution_count": 21,
   "metadata": {},
   "outputs": [
    {
     "data": {
      "text/plain": [
       "PCA(n_components=5)"
      ]
     },
     "execution_count": 21,
     "metadata": {},
     "output_type": "execute_result"
    }
   ],
   "source": [
    "from sklearn.decomposition import PCA\n",
    "\n",
    "num_components=5\n",
    "pca = PCA(n_components=num_components)\n",
    "pca.fit(sk_scaled_X_train)"
   ]
  },
  {
   "cell_type": "code",
   "execution_count": 22,
   "metadata": {},
   "outputs": [
    {
     "data": {
      "text/plain": [
       "array([19.99932399,  4.1186711 ,  2.75793476,  2.194559  ,  0.96157358])"
      ]
     },
     "execution_count": 22,
     "metadata": {},
     "output_type": "execute_result"
    }
   ],
   "source": [
    "pca.explained_variance_"
   ]
  },
  {
   "cell_type": "code",
   "execution_count": 23,
   "metadata": {},
   "outputs": [
    {
     "data": {
      "text/plain": [
       "array([[ 0.2018743 ,  0.20310031,  0.18195148,  0.15469094,  0.20857243,\n",
       "         0.16774699,  0.21039001,  0.21159729,  0.12456838,  0.1830289 ,\n",
       "         0.20128796,  0.06186278,  0.08316409,  0.16799162,  0.18415163,\n",
       "         0.21969319,  0.21988166,  0.22204882,  0.22419313, -0.11686819,\n",
       "        -0.00932156, -0.11970732,  0.12487531,  0.21684057, -0.21044351,\n",
       "         0.21282884,  0.20616049,  0.01607069,  0.22435802,  0.12963237,\n",
       "         0.22697713],\n",
       "       [ 0.11328315,  0.04560584,  0.1718426 , -0.05372191, -0.02406769,\n",
       "         0.25342237,  0.04644256, -0.07800045, -0.38284979, -0.19857522,\n",
       "         0.1310357 , -0.38945008, -0.40250216,  0.03855453,  0.01101696,\n",
       "         0.08085882,  0.01074758, -0.00801005,  0.01135816,  0.20197319,\n",
       "         0.1689681 ,  0.24568379,  0.25732018,  0.06739068, -0.18374719,\n",
       "         0.08552726, -0.08275442,  0.12586208, -0.04020109, -0.29199926,\n",
       "         0.05666788],\n",
       "       [-0.03740771, -0.08835422, -0.09914336, -0.23288973, -0.22671982,\n",
       "         0.07602197, -0.13009472,  0.07325688, -0.03005295,  0.09542933,\n",
       "        -0.14822395,  0.12161922,  0.10606371,  0.35410201,  0.30468351,\n",
       "         0.06800036, -0.12215705, -0.01083942, -0.12613364,  0.34586103,\n",
       "         0.19672186,  0.15565088,  0.27769829,  0.06853985, -0.01333662,\n",
       "        -0.02237994,  0.14229928, -0.46426512,  0.0684592 ,  0.17042759,\n",
       "         0.02961636],\n",
       "       [-0.15037837,  0.25972906,  0.14691564,  0.32500514,  0.00329579,\n",
       "        -0.0242153 ,  0.05068492,  0.1343619 , -0.12151925, -0.04705765,\n",
       "         0.18883272, -0.11976998,  0.05847201,  0.08112746, -0.22070953,\n",
       "        -0.07063788,  0.02942783,  0.07128337, -0.02230338,  0.13107526,\n",
       "         0.5541311 , -0.2607211 , -0.23775645, -0.05607123,  0.0096677 ,\n",
       "        -0.190425  , -0.10854862, -0.31733078, -0.10439459,  0.10317195,\n",
       "        -0.04576502],\n",
       "       [-0.3621422 ,  0.2312584 , -0.03513205,  0.3976121 , -0.17939277,\n",
       "        -0.04729335, -0.29498739,  0.13857414, -0.02864576,  0.33948541,\n",
       "         0.06664229, -0.1933664 , -0.18214821,  0.05891381,  0.01611288,\n",
       "        -0.10981433, -0.0369367 , -0.00993341, -0.01188216, -0.22822909,\n",
       "        -0.30921843,  0.32418955,  0.08120319,  0.15896827, -0.02987198,\n",
       "        -0.01291102, -0.04087115, -0.13540387,  0.01476153,  0.01923604,\n",
       "        -0.0246935 ]])"
      ]
     },
     "execution_count": 23,
     "metadata": {},
     "output_type": "execute_result"
    }
   ],
   "source": [
    "pca.components_"
   ]
  },
  {
   "cell_type": "code",
   "execution_count": 24,
   "metadata": {},
   "outputs": [
    {
     "data": {
      "text/plain": [
       "array([0.60481827, 0.12455659, 0.08340529, 0.06636771, 0.02907985])"
      ]
     },
     "execution_count": 24,
     "metadata": {},
     "output_type": "execute_result"
    }
   ],
   "source": [
    "pca.explained_variance_ratio_"
   ]
  },
  {
   "cell_type": "code",
   "execution_count": 26,
   "metadata": {},
   "outputs": [
    {
     "data": {
      "text/plain": [
       "<AxesSubplot:xlabel='PC', ylabel='Variance'>"
      ]
     },
     "execution_count": 26,
     "metadata": {},
     "output_type": "execute_result"
    },
    {
     "data": {
      "image/png": "[encoded data removed]",
      "text/plain": [
       "<Figure size 432x288 with 1 Axes>"
      ]
     },
     "metadata": {
      "needs_background": "light"
     },
     "output_type": "display_data"
    }
   ],
   "source": [
    "temp_df = pd.DataFrame({'Variance':pca.explained_variance_ratio_,\n",
    "                        'PC':['PC1','PC2','PC3','PC4','PC5']})\n",
    "sns.barplot(x='PC',y=\"Variance\", data=temp_df, color=\"blue\")"
   ]
  },
  {
   "cell_type": "code",
   "execution_count": 27,
   "metadata": {},
   "outputs": [],
   "source": [
    "sk_X_train_transformed  = pca.transform(sk_scaled_X_train)"
   ]
  },
  {
   "cell_type": "code",
   "execution_count": 28,
   "metadata": {},
   "outputs": [
    {
     "data": {
      "text/plain": [
       "Text(0, 0.5, 'Second Principal Component')"
      ]
     },
     "execution_count": 28,
     "metadata": {},
     "output_type": "execute_result"
    },
    {
     "data": {
      "image/png": "[encoded data removed]",
      "text/plain": [
       "<Figure size 576x432 with 1 Axes>"
      ]
     },
     "metadata": {
      "needs_background": "light"
     },
     "output_type": "display_data"
    }
   ],
   "source": [
    "plt.figure(figsize=(8,6))\n",
    "plt.scatter(sk_X_train_transformed[:,0],sk_X_train_transformed[:,1],c=y_train,cmap='Set1')\n",
    "plt.xlabel('First principal component')\n",
    "plt.ylabel('Second Principal Component')"
   ]
  },
  {
   "cell_type": "code",
   "execution_count": 29,
   "metadata": {},
   "outputs": [
    {
     "data": {
      "text/plain": [
       "array([[ 2.13333791e-01, -3.46130570e-02, -2.87630902e-01,\n",
       "         2.43924404e-02, -1.71329657e-01,  5.03968863e-01,\n",
       "         4.06914601e-01, -7.70399344e-02, -1.49737537e-01,\n",
       "        -1.03777732e-01,  1.11546854e-01,  1.34332141e-01,\n",
       "        -4.70753837e-01,  5.22686655e-01,  4.06406821e-02,\n",
       "        -1.12132544e-01, -3.23312415e-01, -2.02519284e-01,\n",
       "        -2.05418229e-03, -6.21874170e-01, -4.47408231e-01,\n",
       "        -8.30971121e-01,  2.35343368e-01, -1.28333399e-01,\n",
       "         5.80791952e-02,  8.02787524e-03, -3.35487714e-01,\n",
       "        -5.46307045e-01, -1.70797240e-01, -1.41099564e-01,\n",
       "        -2.04888657e-01],\n",
       "       [-3.78391620e-02,  1.01527711e-01, -5.97848563e-01,\n",
       "        -1.20398649e-01, -9.64347205e-02,  1.84620339e-01,\n",
       "        -2.05397223e-01,  2.36524429e-01,  8.08811146e-02,\n",
       "        -4.53281028e-01, -7.76812070e-02, -5.02352873e-01,\n",
       "         2.38638482e-01,  2.57623944e-01, -2.32429633e-01,\n",
       "         2.05215192e-01,  1.93022839e-01, -2.22875125e-01,\n",
       "        -2.00207336e-01, -5.23735625e-01,  8.63849730e-02,\n",
       "        -3.24233384e-01,  3.70862184e-01, -7.77356996e-02,\n",
       "        -1.66255044e-02,  3.29525893e-01, -2.30004125e-01,\n",
       "         3.90105557e-02, -1.26402156e-02,  2.67506414e-01,\n",
       "         6.83137006e-02],\n",
       "       [-2.82657486e-02, -1.11061899e-01,  3.99439162e-01,\n",
       "         1.31730519e-01,  8.57657496e-02, -2.12175589e-01,\n",
       "        -4.34482639e-02, -2.77780876e-01, -1.82021750e-01,\n",
       "         1.89969315e-01,  1.23865437e-02,  4.00746325e-01,\n",
       "         9.06829815e-03, -6.20513178e-01,  1.12487914e-01,\n",
       "        -3.31422130e-02, -1.27969161e-01,  7.90703462e-02,\n",
       "         2.89220180e-01,  2.46075129e-01,  1.64245813e-01,\n",
       "         2.81947818e-01, -1.03018906e-02,  3.52052699e-01,\n",
       "        -2.16931649e-02, -2.05198184e-01,  1.69232152e-01,\n",
       "        -7.50043831e-02,  8.29646082e-02, -2.27987770e-02,\n",
       "        -1.76493824e-02],\n",
       "       [-2.60100205e-01, -3.95948354e-02, -4.68133352e-01,\n",
       "        -2.20737693e-01,  3.36859645e-02, -1.41860857e+00,\n",
       "        -2.65897768e-01,  1.34604364e-01, -4.50572164e-01,\n",
       "        -3.17278623e-01,  3.02109308e-01, -1.49717213e-01,\n",
       "        -2.25444645e-02, -1.19460311e-01, -2.89685070e-01,\n",
       "         3.65510290e-01,  1.91133746e-01, -8.41166885e-02,\n",
       "        -1.79063426e-02, -1.58131141e-01,  1.93256553e-01,\n",
       "        -2.76472576e-01,  4.64893628e-01,  1.12155515e-01,\n",
       "        -4.26392047e-01,  2.84397083e-01,  5.08823794e-01,\n",
       "         9.57150563e-03,  1.77866081e-01,  3.27211674e-02,\n",
       "         1.98126445e-01],\n",
       "       [-1.64759473e-02,  1.07454333e-01, -1.98906301e-01,\n",
       "        -5.22946267e-02, -5.86060427e-02, -2.84165057e-01,\n",
       "         1.61129036e-01, -3.11270609e-01,  2.59639222e-02,\n",
       "         2.49115846e-01,  2.08348157e-01, -1.97287187e-01,\n",
       "        -5.71318572e-01,  3.88901898e-01,  4.51559582e-03,\n",
       "        -1.49384134e-01, -3.33697461e-01,  9.86620922e-02,\n",
       "        -6.59437322e-02,  2.22564450e-02, -1.24964946e-01,\n",
       "        -6.36173199e-01,  2.72682490e-01, -2.82507292e-01,\n",
       "         2.56533509e-03, -2.03738706e-01,  5.40453048e-01,\n",
       "         2.17247170e-01, -7.60493217e-02,  1.72142601e-01,\n",
       "        -1.88560218e-02],\n",
       "       [-1.43661209e-01, -1.20815669e-01, -2.36205837e-01,\n",
       "         1.79846957e-01, -1.07878409e-01,  6.51224615e-02,\n",
       "        -2.19040985e-01, -1.73939741e-02,  2.19303721e-01,\n",
       "         2.48955307e-02,  2.51125827e-01, -2.02956365e-01,\n",
       "         6.76754073e-02,  7.36767718e-02, -1.94412552e-03,\n",
       "         9.55700701e-02, -1.12666298e-01, -5.93616033e-02,\n",
       "        -1.33649293e-01,  2.98632313e-01,  3.55060659e-01,\n",
       "         1.70349659e-01,  9.75537482e-02,  3.83156531e-02,\n",
       "        -3.35632254e-02, -1.40076200e-01,  1.34066163e-01,\n",
       "         9.68680736e-01, -4.38335050e-02,  8.26726650e-01,\n",
       "         4.30094156e-02],\n",
       "       [ 2.10894262e-01, -1.51097714e-01,  2.94734711e-01,\n",
       "        -3.85193865e-01, -2.54489471e-01, -2.06243844e-01,\n",
       "         2.60429763e-01,  5.24868315e-02, -8.11021251e-01,\n",
       "         1.78755285e-01, -6.37394548e-03,  3.44122803e-01,\n",
       "        -8.83314295e-01,  1.85376893e-01,  8.43428103e-02,\n",
       "        -1.23562657e-02, -2.79202479e-01,  1.45274809e-01,\n",
       "        -6.83155700e-02, -1.09136660e+00, -1.78364265e-01,\n",
       "        -7.54330067e-01,  2.55271366e-01, -4.38310140e-01,\n",
       "        -4.37676617e-02, -1.20458918e-01,  8.43081654e-02,\n",
       "        -5.19763899e-01, -4.08358989e-02,  2.30750338e-01,\n",
       "        -1.39166583e-01],\n",
       "       [-6.35203812e-02, -5.05695999e-02, -4.23036141e-01,\n",
       "        -9.40359265e-02,  9.86526987e-02,  7.53882541e-01,\n",
       "         2.89013494e-02,  1.81452530e-02,  3.49244817e-01,\n",
       "         2.42266432e-01, -1.79702569e-01, -1.06085379e+00,\n",
       "         4.28553222e-01,  1.83480203e-01,  6.89392727e-02,\n",
       "         1.35522677e-01,  1.59292588e-01,  1.49661607e-02,\n",
       "         1.07523122e-02,  5.71172603e-01, -1.12724560e-01,\n",
       "         4.13342231e-01, -7.97297609e-01, -2.46332264e-01,\n",
       "         5.82250753e-02, -4.58730909e-02, -3.44091623e-01,\n",
       "         5.00933290e-01,  1.56619335e-01,  7.67282252e-01,\n",
       "         1.77882616e-01],\n",
       "       [-1.65689817e-01, -2.32742367e-03, -8.90493591e-02,\n",
       "         1.36165912e-01,  5.01396383e-02, -1.04177341e-01,\n",
       "         7.66155550e-02,  5.24089082e-01, -1.30345599e-01,\n",
       "        -7.36152052e-01,  1.65040929e-01, -2.79077298e-01,\n",
       "         1.01298406e+00,  3.98765422e-01, -2.45078616e-01,\n",
       "         8.20278548e-02,  2.75908551e-01, -7.42037665e-01,\n",
       "         7.61881676e-02,  2.80162543e-01, -4.91543979e-01,\n",
       "         1.30867896e-01, -1.80183190e-02,  3.65940686e-01,\n",
       "         9.71346130e-02,  4.27510076e-01, -2.32301676e-01,\n",
       "        -1.17658516e-01, -2.01278749e-02, -3.68865500e-01,\n",
       "         2.32353987e-02],\n",
       "       [-5.35626606e-02,  1.09829345e-01, -2.52351145e-01,\n",
       "         1.24376378e-01,  9.03160392e-02, -1.06975834e-01,\n",
       "        -1.68044201e-01,  1.21045189e-01,  5.41067004e-01,\n",
       "         1.01164974e-01, -4.49157058e-02, -4.16228533e-02,\n",
       "         8.26221364e-02,  9.70136384e-03,  3.52202400e-02,\n",
       "         7.48413792e-02,  2.75557567e-01,  2.29766817e-01,\n",
       "        -1.59545096e-01,  6.32414921e-01,  2.27767366e-01,\n",
       "         5.11515898e-01, -4.44568529e-01, -2.91259400e-02,\n",
       "        -9.13318401e-02,  2.89353610e-02,  6.65554373e-02,\n",
       "         3.75059556e-01,  6.18226008e-02, -3.45402996e-01,\n",
       "         1.20434877e-01],\n",
       "       [ 1.73323941e-01,  1.87292462e-01,  6.29671946e-01,\n",
       "         4.58022135e-01, -6.76077882e-02,  2.59337146e-01,\n",
       "        -1.22073637e-01,  1.11460965e-02,  3.89493636e-01,\n",
       "        -6.92729006e-02, -1.78627747e-01,  1.14292748e+00,\n",
       "        -7.34372271e-02, -3.59269397e-01,  1.55904680e-01,\n",
       "        -2.82170258e-01, -2.26402006e-02,  9.95790694e-02,\n",
       "        -3.32213445e-02,  1.11903779e-01,  2.95329880e-01,\n",
       "         3.64226986e-01,  1.51844656e-01,  3.92937322e-01,\n",
       "         2.77213138e-01, -1.36314574e-01,  8.82704153e-02,\n",
       "        -1.12485121e-01, -1.82693140e-01, -1.02255771e+00,\n",
       "        -1.99534182e-01],\n",
       "       [-1.06864155e-01, -1.33540215e-01, -1.49223323e-01,\n",
       "        -2.30620270e-01,  3.74412201e-01,  2.04077834e-01,\n",
       "         1.20495130e-01, -4.51666908e-01,  1.29324151e-01,\n",
       "         5.90727851e-02,  1.72866878e-01, -4.64921973e-01,\n",
       "         3.73892839e-01, -9.07575285e-02, -1.80137326e-01,\n",
       "        -9.50375061e-02, -3.43175981e-02,  6.58906640e-02,\n",
       "         1.58785042e-01, -1.07476399e-01, -2.03852375e-01,\n",
       "        -1.78343294e-02,  3.05151317e-01, -6.98528452e-02,\n",
       "        -2.85532535e-01,  2.30706677e-01, -7.30550808e-01,\n",
       "        -4.82338884e-01, -5.93545431e-02,  4.10420069e-01,\n",
       "         7.53909863e-03],\n",
       "       [ 1.42710962e-01,  1.86049046e-01,  2.14499022e-01,\n",
       "         1.07583925e-01, -5.73733690e-02,  7.22587133e-02,\n",
       "        -6.98323705e-02,  4.61186023e-01, -1.46526695e-03,\n",
       "        -1.57982322e-01, -4.88114896e-01,  3.35929873e-01,\n",
       "         2.04547399e-01, -2.53275863e-01,  1.23539316e-01,\n",
       "         1.09588903e-01,  4.03228469e-01, -2.24494468e-02,\n",
       "         4.51886549e-02,  1.95269293e-01, -1.62036676e-02,\n",
       "         4.58449978e-01, -6.54312303e-01,  2.16179649e-01,\n",
       "         2.23053512e-01,  7.27960355e-02,  8.87376997e-02,\n",
       "        -3.68838715e-01,  1.75902889e-01, -1.02963529e+00,\n",
       "         5.12164125e-02],\n",
       "       [-1.01578803e-02, -6.42251678e-02, -1.48706683e-01,\n",
       "        -2.03045627e-01, -2.01554467e-02, -1.36902793e-01,\n",
       "         6.36597534e-02, -1.12039799e-04, -2.50477014e-01,\n",
       "         1.89952798e-02,  4.17678342e-02, -2.41306493e-01,\n",
       "        -1.36726008e-01,  1.12841946e-01, -4.78650785e-02,\n",
       "         8.28330184e-02, -3.02057533e-02, -1.30282543e-03,\n",
       "        -4.52565940e-03, -2.76341258e-01, -1.00285096e-01,\n",
       "        -2.65920560e-01,  6.06972361e-02, -1.72824750e-01,\n",
       "        -9.84154162e-02,  4.53263309e-02, -1.88435044e-02,\n",
       "        -1.16485290e-01,  4.23351503e-02,  2.79449159e-01,\n",
       "         3.12392654e-02],\n",
       "       [ 7.20321444e-02,  3.28164821e-02,  1.16082487e+00,\n",
       "         7.55434397e-03, -5.44489036e-02,  2.93388619e-01,\n",
       "         1.49759555e-01, -6.05811728e-02, -9.30245878e-02,\n",
       "         3.12065427e-01, -5.52040137e-02,  3.59605472e-01,\n",
       "        -4.82109106e-02,  1.09758540e-01,  1.47922388e-01,\n",
       "        -4.77732697e-01, -2.85481168e-01,  8.43584993e-02,\n",
       "        -4.97728277e-02,  4.04682802e-02, -1.13937813e-01,\n",
       "         1.66257823e-01,  8.24224263e-02, -2.25255590e-01,\n",
       "         4.07472784e-01, -3.38390148e-01,  2.75915257e-01,\n",
       "         2.87351546e-01, -2.24699522e-01,  1.67229736e-01,\n",
       "        -1.81474313e-01],\n",
       "       [ 7.38420669e-02, -1.71237984e-02,  1.51921895e-01,\n",
       "         1.36654047e-01,  1.55351516e-01,  1.32592516e-01,\n",
       "        -1.74170294e-01, -3.63381754e-01,  3.33386805e-01,\n",
       "         4.61443783e-01, -2.34572249e-01,  4.22431945e-01,\n",
       "        -2.11676530e-01, -7.99537358e-01,  2.23626950e-01,\n",
       "         1.08462336e-02,  5.13487728e-02,  5.17094180e-01,\n",
       "         1.55007027e-01,  3.80569885e-01,  4.67239688e-01,\n",
       "         6.08976948e-01, -3.72223769e-01,  1.92696397e-01,\n",
       "        -1.06422259e-01, -2.37175512e-01, -6.50826807e-02,\n",
       "        -5.89725057e-02,  1.33520598e-01, -2.23868549e-01,\n",
       "         4.05719093e-02]])"
      ]
     },
     "execution_count": 29,
     "metadata": {},
     "output_type": "execute_result"
    }
   ],
   "source": [
    "sk_derived_X_train = pca.inverse_transform(sk_X_train_transformed)\n",
    "sk_derived_X_train - sk_scaled_X_train"
   ]
  },
  {
   "cell_type": "code",
   "execution_count": 31,
   "metadata": {},
   "outputs": [
    {
     "data": {
      "text/plain": [
       "<AxesSubplot:>"
      ]
     },
     "execution_count": 31,
     "metadata": {},
     "output_type": "execute_result"
    },
    {
     "data": {
      "image/png": "[encoded data removed]",
      "text/plain": [
       "<Figure size 864x432 with 2 Axes>"
      ]
     },
     "metadata": {
      "needs_background": "light"
     },
     "output_type": "display_data"
    }
   ],
   "source": [
    "temp_df3 = pd.DataFrame(pca.components_, columns=X.columns)\n",
    "temp_df3.rename(index={0: \"PC1\", 1: \"PC2\", 2: \"PC3\",3: \"PC4\",4: \"PC5\"}, inplace=True)\n",
    "\n",
    "plt.figure(figsize=(12,6))\n",
    "sns.heatmap(temp_df3,cmap='coolwarm')"
   ]
  },
  {
   "cell_type": "code",
   "execution_count": null,
   "metadata": {},
   "outputs": [],
   "source": []
  },
  {
   "cell_type": "code",
   "execution_count": null,
   "metadata": {},
   "outputs": [],
   "source": []
  },
  {
   "cell_type": "code",
   "execution_count": null,
   "metadata": {},
   "outputs": [],
   "source": []
  }
 ],
 "metadata": {
  "kernelspec": {
   "display_name": "Python 3",
   "language": "python",
   "name": "python3"
  },
  "language_info": {
   "codemirror_mode": {
    "name": "ipython",
    "version": 3
   },
   "file_extension": ".py",
   "mimetype": "text/x-python",
   "name": "python",
   "nbconvert_exporter": "python",
   "pygments_lexer": "ipython3",
   "version": "3.8.5"
  }
 },
 "nbformat": 4,
 "nbformat_minor": 4
}
