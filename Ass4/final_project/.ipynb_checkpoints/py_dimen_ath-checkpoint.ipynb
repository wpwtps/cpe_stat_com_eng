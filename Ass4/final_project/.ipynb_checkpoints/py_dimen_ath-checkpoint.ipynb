{
 "cells": [
  {
   "cell_type": "code",
   "execution_count": 36,
   "metadata": {},
   "outputs": [],
   "source": [
    "import pandas as pd\n",
    "import numpy as np\n",
    "import matplotlib.pyplot as plt\n",
    "import seaborn as sns\n",
    "%matplotlib inline"
   ]
  },
  {
   "cell_type": "code",
   "execution_count": 37,
   "metadata": {},
   "outputs": [
    {
     "data": {
      "text/html": [
       "<div>\n",
       "<style scoped>\n",
       "    .dataframe tbody tr th:only-of-type {\n",
       "        vertical-align: middle;\n",
       "    }\n",
       "\n",
       "    .dataframe tbody tr th {\n",
       "        vertical-align: top;\n",
       "    }\n",
       "\n",
       "    .dataframe thead th {\n",
       "        text-align: right;\n",
       "    }\n",
       "</style>\n",
       "<table border=\"1\" class=\"dataframe\">\n",
       "  <thead>\n",
       "    <tr style=\"text-align: right;\">\n",
       "      <th></th>\n",
       "      <th>b</th>\n",
       "      <th>c</th>\n",
       "      <th>d</th>\n",
       "      <th>e</th>\n",
       "      <th>f</th>\n",
       "      <th>g</th>\n",
       "      <th>h</th>\n",
       "      <th>i</th>\n",
       "      <th>j</th>\n",
       "      <th>k</th>\n",
       "      <th>...</th>\n",
       "      <th>Life_Insurance</th>\n",
       "      <th>Farm_holding</th>\n",
       "      <th>Births</th>\n",
       "      <th>Population</th>\n",
       "      <th>th_worker</th>\n",
       "      <th>debt</th>\n",
       "      <th>percent_import_us</th>\n",
       "      <th>population</th>\n",
       "      <th>Planted_area</th>\n",
       "      <th>export</th>\n",
       "    </tr>\n",
       "  </thead>\n",
       "  <tbody>\n",
       "    <tr>\n",
       "      <th>0</th>\n",
       "      <td>143862.554</td>\n",
       "      <td>3069</td>\n",
       "      <td>471</td>\n",
       "      <td>70294</td>\n",
       "      <td>2030</td>\n",
       "      <td>254</td>\n",
       "      <td>1566</td>\n",
       "      <td>16137</td>\n",
       "      <td>1392</td>\n",
       "      <td>655</td>\n",
       "      <td>...</td>\n",
       "      <td>48465</td>\n",
       "      <td>1035310</td>\n",
       "      <td>12317</td>\n",
       "      <td>723.978627</td>\n",
       "      <td>32174.85</td>\n",
       "      <td>7650</td>\n",
       "      <td>80.5</td>\n",
       "      <td>59467274</td>\n",
       "      <td>95.591759</td>\n",
       "      <td>1406310.1</td>\n",
       "    </tr>\n",
       "    <tr>\n",
       "      <th>1</th>\n",
       "      <td>171503.917</td>\n",
       "      <td>3305</td>\n",
       "      <td>513</td>\n",
       "      <td>80942</td>\n",
       "      <td>2290</td>\n",
       "      <td>324</td>\n",
       "      <td>5205</td>\n",
       "      <td>19161</td>\n",
       "      <td>1626</td>\n",
       "      <td>819</td>\n",
       "      <td>...</td>\n",
       "      <td>61572</td>\n",
       "      <td>1043448</td>\n",
       "      <td>12067</td>\n",
       "      <td>727.915763</td>\n",
       "      <td>32324.20</td>\n",
       "      <td>14120</td>\n",
       "      <td>80.6</td>\n",
       "      <td>60130186</td>\n",
       "      <td>91.687820</td>\n",
       "      <td>1411039.3</td>\n",
       "    </tr>\n",
       "    <tr>\n",
       "      <th>2</th>\n",
       "      <td>179223.451</td>\n",
       "      <td>4056</td>\n",
       "      <td>474</td>\n",
       "      <td>86917</td>\n",
       "      <td>2697</td>\n",
       "      <td>382</td>\n",
       "      <td>1756</td>\n",
       "      <td>20641</td>\n",
       "      <td>2219</td>\n",
       "      <td>675</td>\n",
       "      <td>...</td>\n",
       "      <td>74679</td>\n",
       "      <td>1051586</td>\n",
       "      <td>11817</td>\n",
       "      <td>731.831747</td>\n",
       "      <td>32780.45</td>\n",
       "      <td>20590</td>\n",
       "      <td>78.6</td>\n",
       "      <td>60846582</td>\n",
       "      <td>92.229538</td>\n",
       "      <td>1806682.0</td>\n",
       "    </tr>\n",
       "    <tr>\n",
       "      <th>3</th>\n",
       "      <td>180611.806</td>\n",
       "      <td>4805</td>\n",
       "      <td>395</td>\n",
       "      <td>84878</td>\n",
       "      <td>3388</td>\n",
       "      <td>420</td>\n",
       "      <td>1166</td>\n",
       "      <td>22362</td>\n",
       "      <td>2306</td>\n",
       "      <td>666</td>\n",
       "      <td>...</td>\n",
       "      <td>87786</td>\n",
       "      <td>1059724</td>\n",
       "      <td>11567</td>\n",
       "      <td>735.725314</td>\n",
       "      <td>32595.48</td>\n",
       "      <td>69674</td>\n",
       "      <td>80.7</td>\n",
       "      <td>61585103</td>\n",
       "      <td>93.556351</td>\n",
       "      <td>2248089.4</td>\n",
       "    </tr>\n",
       "    <tr>\n",
       "      <th>4</th>\n",
       "      <td>189856.706</td>\n",
       "      <td>4030</td>\n",
       "      <td>302</td>\n",
       "      <td>92332</td>\n",
       "      <td>2974</td>\n",
       "      <td>503</td>\n",
       "      <td>1397</td>\n",
       "      <td>22431</td>\n",
       "      <td>2483</td>\n",
       "      <td>685</td>\n",
       "      <td>...</td>\n",
       "      <td>100893</td>\n",
       "      <td>1067862</td>\n",
       "      <td>11317</td>\n",
       "      <td>739.595172</td>\n",
       "      <td>32910.83</td>\n",
       "      <td>33530</td>\n",
       "      <td>78.7</td>\n",
       "      <td>62298571</td>\n",
       "      <td>97.298302</td>\n",
       "      <td>2214248.7</td>\n",
       "    </tr>\n",
       "  </tbody>\n",
       "</table>\n",
       "<p>5 rows × 32 columns</p>\n",
       "</div>"
      ],
      "text/plain": [
       "            b     c    d      e     f    g     h      i     j    k  ...  \\\n",
       "0  143862.554  3069  471  70294  2030  254  1566  16137  1392  655  ...   \n",
       "1  171503.917  3305  513  80942  2290  324  5205  19161  1626  819  ...   \n",
       "2  179223.451  4056  474  86917  2697  382  1756  20641  2219  675  ...   \n",
       "3  180611.806  4805  395  84878  3388  420  1166  22362  2306  666  ...   \n",
       "4  189856.706  4030  302  92332  2974  503  1397  22431  2483  685  ...   \n",
       "\n",
       "   Life_Insurance  Farm_holding  Births  Population  th_worker   debt  \\\n",
       "0           48465       1035310   12317  723.978627   32174.85   7650   \n",
       "1           61572       1043448   12067  727.915763   32324.20  14120   \n",
       "2           74679       1051586   11817  731.831747   32780.45  20590   \n",
       "3           87786       1059724   11567  735.725314   32595.48  69674   \n",
       "4          100893       1067862   11317  739.595172   32910.83  33530   \n",
       "\n",
       "   percent_import_us  population  Planted_area     export  \n",
       "0               80.5    59467274     95.591759  1406310.1  \n",
       "1               80.6    60130186     91.687820  1411039.3  \n",
       "2               78.6    60846582     92.229538  1806682.0  \n",
       "3               80.7    61585103     93.556351  2248089.4  \n",
       "4               78.7    62298571     97.298302  2214248.7  \n",
       "\n",
       "[5 rows x 32 columns]"
      ]
     },
     "execution_count": 37,
     "metadata": {},
     "output_type": "execute_result"
    }
   ],
   "source": [
    "df = pd.read_csv(\"ayutthaya2.csv\")\n",
    "df.head()"
   ]
  },
  {
   "cell_type": "code",
   "execution_count": 38,
   "metadata": {},
   "outputs": [],
   "source": [
    "X = df.drop('b',1)\n",
    "y = df.b"
   ]
  },
  {
   "cell_type": "code",
   "execution_count": 39,
   "metadata": {},
   "outputs": [],
   "source": [
    "from sklearn.model_selection import train_test_split\n",
    "X_train, X_test, y_train, y_test = train_test_split(X, y, test_size=0.3, random_state=0)"
   ]
  },
  {
   "cell_type": "code",
   "execution_count": 40,
   "metadata": {},
   "outputs": [],
   "source": [
    "from sklearn.preprocessing import StandardScaler\n",
    "scaler = StandardScaler().fit(X_train)"
   ]
  },
  {
   "cell_type": "code",
   "execution_count": 41,
   "metadata": {},
   "outputs": [],
   "source": [
    "mean_X_train = X_train.mean()\n",
    "std_X_train = X_train.std()"
   ]
  },
  {
   "cell_type": "code",
   "execution_count": 42,
   "metadata": {},
   "outputs": [
    {
     "data": {
      "text/plain": [
       "array([6.97556250e+03, 7.78750000e+02, 1.66517938e+05, 4.47056250e+03,\n",
       "       5.75250000e+02, 2.52550000e+03, 2.96229375e+04, 6.46031250e+03,\n",
       "       1.47456250e+03, 1.18443750e+03, 3.48693750e+03, 3.33475000e+03,\n",
       "       5.98387500e+03, 1.08275000e+03, 3.85362500e+03, 3.53287500e+03,\n",
       "       1.87037500e+03, 1.13437500e+02, 1.12243750e+03, 4.24243750e+03,\n",
       "       7.78885188e+05, 1.68767375e+05, 1.11195512e+06, 1.00222500e+04,\n",
       "       8.06730662e+02, 3.54775306e+04, 9.38185000e+04, 7.96366500e+01,\n",
       "       6.49118510e+07, 9.76887735e+01, 4.40149396e+06])"
      ]
     },
     "execution_count": 42,
     "metadata": {},
     "output_type": "execute_result"
    }
   ],
   "source": [
    "scaler.mean_"
   ]
  },
  {
   "cell_type": "code",
   "execution_count": 43,
   "metadata": {},
   "outputs": [
    {
     "data": {
      "text/plain": [
       "c                    6.975562e+03\n",
       "d                    7.787500e+02\n",
       "e                    1.665179e+05\n",
       "f                    4.470562e+03\n",
       "g                    5.752500e+02\n",
       "h                    2.525500e+03\n",
       "i                    2.962294e+04\n",
       "j                    6.460312e+03\n",
       "k                    1.474562e+03\n",
       "l                    1.184438e+03\n",
       "m                    3.486938e+03\n",
       "n                    3.334750e+03\n",
       "o                    5.983875e+03\n",
       "p                    1.082750e+03\n",
       "q                    3.853625e+03\n",
       "r                    3.532875e+03\n",
       "s                    1.870375e+03\n",
       "t                    1.134375e+02\n",
       "u                    1.122438e+03\n",
       "JURISTIC_PERSON      4.242438e+03\n",
       "Tourism              7.788852e+05\n",
       "Life_Insurance       1.687674e+05\n",
       "Farm_holding         1.111955e+06\n",
       "Births               1.002225e+04\n",
       "Population           8.067307e+02\n",
       "th_worker            3.547753e+04\n",
       "debt                 9.381850e+04\n",
       "percent_import_us    7.963665e+01\n",
       "population           6.491185e+07\n",
       "Planted_area         9.768877e+01\n",
       "export               4.401494e+06\n",
       "dtype: float64"
      ]
     },
     "execution_count": 43,
     "metadata": {},
     "output_type": "execute_result"
    }
   ],
   "source": [
    "mean_X_train"
   ]
  },
  {
   "cell_type": "code",
   "execution_count": 44,
   "metadata": {},
   "outputs": [
    {
     "data": {
      "text/plain": [
       "array([3.54672916e+03, 5.52811620e+02, 7.40924934e+04, 1.53911557e+03,\n",
       "       1.73530437e+02, 1.22814448e+03, 6.93252328e+03, 4.41708247e+03,\n",
       "       7.55383178e+02, 4.04502158e+02, 2.16342947e+03, 5.96267610e+02,\n",
       "       4.43224102e+03, 9.33876364e+02, 1.79739874e+03, 1.38461835e+03,\n",
       "       1.01136720e+03, 6.44999697e+01, 7.29798428e+02, 1.86566483e+03,\n",
       "       5.18317859e+05, 8.12340677e+04, 4.86412592e+04, 1.44031236e+03,\n",
       "       6.42470673e+01, 2.51558992e+03, 4.45439362e+04, 1.02960591e+00,\n",
       "       2.87419847e+06, 2.64431543e+00, 2.15943824e+06])"
      ]
     },
     "execution_count": 44,
     "metadata": {},
     "output_type": "execute_result"
    }
   ],
   "source": [
    "np.sqrt(scaler.var_)"
   ]
  },
  {
   "cell_type": "code",
   "execution_count": 45,
   "metadata": {},
   "outputs": [
    {
     "data": {
      "text/plain": [
       "c                    3.663046e+03\n",
       "d                    5.709414e+02\n",
       "e                    7.652240e+04\n",
       "f                    1.589592e+03\n",
       "g                    1.792215e+02\n",
       "h                    1.268422e+03\n",
       "i                    7.159879e+03\n",
       "j                    4.561943e+03\n",
       "k                    7.801564e+02\n",
       "l                    4.177680e+02\n",
       "m                    2.234380e+03\n",
       "n                    6.158225e+02\n",
       "o                    4.577599e+03\n",
       "p                    9.645034e+02\n",
       "q                    1.856345e+03\n",
       "r                    1.430028e+03\n",
       "s                    1.044536e+03\n",
       "t                    6.661528e+01\n",
       "u                    7.537326e+02\n",
       "JURISTIC_PERSON      1.926850e+03\n",
       "Tourism              5.353164e+05\n",
       "Life_Insurance       8.389818e+04\n",
       "Farm_holding         5.023648e+04\n",
       "Births               1.487548e+03\n",
       "Population           6.635409e+01\n",
       "th_worker            2.598090e+03\n",
       "debt                 4.600478e+04\n",
       "percent_import_us    1.063372e+00\n",
       "population           2.968459e+06\n",
       "Planted_area         2.731037e+00\n",
       "export               2.230258e+06\n",
       "dtype: float64"
      ]
     },
     "execution_count": 45,
     "metadata": {},
     "output_type": "execute_result"
    }
   ],
   "source": [
    "std_X_train"
   ]
  },
  {
   "cell_type": "code",
   "execution_count": 46,
   "metadata": {},
   "outputs": [],
   "source": [
    "sk_scaled_X_train = scaler.transform(X_train)\n",
    "sk_scaled_X_test = scaler.transform(X_test)"
   ]
  },
  {
   "cell_type": "code",
   "execution_count": 48,
   "metadata": {},
   "outputs": [
    {
     "data": {
      "text/plain": [
       "PCA(n_components=3)"
      ]
     },
     "execution_count": 48,
     "metadata": {},
     "output_type": "execute_result"
    }
   ],
   "source": [
    "from sklearn.decomposition import PCA\n",
    "\n",
    "num_components=3\n",
    "pca = PCA(n_components=num_components)\n",
    "pca.fit(sk_scaled_X_train)"
   ]
  },
  {
   "cell_type": "code",
   "execution_count": 49,
   "metadata": {},
   "outputs": [
    {
     "data": {
      "text/plain": [
       "array([27.02519811,  2.55789874,  1.06754421])"
      ]
     },
     "execution_count": 49,
     "metadata": {},
     "output_type": "execute_result"
    }
   ],
   "source": [
    "pca.explained_variance_"
   ]
  },
  {
   "cell_type": "code",
   "execution_count": 50,
   "metadata": {},
   "outputs": [
    {
     "data": {
      "text/plain": [
       "array([[ 1.74283020e-01,  1.73988250e-01,  1.93874773e-01,\n",
       "         1.96142418e-01,  6.68790054e-02,  1.64123638e-01,\n",
       "         1.85033702e-01,  1.91239807e-01,  1.94947165e-01,\n",
       "         1.49502542e-01,  1.86722898e-01,  1.45080990e-01,\n",
       "         1.93743613e-01,  1.91330428e-01,  1.93783559e-01,\n",
       "         1.96606940e-01,  1.92726992e-01,  1.87891114e-01,\n",
       "         1.89153528e-01,  1.97725300e-01,  1.96180259e-01,\n",
       "         1.95614635e-01,  1.94563009e-01, -1.94347966e-01,\n",
       "         1.97263398e-01,  1.88039377e-01,  1.78202026e-01,\n",
       "         1.51915138e-02,  1.95220763e-01,  1.06192209e-01,\n",
       "         1.97762474e-01],\n",
       "       [-1.19219777e-01, -1.16135513e-01, -1.79486157e-02,\n",
       "         3.13741918e-03,  4.78403656e-01, -1.03336448e-01,\n",
       "         1.19669955e-01, -1.11051548e-01, -6.79233139e-02,\n",
       "         3.44260080e-01, -1.22397018e-01,  3.37435574e-01,\n",
       "        -7.38308519e-02, -4.93461557e-02, -9.12333695e-02,\n",
       "        -3.64374334e-04, -1.14963087e-01,  6.69986440e-02,\n",
       "        -1.13944185e-01,  7.82061468e-03, -4.36457350e-03,\n",
       "        -6.47321158e-02, -1.78790497e-02, -5.78558915e-03,\n",
       "        -2.09759604e-02, -1.29489081e-01,  1.78459415e-01,\n",
       "        -4.23282824e-01,  8.85872855e-02,  4.06226953e-01,\n",
       "        -3.43442181e-02],\n",
       "       [-8.24950301e-02,  1.65958050e-01,  4.27904673e-02,\n",
       "        -2.11350331e-02, -4.74914637e-01,  2.93527418e-01,\n",
       "        -1.19098761e-01,  1.15537140e-01,  1.18438694e-01,\n",
       "         1.46524885e-01, -1.80159228e-02, -4.90689014e-02,\n",
       "         9.84096387e-02,  8.22619550e-04, -4.60530340e-02,\n",
       "         7.40509190e-02, -5.21121249e-02, -5.97176985e-02,\n",
       "         7.31144684e-02, -3.22037395e-02,  5.99467751e-02,\n",
       "         2.54715034e-03, -1.55616956e-01,  1.58230703e-01,\n",
       "         4.03231164e-02, -1.73185537e-02, -1.06124950e-01,\n",
       "        -6.97469408e-01, -5.61579572e-02,  7.27086238e-03,\n",
       "         1.55917175e-02]])"
      ]
     },
     "execution_count": 50,
     "metadata": {},
     "output_type": "execute_result"
    }
   ],
   "source": [
    "pca.components_"
   ]
  },
  {
   "cell_type": "code",
   "execution_count": 51,
   "metadata": {},
   "outputs": [
    {
     "data": {
      "text/plain": [
       "array([0.8172943 , 0.07735581, 0.0322846 ])"
      ]
     },
     "execution_count": 51,
     "metadata": {},
     "output_type": "execute_result"
    }
   ],
   "source": [
    "pca.explained_variance_ratio_"
   ]
  },
  {
   "cell_type": "code",
   "execution_count": 53,
   "metadata": {},
   "outputs": [
    {
     "data": {
      "text/plain": [
       "<AxesSubplot:xlabel='PC', ylabel='Variance'>"
      ]
     },
     "execution_count": 53,
     "metadata": {},
     "output_type": "execute_result"
    },
    {
     "data": {
      "image/png": "[encoded data removed]",
      "text/plain": [
       "<Figure size 432x288 with 1 Axes>"
      ]
     },
     "metadata": {
      "needs_background": "light"
     },
     "output_type": "display_data"
    }
   ],
   "source": [
    "temp_df = pd.DataFrame({'Variance':pca.explained_variance_ratio_,\n",
    "                        'PC':['PC1','PC2','PC3']})\n",
    "sns.barplot(x='PC',y=\"Variance\", data=temp_df, color=\"blue\")"
   ]
  },
  {
   "cell_type": "code",
   "execution_count": 54,
   "metadata": {},
   "outputs": [],
   "source": [
    "sk_X_train_transformed  = pca.transform(sk_scaled_X_train)"
   ]
  },
  {
   "cell_type": "code",
   "execution_count": 55,
   "metadata": {},
   "outputs": [
    {
     "data": {
      "text/plain": [
       "Text(0, 0.5, 'Second Principal Component')"
      ]
     },
     "execution_count": 55,
     "metadata": {},
     "output_type": "execute_result"
    },
    {
     "data": {
      "image/png": "[encoded data removed]",
      "text/plain": [
       "<Figure size 576x432 with 1 Axes>"
      ]
     },
     "metadata": {
      "needs_background": "light"
     },
     "output_type": "display_data"
    }
   ],
   "source": [
    "plt.figure(figsize=(8,6))\n",
    "plt.scatter(sk_X_train_transformed[:,0],sk_X_train_transformed[:,1],c=y_train,cmap='Set1')\n",
    "plt.xlabel('First principal component')\n",
    "plt.ylabel('Second Principal Component')"
   ]
  },
  {
   "cell_type": "code",
   "execution_count": 56,
   "metadata": {},
   "outputs": [
    {
     "data": {
      "text/plain": [
       "array([[ 8.92073411e-01,  3.84305048e-02,  1.23365395e-01,\n",
       "         2.93338529e-01,  2.22795678e-01,  2.87227186e-01,\n",
       "        -8.90399778e-04, -2.66328066e-01,  1.94154217e-02,\n",
       "        -5.89654132e-01,  3.85018626e-01,  1.06423253e-01,\n",
       "        -2.50066862e-02,  6.11261485e-01, -4.11936569e-01,\n",
       "        -2.21488064e-01,  1.12858433e-01,  1.49275456e-01,\n",
       "        -5.30577275e-01, -3.19046542e-02,  3.23790507e-01,\n",
       "        -9.66563480e-02, -8.64644885e-02,  7.92770418e-02,\n",
       "        -2.20587016e-01, -1.49051410e-01, -4.01161551e-01,\n",
       "        -2.53734923e-01, -2.05590206e-01,  2.46463761e-01,\n",
       "        -2.06920543e-01],\n",
       "       [ 2.73163583e-02,  1.14734090e-01, -1.19647900e-01,\n",
       "         1.97202176e-02, -5.71887452e-01, -3.08387053e-01,\n",
       "         1.61082761e-01, -1.54748351e-01, -1.45679783e-02,\n",
       "        -2.99061763e-01,  7.49942328e-03,  2.41602372e-01,\n",
       "         6.86908103e-02, -1.69401731e-02,  7.85829657e-03,\n",
       "         1.18423665e-01,  7.13325251e-03,  9.79184732e-02,\n",
       "        -4.61220253e-02,  1.76130659e-02,  1.48230710e-01,\n",
       "        -6.76231042e-02, -2.93343594e-02,  1.54361319e-04,\n",
       "        -1.41385259e-01, -4.05925326e-02, -4.88156491e-02,\n",
       "         1.73799511e-01,  2.66285997e-03,  7.47883128e-01,\n",
       "        -1.78139643e-02],\n",
       "       [ 1.99765522e-01,  1.20903525e-01,  6.95576595e-02,\n",
       "         1.44903764e-01,  1.64257386e-01, -1.53836599e-01,\n",
       "        -8.34550129e-02,  5.86671517e-02, -7.19546137e-02,\n",
       "        -3.80787938e-01,  2.66482518e-01, -1.47812886e-01,\n",
       "        -1.41201891e-01,  1.81941997e-01, -2.20672067e-02,\n",
       "         2.40050797e-02,  1.64269159e-01,  3.11249479e-01,\n",
       "        -1.98322653e-02,  2.51100167e-02, -1.83756028e-01,\n",
       "        -1.49549050e-01,  1.15044518e-01, -9.75920334e-02,\n",
       "         5.90412435e-02, -5.19343453e-01,  9.56280131e-02,\n",
       "        -3.48549419e-01, -1.16976629e-01, -1.65585190e-01,\n",
       "         1.39334725e-02],\n",
       "       [-2.03404396e-01,  4.78647961e-01,  4.80720210e-01,\n",
       "         1.86355453e-01, -3.96997499e-01, -1.52214800e+00,\n",
       "         5.93056061e-01,  2.90849427e-03,  1.75557562e-01,\n",
       "        -1.14919573e-02,  3.02372055e-01, -5.30917071e-01,\n",
       "        -2.54496819e-01, -1.01187642e-01, -7.70095434e-02,\n",
       "         1.55446212e-01,  1.34003087e-02, -1.71525371e-01,\n",
       "        -1.14773623e-02,  1.23189351e-01,  6.05872117e-03,\n",
       "         1.53499153e-01, -2.38161121e-01,  9.09433851e-02,\n",
       "         7.97315831e-02,  1.15780084e-02,  2.04910298e-01,\n",
       "        -2.07986219e-01, -2.21855958e-02,  2.45266305e-01,\n",
       "        -1.58392662e-02],\n",
       "       [-1.36381370e-01,  3.76831507e-02,  6.97850509e-02,\n",
       "         6.76500998e-03,  1.12452717e-01,  2.21193335e-01,\n",
       "         1.41208082e-01, -3.34692899e-02,  1.20806753e-01,\n",
       "         4.21687629e-01, -5.59908469e-02, -5.97416228e-01,\n",
       "         1.29995972e-01, -2.36400218e-02, -1.62564833e-01,\n",
       "        -6.10109764e-02, -1.83536397e-01,  1.29262747e-02,\n",
       "         1.33168553e-02, -8.50669492e-02, -3.79185479e-02,\n",
       "        -1.55010060e-01, -1.39186469e-01,  1.32942828e-01,\n",
       "         9.37739122e-02,  1.66701346e-02,  5.33103789e-01,\n",
       "         1.91584126e-01, -2.01186710e-02, -1.21633489e-01,\n",
       "         3.74073617e-02],\n",
       "       [-1.87677105e-01, -1.57342111e-01, -4.35066431e-02,\n",
       "        -8.70190375e-02, -5.41756797e-01,  1.17508736e-01,\n",
       "        -1.56323647e-01,  7.63946295e-02,  9.58121203e-02,\n",
       "         2.89256250e-01, -4.18920099e-01,  1.77303780e-01,\n",
       "         1.09032227e-01, -1.31819470e-01,  3.03293483e-02,\n",
       "         8.75386465e-02, -2.49316133e-02, -3.09460471e-01,\n",
       "         1.66851773e-01, -7.57689955e-02,  8.56162559e-02,\n",
       "         4.49254311e-02, -1.24386263e-01,  1.53975713e-01,\n",
       "         2.82097155e-02,  7.06082423e-02,  1.68840207e-01,\n",
       "         6.42511077e-01,  1.97706818e-02,  8.57767656e-01,\n",
       "         4.90881402e-02],\n",
       "       [ 1.75522716e-01,  8.92563158e-02, -8.85997165e-03,\n",
       "         7.95384604e-02,  1.98373455e-01, -1.21791074e-01,\n",
       "        -3.34161017e-01,  3.43736092e-03, -5.83129929e-02,\n",
       "         3.71633935e-01,  1.21111881e-01, -4.59250190e-01,\n",
       "        -7.21330087e-02,  5.73789036e-02, -8.19240118e-02,\n",
       "        -6.46666462e-03,  3.10484085e-02,  2.15006160e-01,\n",
       "        -6.09038667e-02,  7.28619051e-02, -9.83697770e-02,\n",
       "        -1.40309436e-01,  5.29787652e-02, -5.40601648e-02,\n",
       "         1.63212074e-01,  2.25037617e-02,  2.12524261e-02,\n",
       "        -9.92355288e-02, -1.39538592e-02, -1.86554167e-01,\n",
       "        -5.89189504e-02],\n",
       "       [-1.19395491e+00,  3.94619904e-01, -3.74265564e-01,\n",
       "        -1.41555845e-01,  1.31293611e-01,  4.84935153e-01,\n",
       "         3.05471224e-02,  4.32074649e-01,  6.23999775e-02,\n",
       "         2.89107654e-01, -4.24085186e-03, -2.69231392e-01,\n",
       "        -1.12366771e-01, -2.06332285e-01,  7.96475341e-02,\n",
       "         1.42379026e-01,  9.10468793e-02, -7.01024702e-03,\n",
       "        -3.82860367e-02,  7.14078941e-02,  6.20251604e-02,\n",
       "         3.21353473e-02,  4.64478654e-02,  1.27815372e-01,\n",
       "         8.58187951e-02, -8.09664944e-02, -4.82321931e-01,\n",
       "         5.73290271e-01,  1.10722781e-01,  5.86690303e-01,\n",
       "         1.58012028e-01],\n",
       "       [-1.91413973e-01, -1.23304558e-01,  6.14302671e-02,\n",
       "        -2.98908619e-02, -2.71851899e-01, -1.35160090e-01,\n",
       "         3.44501049e-01,  6.56829361e-02, -1.46861241e-02,\n",
       "        -8.23321965e-02,  1.08980552e-02,  6.09573533e-01,\n",
       "        -1.75367499e-01, -5.34584548e-03, -6.26691748e-02,\n",
       "        -1.83580553e-01, -5.74420044e-02, -6.48848430e-01,\n",
       "        -5.38708921e-02,  6.02742406e-02,  2.07430516e-01,\n",
       "         3.58979023e-01, -1.05161360e-01,  6.17869361e-02,\n",
       "        -5.73462722e-02,  3.78884148e-01, -6.60933313e-03,\n",
       "         5.85205321e-02,  1.43388150e-01, -9.00783085e-02,\n",
       "        -2.27558470e-02],\n",
       "       [ 6.74381375e-02,  2.92309989e-01,  6.31895609e-02,\n",
       "         1.09762844e-01,  5.62477719e-01,  1.11602280e-02,\n",
       "        -2.75418302e-01, -1.00833778e-02,  9.17719918e-02,\n",
       "        -5.17571902e-02,  9.94378539e-02, -3.15689825e-01,\n",
       "         1.10883718e-01,  3.79510156e-02,  2.57818625e-02,\n",
       "         1.50073332e-01,  5.33610644e-02,  4.07182772e-01,\n",
       "         8.35513807e-02, -1.78025976e-02, -2.03660581e-01,\n",
       "         1.61264171e-02, -1.14873143e-01,  1.20029000e-01,\n",
       "        -3.37595774e-02, -3.49658288e-01, -7.47926137e-02,\n",
       "        -1.79792811e-01, -1.79504393e-01, -3.47314651e-01,\n",
       "         7.42295184e-02],\n",
       "       [-1.81435326e-01,  2.82628006e-02,  4.23807661e-02,\n",
       "        -2.60720501e-01,  2.05050589e-01,  5.78076141e-01,\n",
       "         2.54739399e-01,  4.28486085e-03,  1.91265700e-03,\n",
       "         2.16146456e-01, -3.42639768e-01,  5.75683343e-01,\n",
       "        -2.67600686e-02, -4.54013936e-01,  3.02624341e-01,\n",
       "        -6.22089849e-02, -1.21085812e-01,  3.30895231e-03,\n",
       "         2.06633506e-02, -1.52800115e-01, -1.46774700e-01,\n",
       "        -1.33161231e-01,  4.71974868e-02, -2.91657262e-01,\n",
       "        -2.07140698e-02,  1.18772327e-01,  3.33489054e-01,\n",
       "        -6.13722701e-02,  4.25321929e-02, -1.20524178e+00,\n",
       "        -6.35820713e-02],\n",
       "       [-8.78548567e-02, -1.82867376e-01,  6.43248756e-02,\n",
       "        -3.31668050e-01,  1.84779760e-01,  1.74593056e-01,\n",
       "        -2.69827655e-02, -3.95487338e-04,  4.57938148e-02,\n",
       "         8.81573714e-02, -1.43098246e-01, -3.76627466e-01,\n",
       "         5.41215948e-02,  4.50481950e-02,  1.51192632e-01,\n",
       "        -5.35928007e-02,  1.51691932e-01, -5.66183444e-02,\n",
       "        -5.53085131e-02, -9.31557060e-03, -3.01428806e-02,\n",
       "         4.54684138e-02,  1.71721659e-01, -1.39441432e-01,\n",
       "         5.56685302e-02,  3.41519736e-01, -5.89397475e-01,\n",
       "        -1.67331722e-02,  2.92524013e-02,  4.08598484e-01,\n",
       "        -1.84342682e-02],\n",
       "       [ 5.05142766e-02, -3.78787738e-01, -8.39049666e-02,\n",
       "         1.03802813e-01, -4.23805750e-02, -4.97284681e-02,\n",
       "         2.15279789e-01,  4.63114691e-02, -1.47324050e-01,\n",
       "        -1.20743464e-01, -5.41059634e-02,  8.27578862e-01,\n",
       "        -2.33651075e-02, -2.52095903e-01,  1.22141039e-01,\n",
       "        -2.95573807e-02, -2.46475438e-01, -3.00781243e-01,\n",
       "         1.84011460e-01,  3.43004042e-03,  1.19249751e-01,\n",
       "         1.79577779e-01,  9.13795279e-02, -5.16620548e-02,\n",
       "        -1.13704964e-01,  2.15924591e-01,  1.18726634e-01,\n",
       "        -2.61333693e-01,  1.94419010e-01, -9.84128473e-01,\n",
       "         2.05772105e-03],\n",
       "       [ 6.99069001e-01, -1.35222710e+00,  9.32255043e-02,\n",
       "         6.34281303e-02, -1.14598015e-01,  3.87301180e-02,\n",
       "        -6.03315838e-01,  6.90493199e-03, -4.22620082e-02,\n",
       "         6.27851143e-01, -6.71695046e-01, -1.07934786e-01,\n",
       "         4.65249402e-01, -1.48111639e-01,  1.02098662e-01,\n",
       "         6.23072996e-02, -3.61275450e-01, -4.43990960e-01,\n",
       "         6.95673739e-01, -1.63515556e-01, -7.63436177e-03,\n",
       "         9.15965735e-02,  1.56448077e-01,  1.65067171e-01,\n",
       "         1.29255818e-01,  4.06623760e-01,  3.51635170e-01,\n",
       "         9.19844753e-02,  1.56206184e-01, -1.71842280e-01,\n",
       "         8.54958656e-02],\n",
       "       [ 2.20903906e-01,  4.32089208e-01, -5.21849009e-01,\n",
       "        -1.14985561e-01, -3.54511386e-01,  2.19408656e-01,\n",
       "        -3.51759978e-01, -4.00314436e-01, -2.98587689e-01,\n",
       "        -7.12080056e-01,  4.16780680e-01,  5.44662743e-01,\n",
       "         2.74517045e-02,  5.25588850e-01, -1.79150184e-01,\n",
       "        -2.15847278e-01,  2.35723862e-01,  4.28866658e-01,\n",
       "        -2.13944482e-01,  1.92619041e-01, -1.77390034e-01,\n",
       "        -3.60277724e-03, -5.47567766e-02, -1.01021824e-01,\n",
       "        -1.46468817e-01, -2.73102038e-01,  2.98312283e-01,\n",
       "        -2.42009158e-02, -9.98222708e-02,  5.88106088e-01,\n",
       "         2.97139099e-02],\n",
       "       [-1.50481386e-01,  1.67591429e-01,  8.40547655e-02,\n",
       "        -4.17753649e-02,  5.12502708e-01,  1.58218676e-01,\n",
       "         9.18926973e-02,  1.68672525e-01,  3.42251574e-02,\n",
       "        -5.59317409e-02,  8.10897278e-02, -2.77948042e-01,\n",
       "        -1.34727579e-01, -1.19683533e-01,  1.75647805e-01,\n",
       "         9.35794427e-02,  1.34213414e-01,  3.12500842e-01,\n",
       "        -1.33745839e-01, -3.03311162e-02, -6.67547120e-02,\n",
       "        -1.76396132e-01,  2.11106080e-01, -1.96557037e-01,\n",
       "         3.92543036e-02, -1.70370494e-01, -5.22799322e-01,\n",
       "        -2.78751039e-01, -4.08026349e-02, -4.08397388e-01,\n",
       "        -4.56731071e-02]])"
      ]
     },
     "execution_count": 56,
     "metadata": {},
     "output_type": "execute_result"
    }
   ],
   "source": [
    "sk_derived_X_train = pca.inverse_transform(sk_X_train_transformed)\n",
    "sk_derived_X_train - sk_scaled_X_train"
   ]
  },
  {
   "cell_type": "code",
   "execution_count": 58,
   "metadata": {},
   "outputs": [
    {
     "data": {
      "text/plain": [
       "<AxesSubplot:>"
      ]
     },
     "execution_count": 58,
     "metadata": {},
     "output_type": "execute_result"
    },
    {
     "data": {
      "image/png": "[encoded data removed]",
      "text/plain": [
       "<Figure size 864x432 with 2 Axes>"
      ]
     },
     "metadata": {
      "needs_background": "light"
     },
     "output_type": "display_data"
    }
   ],
   "source": [
    "temp_df3 = pd.DataFrame(pca.components_, columns=X.columns)\n",
    "temp_df3.rename(index={0: \"PC1\", 1: \"PC2\", 2: \"PC3\"}, inplace=True)\n",
    "\n",
    "plt.figure(figsize=(12,6))\n",
    "sns.heatmap(temp_df3,cmap='coolwarm')"
   ]
  },
  {
   "cell_type": "code",
   "execution_count": null,
   "metadata": {},
   "outputs": [],
   "source": []
  },
  {
   "cell_type": "code",
   "execution_count": null,
   "metadata": {},
   "outputs": [],
   "source": []
  },
  {
   "cell_type": "code",
   "execution_count": null,
   "metadata": {},
   "outputs": [],
   "source": []
  }
 ],
 "metadata": {
  "kernelspec": {
   "display_name": "Python 3",
   "language": "python",
   "name": "python3"
  },
  "language_info": {
   "codemirror_mode": {
    "name": "ipython",
    "version": 3
   },
   "file_extension": ".py",
   "mimetype": "text/x-python",
   "name": "python",
   "nbconvert_exporter": "python",
   "pygments_lexer": "ipython3",
   "version": "3.8.5"
  }
 },
 "nbformat": 4,
 "nbformat_minor": 4
}
