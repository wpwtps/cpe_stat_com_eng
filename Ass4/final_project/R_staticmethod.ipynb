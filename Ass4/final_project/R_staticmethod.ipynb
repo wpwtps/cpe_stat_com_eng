{
 "cells": [
  {
   "cell_type": "markdown",
   "id": "spanish-davis",
   "metadata": {},
   "source": [
    "## Anova Single Factor | part 1"
   ]
  },
  {
   "cell_type": "code",
   "execution_count": 25,
   "id": "apart-perfume",
   "metadata": {},
   "outputs": [],
   "source": [
    "df2 <- read.csv(\"hypotest.csv\", sep=\",\", header=T, fileEncoding=\"UTF-8-BOM\")"
   ]
  },
  {
   "cell_type": "code",
   "execution_count": 26,
   "id": "lonely-inquiry",
   "metadata": {},
   "outputs": [
    {
     "data": {
      "text/html": [
       "<table>\n",
       "<thead><tr><th scope=col>year</th><th scope=col>gpp</th><th scope=col>region</th></tr></thead>\n",
       "<tbody>\n",
       "\t<tr><td>2016  </td><td>113717</td><td>1     </td></tr>\n",
       "\t<tr><td>2016  </td><td> 82519</td><td>1     </td></tr>\n",
       "\t<tr><td>2016  </td><td> 85983</td><td>1     </td></tr>\n",
       "\t<tr><td>2016  </td><td> 85121</td><td>1     </td></tr>\n",
       "\t<tr><td>2016  </td><td> 60402</td><td>1     </td></tr>\n",
       "\t<tr><td>2016  </td><td> 74521</td><td>1     </td></tr>\n",
       "\t<tr><td>2016  </td><td> 59711</td><td>1     </td></tr>\n",
       "\t<tr><td>2016  </td><td> 66271</td><td>1     </td></tr>\n",
       "\t<tr><td>2016  </td><td>104394</td><td>1     </td></tr>\n",
       "\t<tr><td>2016  </td><td> 64247</td><td>1     </td></tr>\n",
       "\t<tr><td>2016  </td><td> 56173</td><td>1     </td></tr>\n",
       "\t<tr><td>2016  </td><td> 65925</td><td>1     </td></tr>\n",
       "\t<tr><td>2016  </td><td> 65124</td><td>1     </td></tr>\n",
       "\t<tr><td>2016  </td><td> 66540</td><td>1     </td></tr>\n",
       "\t<tr><td>2016  </td><td> 65917</td><td>1     </td></tr>\n",
       "\t<tr><td>2016  </td><td> 67615</td><td>1     </td></tr>\n",
       "\t<tr><td>2016  </td><td> 67215</td><td>1     </td></tr>\n",
       "\t<tr><td>2016  </td><td> 55953</td><td>1     </td></tr>\n",
       "\t<tr><td>2016  </td><td> 58487</td><td>1     </td></tr>\n",
       "\t<tr><td>2016  </td><td> 66477</td><td>1     </td></tr>\n",
       "\t<tr><td>2016  </td><td>124486</td><td>2     </td></tr>\n",
       "\t<tr><td>2016  </td><td> 94835</td><td>2     </td></tr>\n",
       "\t<tr><td>2016  </td><td> 76804</td><td>2     </td></tr>\n",
       "\t<tr><td>2016  </td><td> 54957</td><td>2     </td></tr>\n",
       "\t<tr><td>2016  </td><td> 86089</td><td>2     </td></tr>\n",
       "\t<tr><td>2016  </td><td> 69142</td><td>2     </td></tr>\n",
       "\t<tr><td>2016  </td><td>178126</td><td>2     </td></tr>\n",
       "\t<tr><td>2016  </td><td> 67788</td><td>2     </td></tr>\n",
       "\t<tr><td>2016  </td><td> 85940</td><td>2     </td></tr>\n",
       "\t<tr><td>2016  </td><td>107357</td><td>2     </td></tr>\n",
       "\t<tr><td>...</td><td>...</td><td>...</td></tr>\n",
       "\t<tr><td>2018   </td><td> 102589</td><td>3      </td></tr>\n",
       "\t<tr><td>2018   </td><td>  62066</td><td>3      </td></tr>\n",
       "\t<tr><td>2018   </td><td>  73213</td><td>3      </td></tr>\n",
       "\t<tr><td>2018   </td><td>  75697</td><td>3      </td></tr>\n",
       "\t<tr><td>2018   </td><td> 566801</td><td>4      </td></tr>\n",
       "\t<tr><td>2018   </td><td> 469539</td><td>4      </td></tr>\n",
       "\t<tr><td>2018   </td><td>1067449</td><td>4      </td></tr>\n",
       "\t<tr><td>2018   </td><td> 161322</td><td>4      </td></tr>\n",
       "\t<tr><td>2018   </td><td> 217393</td><td>4      </td></tr>\n",
       "\t<tr><td>2018   </td><td> 116717</td><td>4      </td></tr>\n",
       "\t<tr><td>2018   </td><td> 513789</td><td>4      </td></tr>\n",
       "\t<tr><td>2018   </td><td>  80716</td><td>4      </td></tr>\n",
       "\t<tr><td>2018   </td><td> 233258</td><td>5      </td></tr>\n",
       "\t<tr><td>2018   </td><td> 129304</td><td>5      </td></tr>\n",
       "\t<tr><td>2018   </td><td> 191306</td><td>5      </td></tr>\n",
       "\t<tr><td>2018   </td><td> 144392</td><td>5      </td></tr>\n",
       "\t<tr><td>2018   </td><td> 107228</td><td>5      </td></tr>\n",
       "\t<tr><td>2018   </td><td> 142808</td><td>5      </td></tr>\n",
       "\t<tr><td>2018   </td><td> 324820</td><td>6      </td></tr>\n",
       "\t<tr><td>2018   </td><td> 145899</td><td>6      </td></tr>\n",
       "\t<tr><td>2018   </td><td> 119850</td><td>6      </td></tr>\n",
       "\t<tr><td>2018   </td><td> 122159</td><td>6      </td></tr>\n",
       "\t<tr><td>2018   </td><td> 142741</td><td>6      </td></tr>\n",
       "\t<tr><td>2018   </td><td> 454953</td><td>6      </td></tr>\n",
       "\t<tr><td>2018   </td><td> 604421</td><td>7      </td></tr>\n",
       "\t<tr><td>2018   </td><td> 366642</td><td>7      </td></tr>\n",
       "\t<tr><td>2018   </td><td> 233593</td><td>7      </td></tr>\n",
       "\t<tr><td>2018   </td><td> 389818</td><td>7      </td></tr>\n",
       "\t<tr><td>2018   </td><td> 294361</td><td>7      </td></tr>\n",
       "\t<tr><td>2018   </td><td> 188822</td><td>7      </td></tr>\n",
       "</tbody>\n",
       "</table>\n"
      ],
      "text/latex": [
       "\\begin{tabular}{r|lll}\n",
       " year & gpp & region\\\\\n",
       "\\hline\n",
       "\t 2016   & 113717 & 1     \\\\\n",
       "\t 2016   &  82519 & 1     \\\\\n",
       "\t 2016   &  85983 & 1     \\\\\n",
       "\t 2016   &  85121 & 1     \\\\\n",
       "\t 2016   &  60402 & 1     \\\\\n",
       "\t 2016   &  74521 & 1     \\\\\n",
       "\t 2016   &  59711 & 1     \\\\\n",
       "\t 2016   &  66271 & 1     \\\\\n",
       "\t 2016   & 104394 & 1     \\\\\n",
       "\t 2016   &  64247 & 1     \\\\\n",
       "\t 2016   &  56173 & 1     \\\\\n",
       "\t 2016   &  65925 & 1     \\\\\n",
       "\t 2016   &  65124 & 1     \\\\\n",
       "\t 2016   &  66540 & 1     \\\\\n",
       "\t 2016   &  65917 & 1     \\\\\n",
       "\t 2016   &  67615 & 1     \\\\\n",
       "\t 2016   &  67215 & 1     \\\\\n",
       "\t 2016   &  55953 & 1     \\\\\n",
       "\t 2016   &  58487 & 1     \\\\\n",
       "\t 2016   &  66477 & 1     \\\\\n",
       "\t 2016   & 124486 & 2     \\\\\n",
       "\t 2016   &  94835 & 2     \\\\\n",
       "\t 2016   &  76804 & 2     \\\\\n",
       "\t 2016   &  54957 & 2     \\\\\n",
       "\t 2016   &  86089 & 2     \\\\\n",
       "\t 2016   &  69142 & 2     \\\\\n",
       "\t 2016   & 178126 & 2     \\\\\n",
       "\t 2016   &  67788 & 2     \\\\\n",
       "\t 2016   &  85940 & 2     \\\\\n",
       "\t 2016   & 107357 & 2     \\\\\n",
       "\t ... & ... & ...\\\\\n",
       "\t 2018    &  102589 & 3      \\\\\n",
       "\t 2018    &   62066 & 3      \\\\\n",
       "\t 2018    &   73213 & 3      \\\\\n",
       "\t 2018    &   75697 & 3      \\\\\n",
       "\t 2018    &  566801 & 4      \\\\\n",
       "\t 2018    &  469539 & 4      \\\\\n",
       "\t 2018    & 1067449 & 4      \\\\\n",
       "\t 2018    &  161322 & 4      \\\\\n",
       "\t 2018    &  217393 & 4      \\\\\n",
       "\t 2018    &  116717 & 4      \\\\\n",
       "\t 2018    &  513789 & 4      \\\\\n",
       "\t 2018    &   80716 & 4      \\\\\n",
       "\t 2018    &  233258 & 5      \\\\\n",
       "\t 2018    &  129304 & 5      \\\\\n",
       "\t 2018    &  191306 & 5      \\\\\n",
       "\t 2018    &  144392 & 5      \\\\\n",
       "\t 2018    &  107228 & 5      \\\\\n",
       "\t 2018    &  142808 & 5      \\\\\n",
       "\t 2018    &  324820 & 6      \\\\\n",
       "\t 2018    &  145899 & 6      \\\\\n",
       "\t 2018    &  119850 & 6      \\\\\n",
       "\t 2018    &  122159 & 6      \\\\\n",
       "\t 2018    &  142741 & 6      \\\\\n",
       "\t 2018    &  454953 & 6      \\\\\n",
       "\t 2018    &  604421 & 7      \\\\\n",
       "\t 2018    &  366642 & 7      \\\\\n",
       "\t 2018    &  233593 & 7      \\\\\n",
       "\t 2018    &  389818 & 7      \\\\\n",
       "\t 2018    &  294361 & 7      \\\\\n",
       "\t 2018    &  188822 & 7      \\\\\n",
       "\\end{tabular}\n"
      ],
      "text/markdown": [
       "\n",
       "| year | gpp | region |\n",
       "|---|---|---|\n",
       "| 2016   | 113717 | 1      |\n",
       "| 2016   |  82519 | 1      |\n",
       "| 2016   |  85983 | 1      |\n",
       "| 2016   |  85121 | 1      |\n",
       "| 2016   |  60402 | 1      |\n",
       "| 2016   |  74521 | 1      |\n",
       "| 2016   |  59711 | 1      |\n",
       "| 2016   |  66271 | 1      |\n",
       "| 2016   | 104394 | 1      |\n",
       "| 2016   |  64247 | 1      |\n",
       "| 2016   |  56173 | 1      |\n",
       "| 2016   |  65925 | 1      |\n",
       "| 2016   |  65124 | 1      |\n",
       "| 2016   |  66540 | 1      |\n",
       "| 2016   |  65917 | 1      |\n",
       "| 2016   |  67615 | 1      |\n",
       "| 2016   |  67215 | 1      |\n",
       "| 2016   |  55953 | 1      |\n",
       "| 2016   |  58487 | 1      |\n",
       "| 2016   |  66477 | 1      |\n",
       "| 2016   | 124486 | 2      |\n",
       "| 2016   |  94835 | 2      |\n",
       "| 2016   |  76804 | 2      |\n",
       "| 2016   |  54957 | 2      |\n",
       "| 2016   |  86089 | 2      |\n",
       "| 2016   |  69142 | 2      |\n",
       "| 2016   | 178126 | 2      |\n",
       "| 2016   |  67788 | 2      |\n",
       "| 2016   |  85940 | 2      |\n",
       "| 2016   | 107357 | 2      |\n",
       "| ... | ... | ... |\n",
       "| 2018    |  102589 | 3       |\n",
       "| 2018    |   62066 | 3       |\n",
       "| 2018    |   73213 | 3       |\n",
       "| 2018    |   75697 | 3       |\n",
       "| 2018    |  566801 | 4       |\n",
       "| 2018    |  469539 | 4       |\n",
       "| 2018    | 1067449 | 4       |\n",
       "| 2018    |  161322 | 4       |\n",
       "| 2018    |  217393 | 4       |\n",
       "| 2018    |  116717 | 4       |\n",
       "| 2018    |  513789 | 4       |\n",
       "| 2018    |   80716 | 4       |\n",
       "| 2018    |  233258 | 5       |\n",
       "| 2018    |  129304 | 5       |\n",
       "| 2018    |  191306 | 5       |\n",
       "| 2018    |  144392 | 5       |\n",
       "| 2018    |  107228 | 5       |\n",
       "| 2018    |  142808 | 5       |\n",
       "| 2018    |  324820 | 6       |\n",
       "| 2018    |  145899 | 6       |\n",
       "| 2018    |  119850 | 6       |\n",
       "| 2018    |  122159 | 6       |\n",
       "| 2018    |  142741 | 6       |\n",
       "| 2018    |  454953 | 6       |\n",
       "| 2018    |  604421 | 7       |\n",
       "| 2018    |  366642 | 7       |\n",
       "| 2018    |  233593 | 7       |\n",
       "| 2018    |  389818 | 7       |\n",
       "| 2018    |  294361 | 7       |\n",
       "| 2018    |  188822 | 7       |\n",
       "\n"
      ],
      "text/plain": [
       "    year gpp     region\n",
       "1   2016 113717  1     \n",
       "2   2016  82519  1     \n",
       "3   2016  85983  1     \n",
       "4   2016  85121  1     \n",
       "5   2016  60402  1     \n",
       "6   2016  74521  1     \n",
       "7   2016  59711  1     \n",
       "8   2016  66271  1     \n",
       "9   2016 104394  1     \n",
       "10  2016  64247  1     \n",
       "11  2016  56173  1     \n",
       "12  2016  65925  1     \n",
       "13  2016  65124  1     \n",
       "14  2016  66540  1     \n",
       "15  2016  65917  1     \n",
       "16  2016  67615  1     \n",
       "17  2016  67215  1     \n",
       "18  2016  55953  1     \n",
       "19  2016  58487  1     \n",
       "20  2016  66477  1     \n",
       "21  2016 124486  2     \n",
       "22  2016  94835  2     \n",
       "23  2016  76804  2     \n",
       "24  2016  54957  2     \n",
       "25  2016  86089  2     \n",
       "26  2016  69142  2     \n",
       "27  2016 178126  2     \n",
       "28  2016  67788  2     \n",
       "29  2016  85940  2     \n",
       "30  2016 107357  2     \n",
       "... ...  ...     ...   \n",
       "125 2018  102589 3     \n",
       "126 2018   62066 3     \n",
       "127 2018   73213 3     \n",
       "128 2018   75697 3     \n",
       "129 2018  566801 4     \n",
       "130 2018  469539 4     \n",
       "131 2018 1067449 4     \n",
       "132 2018  161322 4     \n",
       "133 2018  217393 4     \n",
       "134 2018  116717 4     \n",
       "135 2018  513789 4     \n",
       "136 2018   80716 4     \n",
       "137 2018  233258 5     \n",
       "138 2018  129304 5     \n",
       "139 2018  191306 5     \n",
       "140 2018  144392 5     \n",
       "141 2018  107228 5     \n",
       "142 2018  142808 5     \n",
       "143 2018  324820 6     \n",
       "144 2018  145899 6     \n",
       "145 2018  119850 6     \n",
       "146 2018  122159 6     \n",
       "147 2018  142741 6     \n",
       "148 2018  454953 6     \n",
       "149 2018  604421 7     \n",
       "150 2018  366642 7     \n",
       "151 2018  233593 7     \n",
       "152 2018  389818 7     \n",
       "153 2018  294361 7     \n",
       "154 2018  188822 7     "
      ]
     },
     "metadata": {},
     "output_type": "display_data"
    }
   ],
   "source": [
    "df2"
   ]
  },
  {
   "cell_type": "code",
   "execution_count": 32,
   "id": "precise-sociology",
   "metadata": {},
   "outputs": [
    {
     "data": {
      "text/plain": [
       "             Df    Sum Sq   Mean Sq F value   Pr(>F)    \n",
       "regFactor     6 1.556e+12 2.594e+11   18.35 7.64e-16 ***\n",
       "Residuals   147 2.078e+12 1.413e+10                     \n",
       "---\n",
       "Signif. codes:  0 '***' 0.001 '**' 0.01 '*' 0.05 '.' 0.1 ' ' 1"
      ]
     },
     "metadata": {},
     "output_type": "display_data"
    }
   ],
   "source": [
    "regFactor <- factor(df2$region)\n",
    "anovaResult <- aov(df2$gpp~regFactor, data=df2)\n",
    "summary(anovaResult)"
   ]
  },
  {
   "cell_type": "code",
   "execution_count": 34,
   "id": "anonymous-mediterranean",
   "metadata": {},
   "outputs": [
    {
     "data": {
      "text/html": [
       "2.92273471049229"
      ],
      "text/latex": [
       "2.92273471049229"
      ],
      "text/markdown": [
       "2.92273471049229"
      ],
      "text/plain": [
       "[1] 2.922735"
      ]
     },
     "metadata": {},
     "output_type": "display_data"
    }
   ],
   "source": [
    "qf(0.99, 6,152)"
   ]
  },
  {
   "cell_type": "code",
   "execution_count": 35,
   "id": "laden-wrong",
   "metadata": {},
   "outputs": [
    {
     "data": {
      "text/html": [
       "4.98250969005622"
      ],
      "text/latex": [
       "4.98250969005622"
      ],
      "text/markdown": [
       "4.98250969005622"
      ],
      "text/plain": [
       "[1] 4.98251"
      ]
     },
     "metadata": {},
     "output_type": "display_data"
    }
   ],
   "source": [
    "qtukey(0.01, nmeans=anovaResult$rank, df=anovaResult$df.residual, lower.tail=F)"
   ]
  },
  {
   "cell_type": "code",
   "execution_count": 36,
   "id": "interpreted-immune",
   "metadata": {},
   "outputs": [
    {
     "data": {
      "image/png": "[encoded data removed]",
      "text/plain": [
       "Plot with title \"99% family-wise confidence level\n",
       "\""
      ]
     },
     "metadata": {},
     "output_type": "display_data"
    }
   ],
   "source": [
    "tk <- TukeyHSD(anovaResult, conf.level = 0.99)\n",
    "plot(tk)"
   ]
  },
  {
   "cell_type": "code",
   "execution_count": null,
   "id": "dangerous-leone",
   "metadata": {},
   "outputs": [],
   "source": []
  },
  {
   "cell_type": "code",
   "execution_count": null,
   "id": "previous-reggae",
   "metadata": {},
   "outputs": [],
   "source": []
  },
  {
   "cell_type": "markdown",
   "id": "fresh-infection",
   "metadata": {},
   "source": [
    "## hypothesis | part 1"
   ]
  },
  {
   "cell_type": "code",
   "execution_count": 13,
   "id": "nasty-width",
   "metadata": {},
   "outputs": [],
   "source": [
    "df <- read.csv(\"hypotest.csv\", sep=\",\", header=T, fileEncoding=\"UTF-8-BOM\")"
   ]
  },
  {
   "cell_type": "code",
   "execution_count": 14,
   "id": "independent-digest",
   "metadata": {},
   "outputs": [
    {
     "data": {
      "text/html": [
       "<table>\n",
       "<thead><tr><th scope=col>year</th><th scope=col>gpp</th><th scope=col>region</th></tr></thead>\n",
       "<tbody>\n",
       "\t<tr><td>2016  </td><td>113717</td><td>1     </td></tr>\n",
       "\t<tr><td>2016  </td><td> 82519</td><td>1     </td></tr>\n",
       "\t<tr><td>2016  </td><td> 85983</td><td>1     </td></tr>\n",
       "\t<tr><td>2016  </td><td> 85121</td><td>1     </td></tr>\n",
       "\t<tr><td>2016  </td><td> 60402</td><td>1     </td></tr>\n",
       "\t<tr><td>2016  </td><td> 74521</td><td>1     </td></tr>\n",
       "\t<tr><td>2016  </td><td> 59711</td><td>1     </td></tr>\n",
       "\t<tr><td>2016  </td><td> 66271</td><td>1     </td></tr>\n",
       "\t<tr><td>2016  </td><td>104394</td><td>1     </td></tr>\n",
       "\t<tr><td>2016  </td><td> 64247</td><td>1     </td></tr>\n",
       "\t<tr><td>2016  </td><td> 56173</td><td>1     </td></tr>\n",
       "\t<tr><td>2016  </td><td> 65925</td><td>1     </td></tr>\n",
       "\t<tr><td>2016  </td><td> 65124</td><td>1     </td></tr>\n",
       "\t<tr><td>2016  </td><td> 66540</td><td>1     </td></tr>\n",
       "\t<tr><td>2016  </td><td> 65917</td><td>1     </td></tr>\n",
       "\t<tr><td>2016  </td><td> 67615</td><td>1     </td></tr>\n",
       "\t<tr><td>2016  </td><td> 67215</td><td>1     </td></tr>\n",
       "\t<tr><td>2016  </td><td> 55953</td><td>1     </td></tr>\n",
       "\t<tr><td>2016  </td><td> 58487</td><td>1     </td></tr>\n",
       "\t<tr><td>2016  </td><td> 66477</td><td>1     </td></tr>\n",
       "\t<tr><td>2016  </td><td>124486</td><td>2     </td></tr>\n",
       "\t<tr><td>2016  </td><td> 94835</td><td>2     </td></tr>\n",
       "\t<tr><td>2016  </td><td> 76804</td><td>2     </td></tr>\n",
       "\t<tr><td>2016  </td><td> 54957</td><td>2     </td></tr>\n",
       "\t<tr><td>2016  </td><td> 86089</td><td>2     </td></tr>\n",
       "\t<tr><td>2016  </td><td> 69142</td><td>2     </td></tr>\n",
       "\t<tr><td>2016  </td><td>178126</td><td>2     </td></tr>\n",
       "\t<tr><td>2016  </td><td> 67788</td><td>2     </td></tr>\n",
       "\t<tr><td>2016  </td><td> 85940</td><td>2     </td></tr>\n",
       "\t<tr><td>2016  </td><td>107357</td><td>2     </td></tr>\n",
       "\t<tr><td>...</td><td>...</td><td>...</td></tr>\n",
       "\t<tr><td>2018   </td><td> 102589</td><td>3      </td></tr>\n",
       "\t<tr><td>2018   </td><td>  62066</td><td>3      </td></tr>\n",
       "\t<tr><td>2018   </td><td>  73213</td><td>3      </td></tr>\n",
       "\t<tr><td>2018   </td><td>  75697</td><td>3      </td></tr>\n",
       "\t<tr><td>2018   </td><td> 566801</td><td>4      </td></tr>\n",
       "\t<tr><td>2018   </td><td> 469539</td><td>4      </td></tr>\n",
       "\t<tr><td>2018   </td><td>1067449</td><td>4      </td></tr>\n",
       "\t<tr><td>2018   </td><td> 161322</td><td>4      </td></tr>\n",
       "\t<tr><td>2018   </td><td> 217393</td><td>4      </td></tr>\n",
       "\t<tr><td>2018   </td><td> 116717</td><td>4      </td></tr>\n",
       "\t<tr><td>2018   </td><td> 513789</td><td>4      </td></tr>\n",
       "\t<tr><td>2018   </td><td>  80716</td><td>4      </td></tr>\n",
       "\t<tr><td>2018   </td><td> 233258</td><td>5      </td></tr>\n",
       "\t<tr><td>2018   </td><td> 129304</td><td>5      </td></tr>\n",
       "\t<tr><td>2018   </td><td> 191306</td><td>5      </td></tr>\n",
       "\t<tr><td>2018   </td><td> 144392</td><td>5      </td></tr>\n",
       "\t<tr><td>2018   </td><td> 107228</td><td>5      </td></tr>\n",
       "\t<tr><td>2018   </td><td> 142808</td><td>5      </td></tr>\n",
       "\t<tr><td>2018   </td><td> 324820</td><td>6      </td></tr>\n",
       "\t<tr><td>2018   </td><td> 145899</td><td>6      </td></tr>\n",
       "\t<tr><td>2018   </td><td> 119850</td><td>6      </td></tr>\n",
       "\t<tr><td>2018   </td><td> 122159</td><td>6      </td></tr>\n",
       "\t<tr><td>2018   </td><td> 142741</td><td>6      </td></tr>\n",
       "\t<tr><td>2018   </td><td> 454953</td><td>6      </td></tr>\n",
       "\t<tr><td>2018   </td><td> 604421</td><td>7      </td></tr>\n",
       "\t<tr><td>2018   </td><td> 366642</td><td>7      </td></tr>\n",
       "\t<tr><td>2018   </td><td> 233593</td><td>7      </td></tr>\n",
       "\t<tr><td>2018   </td><td> 389818</td><td>7      </td></tr>\n",
       "\t<tr><td>2018   </td><td> 294361</td><td>7      </td></tr>\n",
       "\t<tr><td>2018   </td><td> 188822</td><td>7      </td></tr>\n",
       "</tbody>\n",
       "</table>\n"
      ],
      "text/latex": [
       "\\begin{tabular}{r|lll}\n",
       " year & gpp & region\\\\\n",
       "\\hline\n",
       "\t 2016   & 113717 & 1     \\\\\n",
       "\t 2016   &  82519 & 1     \\\\\n",
       "\t 2016   &  85983 & 1     \\\\\n",
       "\t 2016   &  85121 & 1     \\\\\n",
       "\t 2016   &  60402 & 1     \\\\\n",
       "\t 2016   &  74521 & 1     \\\\\n",
       "\t 2016   &  59711 & 1     \\\\\n",
       "\t 2016   &  66271 & 1     \\\\\n",
       "\t 2016   & 104394 & 1     \\\\\n",
       "\t 2016   &  64247 & 1     \\\\\n",
       "\t 2016   &  56173 & 1     \\\\\n",
       "\t 2016   &  65925 & 1     \\\\\n",
       "\t 2016   &  65124 & 1     \\\\\n",
       "\t 2016   &  66540 & 1     \\\\\n",
       "\t 2016   &  65917 & 1     \\\\\n",
       "\t 2016   &  67615 & 1     \\\\\n",
       "\t 2016   &  67215 & 1     \\\\\n",
       "\t 2016   &  55953 & 1     \\\\\n",
       "\t 2016   &  58487 & 1     \\\\\n",
       "\t 2016   &  66477 & 1     \\\\\n",
       "\t 2016   & 124486 & 2     \\\\\n",
       "\t 2016   &  94835 & 2     \\\\\n",
       "\t 2016   &  76804 & 2     \\\\\n",
       "\t 2016   &  54957 & 2     \\\\\n",
       "\t 2016   &  86089 & 2     \\\\\n",
       "\t 2016   &  69142 & 2     \\\\\n",
       "\t 2016   & 178126 & 2     \\\\\n",
       "\t 2016   &  67788 & 2     \\\\\n",
       "\t 2016   &  85940 & 2     \\\\\n",
       "\t 2016   & 107357 & 2     \\\\\n",
       "\t ... & ... & ...\\\\\n",
       "\t 2018    &  102589 & 3      \\\\\n",
       "\t 2018    &   62066 & 3      \\\\\n",
       "\t 2018    &   73213 & 3      \\\\\n",
       "\t 2018    &   75697 & 3      \\\\\n",
       "\t 2018    &  566801 & 4      \\\\\n",
       "\t 2018    &  469539 & 4      \\\\\n",
       "\t 2018    & 1067449 & 4      \\\\\n",
       "\t 2018    &  161322 & 4      \\\\\n",
       "\t 2018    &  217393 & 4      \\\\\n",
       "\t 2018    &  116717 & 4      \\\\\n",
       "\t 2018    &  513789 & 4      \\\\\n",
       "\t 2018    &   80716 & 4      \\\\\n",
       "\t 2018    &  233258 & 5      \\\\\n",
       "\t 2018    &  129304 & 5      \\\\\n",
       "\t 2018    &  191306 & 5      \\\\\n",
       "\t 2018    &  144392 & 5      \\\\\n",
       "\t 2018    &  107228 & 5      \\\\\n",
       "\t 2018    &  142808 & 5      \\\\\n",
       "\t 2018    &  324820 & 6      \\\\\n",
       "\t 2018    &  145899 & 6      \\\\\n",
       "\t 2018    &  119850 & 6      \\\\\n",
       "\t 2018    &  122159 & 6      \\\\\n",
       "\t 2018    &  142741 & 6      \\\\\n",
       "\t 2018    &  454953 & 6      \\\\\n",
       "\t 2018    &  604421 & 7      \\\\\n",
       "\t 2018    &  366642 & 7      \\\\\n",
       "\t 2018    &  233593 & 7      \\\\\n",
       "\t 2018    &  389818 & 7      \\\\\n",
       "\t 2018    &  294361 & 7      \\\\\n",
       "\t 2018    &  188822 & 7      \\\\\n",
       "\\end{tabular}\n"
      ],
      "text/markdown": [
       "\n",
       "| year | gpp | region |\n",
       "|---|---|---|\n",
       "| 2016   | 113717 | 1      |\n",
       "| 2016   |  82519 | 1      |\n",
       "| 2016   |  85983 | 1      |\n",
       "| 2016   |  85121 | 1      |\n",
       "| 2016   |  60402 | 1      |\n",
       "| 2016   |  74521 | 1      |\n",
       "| 2016   |  59711 | 1      |\n",
       "| 2016   |  66271 | 1      |\n",
       "| 2016   | 104394 | 1      |\n",
       "| 2016   |  64247 | 1      |\n",
       "| 2016   |  56173 | 1      |\n",
       "| 2016   |  65925 | 1      |\n",
       "| 2016   |  65124 | 1      |\n",
       "| 2016   |  66540 | 1      |\n",
       "| 2016   |  65917 | 1      |\n",
       "| 2016   |  67615 | 1      |\n",
       "| 2016   |  67215 | 1      |\n",
       "| 2016   |  55953 | 1      |\n",
       "| 2016   |  58487 | 1      |\n",
       "| 2016   |  66477 | 1      |\n",
       "| 2016   | 124486 | 2      |\n",
       "| 2016   |  94835 | 2      |\n",
       "| 2016   |  76804 | 2      |\n",
       "| 2016   |  54957 | 2      |\n",
       "| 2016   |  86089 | 2      |\n",
       "| 2016   |  69142 | 2      |\n",
       "| 2016   | 178126 | 2      |\n",
       "| 2016   |  67788 | 2      |\n",
       "| 2016   |  85940 | 2      |\n",
       "| 2016   | 107357 | 2      |\n",
       "| ... | ... | ... |\n",
       "| 2018    |  102589 | 3       |\n",
       "| 2018    |   62066 | 3       |\n",
       "| 2018    |   73213 | 3       |\n",
       "| 2018    |   75697 | 3       |\n",
       "| 2018    |  566801 | 4       |\n",
       "| 2018    |  469539 | 4       |\n",
       "| 2018    | 1067449 | 4       |\n",
       "| 2018    |  161322 | 4       |\n",
       "| 2018    |  217393 | 4       |\n",
       "| 2018    |  116717 | 4       |\n",
       "| 2018    |  513789 | 4       |\n",
       "| 2018    |   80716 | 4       |\n",
       "| 2018    |  233258 | 5       |\n",
       "| 2018    |  129304 | 5       |\n",
       "| 2018    |  191306 | 5       |\n",
       "| 2018    |  144392 | 5       |\n",
       "| 2018    |  107228 | 5       |\n",
       "| 2018    |  142808 | 5       |\n",
       "| 2018    |  324820 | 6       |\n",
       "| 2018    |  145899 | 6       |\n",
       "| 2018    |  119850 | 6       |\n",
       "| 2018    |  122159 | 6       |\n",
       "| 2018    |  142741 | 6       |\n",
       "| 2018    |  454953 | 6       |\n",
       "| 2018    |  604421 | 7       |\n",
       "| 2018    |  366642 | 7       |\n",
       "| 2018    |  233593 | 7       |\n",
       "| 2018    |  389818 | 7       |\n",
       "| 2018    |  294361 | 7       |\n",
       "| 2018    |  188822 | 7       |\n",
       "\n"
      ],
      "text/plain": [
       "    year gpp     region\n",
       "1   2016 113717  1     \n",
       "2   2016  82519  1     \n",
       "3   2016  85983  1     \n",
       "4   2016  85121  1     \n",
       "5   2016  60402  1     \n",
       "6   2016  74521  1     \n",
       "7   2016  59711  1     \n",
       "8   2016  66271  1     \n",
       "9   2016 104394  1     \n",
       "10  2016  64247  1     \n",
       "11  2016  56173  1     \n",
       "12  2016  65925  1     \n",
       "13  2016  65124  1     \n",
       "14  2016  66540  1     \n",
       "15  2016  65917  1     \n",
       "16  2016  67615  1     \n",
       "17  2016  67215  1     \n",
       "18  2016  55953  1     \n",
       "19  2016  58487  1     \n",
       "20  2016  66477  1     \n",
       "21  2016 124486  2     \n",
       "22  2016  94835  2     \n",
       "23  2016  76804  2     \n",
       "24  2016  54957  2     \n",
       "25  2016  86089  2     \n",
       "26  2016  69142  2     \n",
       "27  2016 178126  2     \n",
       "28  2016  67788  2     \n",
       "29  2016  85940  2     \n",
       "30  2016 107357  2     \n",
       "... ...  ...     ...   \n",
       "125 2018  102589 3     \n",
       "126 2018   62066 3     \n",
       "127 2018   73213 3     \n",
       "128 2018   75697 3     \n",
       "129 2018  566801 4     \n",
       "130 2018  469539 4     \n",
       "131 2018 1067449 4     \n",
       "132 2018  161322 4     \n",
       "133 2018  217393 4     \n",
       "134 2018  116717 4     \n",
       "135 2018  513789 4     \n",
       "136 2018   80716 4     \n",
       "137 2018  233258 5     \n",
       "138 2018  129304 5     \n",
       "139 2018  191306 5     \n",
       "140 2018  144392 5     \n",
       "141 2018  107228 5     \n",
       "142 2018  142808 5     \n",
       "143 2018  324820 6     \n",
       "144 2018  145899 6     \n",
       "145 2018  119850 6     \n",
       "146 2018  122159 6     \n",
       "147 2018  142741 6     \n",
       "148 2018  454953 6     \n",
       "149 2018  604421 7     \n",
       "150 2018  366642 7     \n",
       "151 2018  233593 7     \n",
       "152 2018  389818 7     \n",
       "153 2018  294361 7     \n",
       "154 2018  188822 7     "
      ]
     },
     "metadata": {},
     "output_type": "display_data"
    }
   ],
   "source": [
    "df"
   ]
  },
  {
   "cell_type": "code",
   "execution_count": 16,
   "id": "still-fitting",
   "metadata": {},
   "outputs": [
    {
     "data": {
      "text/plain": [
       "             Df    Sum Sq   Mean Sq F value   Pr(>F)    \n",
       "x1            1 8.855e+09 8.855e+09   0.601    0.440    \n",
       "x2            6 1.556e+12 2.594e+11  17.596 4.04e-15 ***\n",
       "x1:x2         6 5.285e+09 8.808e+08   0.060    0.999    \n",
       "Residuals   140 2.064e+12 1.474e+10                     \n",
       "---\n",
       "Signif. codes:  0 '***' 0.001 '**' 0.01 '*' 0.05 '.' 0.1 ' ' 1"
      ]
     },
     "metadata": {},
     "output_type": "display_data"
    }
   ],
   "source": [
    "x1 <- factor(df$year)\n",
    "x2 <- factor(df$region)\n",
    "anovaResult <- aov(df$gpp ~ x1*x2, data=df)\n",
    "summary(anovaResult)"
   ]
  },
  {
   "cell_type": "code",
   "execution_count": 17,
   "id": "cheap-theology",
   "metadata": {},
   "outputs": [],
   "source": [
    "attach(df)"
   ]
  },
  {
   "cell_type": "code",
   "execution_count": 18,
   "id": "natural-policy",
   "metadata": {},
   "outputs": [
    {
     "data": {
      "text/html": [
       "<ol class=list-inline>\n",
       "\t<li>'year'</li>\n",
       "\t<li>'gpp'</li>\n",
       "\t<li>'region'</li>\n",
       "</ol>\n"
      ],
      "text/latex": [
       "\\begin{enumerate*}\n",
       "\\item 'year'\n",
       "\\item 'gpp'\n",
       "\\item 'region'\n",
       "\\end{enumerate*}\n"
      ],
      "text/markdown": [
       "1. 'year'\n",
       "2. 'gpp'\n",
       "3. 'region'\n",
       "\n",
       "\n"
      ],
      "text/plain": [
       "[1] \"year\"   \"gpp\"    \"region\""
      ]
     },
     "metadata": {},
     "output_type": "display_data"
    }
   ],
   "source": [
    "names(df)"
   ]
  },
  {
   "cell_type": "code",
   "execution_count": 20,
   "id": "velvet-musical",
   "metadata": {},
   "outputs": [
    {
     "data": {
      "text/html": [
       "'integer'"
      ],
      "text/latex": [
       "'integer'"
      ],
      "text/markdown": [
       "'integer'"
      ],
      "text/plain": [
       "[1] \"integer\""
      ]
     },
     "metadata": {},
     "output_type": "display_data"
    }
   ],
   "source": [
    "class(year)"
   ]
  },
  {
   "cell_type": "code",
   "execution_count": 22,
   "id": "forced-arabic",
   "metadata": {},
   "outputs": [
    {
     "data": {
      "text/plain": [
       "NULL"
      ]
     },
     "metadata": {},
     "output_type": "display_data"
    }
   ],
   "source": [
    "levels(year)"
   ]
  },
  {
   "cell_type": "code",
   "execution_count": 24,
   "id": "artificial-soccer",
   "metadata": {},
   "outputs": [
    {
     "data": {
      "text/plain": [
       "\n",
       "\tWelch Two Sample t-test\n",
       "\n",
       "data:  gpp[year == 2016] and gpp[year == 2018]\n",
       "t = -0.60932, df = 150.44, p-value = 0.5432\n",
       "alternative hypothesis: true difference in means is not equal to 0\n",
       "95 percent confidence interval:\n",
       " -64343.96  34012.60\n",
       "sample estimates:\n",
       "mean of x mean of y \n",
       " 154341.0  169506.6 \n"
      ]
     },
     "metadata": {},
     "output_type": "display_data"
    }
   ],
   "source": [
    "t.test(gpp[year==2016], gpp[year==2018])"
   ]
  },
  {
   "cell_type": "code",
   "execution_count": 42,
   "id": "robust-korea",
   "metadata": {},
   "outputs": [
    {
     "name": "stderr",
     "output_type": "stream",
     "text": [
      "also installing the dependencies 'isoband', 'cpp11', 'ggplot2', 'tidyr', 'broom', 'corrplot', 'ggrepel', 'ggsci', 'cowplot', 'ggsignif', 'gridExtra', 'polynom', 'rstatix'\n",
      "\n"
     ]
    },
    {
     "name": "stdout",
     "output_type": "stream",
     "text": [
      "package 'isoband' successfully unpacked and MD5 sums checked\n",
      "package 'cpp11' successfully unpacked and MD5 sums checked\n",
      "package 'ggplot2' successfully unpacked and MD5 sums checked\n",
      "package 'tidyr' successfully unpacked and MD5 sums checked\n",
      "package 'broom' successfully unpacked and MD5 sums checked\n",
      "package 'corrplot' successfully unpacked and MD5 sums checked\n",
      "package 'ggrepel' successfully unpacked and MD5 sums checked\n",
      "package 'ggsci' successfully unpacked and MD5 sums checked\n",
      "package 'cowplot' successfully unpacked and MD5 sums checked\n",
      "package 'ggsignif' successfully unpacked and MD5 sums checked\n",
      "package 'gridExtra' successfully unpacked and MD5 sums checked\n",
      "package 'polynom' successfully unpacked and MD5 sums checked\n",
      "package 'rstatix' successfully unpacked and MD5 sums checked\n",
      "package 'ggpubr' successfully unpacked and MD5 sums checked\n",
      "\n",
      "The downloaded binary packages are in\n",
      "\tC:\\Users\\User\\AppData\\Local\\Temp\\RtmpimwYRw\\downloaded_packages\n"
     ]
    }
   ],
   "source": [
    "install.packages(\"ggpubr\")"
   ]
  },
  {
   "cell_type": "code",
   "execution_count": 37,
   "id": "broke-spine",
   "metadata": {},
   "outputs": [
    {
     "name": "stderr",
     "output_type": "stream",
     "text": [
      "also installing the dependencies 'pillar', 'glue', 'tibble', 'tidyselect'\n",
      "\n"
     ]
    },
    {
     "name": "stdout",
     "output_type": "stream",
     "text": [
      "package 'pillar' successfully unpacked and MD5 sums checked\n",
      "package 'glue' successfully unpacked and MD5 sums checked\n",
      "package 'tibble' successfully unpacked and MD5 sums checked\n",
      "package 'tidyselect' successfully unpacked and MD5 sums checked\n",
      "package 'dplyr' successfully unpacked and MD5 sums checked\n",
      "\n",
      "The downloaded binary packages are in\n",
      "\tC:\\Users\\User\\AppData\\Local\\Temp\\RtmpimwYRw\\downloaded_packages\n"
     ]
    }
   ],
   "source": [
    "install.packages(\"dplyr\")"
   ]
  },
  {
   "cell_type": "code",
   "execution_count": 39,
   "id": "liquid-evolution",
   "metadata": {},
   "outputs": [
    {
     "data": {
      "text/html": [
       "<table>\n",
       "<thead><tr><th scope=col>region</th><th scope=col>count</th><th scope=col>mean</th><th scope=col>sd</th></tr></thead>\n",
       "<tbody>\n",
       "\t<tr><td>1        </td><td>40       </td><td> 74684.23</td><td> 16829.65</td></tr>\n",
       "\t<tr><td>2        </td><td>34       </td><td>100185.18</td><td> 32650.68</td></tr>\n",
       "\t<tr><td>3        </td><td>28       </td><td>149673.25</td><td> 88034.84</td></tr>\n",
       "\t<tr><td>4        </td><td>16       </td><td>376220.38</td><td>305817.01</td></tr>\n",
       "\t<tr><td>5        </td><td>12       </td><td>149887.17</td><td> 45383.23</td></tr>\n",
       "\t<tr><td>6        </td><td>12       </td><td>211161.08</td><td>135398.23</td></tr>\n",
       "\t<tr><td>7        </td><td>12       </td><td>333303.67</td><td>133205.54</td></tr>\n",
       "</tbody>\n",
       "</table>\n"
      ],
      "text/latex": [
       "\\begin{tabular}{r|llll}\n",
       " region & count & mean & sd\\\\\n",
       "\\hline\n",
       "\t 1         & 40        &  74684.23 &  16829.65\\\\\n",
       "\t 2         & 34        & 100185.18 &  32650.68\\\\\n",
       "\t 3         & 28        & 149673.25 &  88034.84\\\\\n",
       "\t 4         & 16        & 376220.38 & 305817.01\\\\\n",
       "\t 5         & 12        & 149887.17 &  45383.23\\\\\n",
       "\t 6         & 12        & 211161.08 & 135398.23\\\\\n",
       "\t 7         & 12        & 333303.67 & 133205.54\\\\\n",
       "\\end{tabular}\n"
      ],
      "text/markdown": [
       "\n",
       "| region | count | mean | sd |\n",
       "|---|---|---|---|\n",
       "| 1         | 40        |  74684.23 |  16829.65 |\n",
       "| 2         | 34        | 100185.18 |  32650.68 |\n",
       "| 3         | 28        | 149673.25 |  88034.84 |\n",
       "| 4         | 16        | 376220.38 | 305817.01 |\n",
       "| 5         | 12        | 149887.17 |  45383.23 |\n",
       "| 6         | 12        | 211161.08 | 135398.23 |\n",
       "| 7         | 12        | 333303.67 | 133205.54 |\n",
       "\n"
      ],
      "text/plain": [
       "  region count mean      sd       \n",
       "1 1      40     74684.23  16829.65\n",
       "2 2      34    100185.18  32650.68\n",
       "3 3      28    149673.25  88034.84\n",
       "4 4      16    376220.38 305817.01\n",
       "5 5      12    149887.17  45383.23\n",
       "6 6      12    211161.08 135398.23\n",
       "7 7      12    333303.67 133205.54"
      ]
     },
     "metadata": {},
     "output_type": "display_data"
    }
   ],
   "source": [
    "library(dplyr)\n",
    "group_by(df, region) %>%\n",
    "  summarise(\n",
    "    count = n(),\n",
    "    mean = mean(gpp, na.rm = TRUE),\n",
    "    sd = sd(gpp, na.rm = TRUE)\n",
    "  )"
   ]
  },
  {
   "cell_type": "code",
   "execution_count": 45,
   "id": "immune-graphics",
   "metadata": {},
   "outputs": [
    {
     "data": {
      "image/png": "[encoded data removed]",
      "text/plain": [
       "plot without title"
      ]
     },
     "metadata": {},
     "output_type": "display_data"
    }
   ],
   "source": [
    "library(\"ggpubr\")\n",
    "ggboxplot(df, x = \"region\", y = \"gpp\", \n",
    "          color = \"region\", palette = c(\"#00AFBB\", \"#E7B800\", \"#00FFFF\", \"#0000FF\", \"#FF00AA\", \"#AAFF00\", \"#FFFA50\"),\n",
    "        ylab = \"gpp\", xlab = \"region\")"
   ]
  },
  {
   "cell_type": "code",
   "execution_count": 54,
   "id": "incredible-heaven",
   "metadata": {},
   "outputs": [],
   "source": [
    "df <- read.csv(\"hypo23.csv\", sep=\",\", header=T, fileEncoding=\"UTF-8-BOM\")"
   ]
  },
  {
   "cell_type": "code",
   "execution_count": 55,
   "id": "tropical-grade",
   "metadata": {},
   "outputs": [
    {
     "data": {
      "text/plain": [
       "            Df    Sum Sq   Mean Sq F value Pr(>F)  \n",
       "x1           1 2.452e+09 2.452e+09   0.124 0.7280  \n",
       "x2           1 8.951e+10 8.951e+10   4.542 0.0457 *\n",
       "x1:x2        1 1.970e+08 1.970e+08   0.010 0.9214  \n",
       "Residuals   20 3.942e+11 1.971e+10                 \n",
       "---\n",
       "Signif. codes:  0 '***' 0.001 '**' 0.01 '*' 0.05 '.' 0.1 ' ' 1"
      ]
     },
     "metadata": {},
     "output_type": "display_data"
    }
   ],
   "source": [
    "x1 <- factor(df$year)\n",
    "x2 <- factor(df$region)\n",
    "anovaResult <- aov(df$gpp ~ x1*x2, data=df)\n",
    "summary(anovaResult)"
   ]
  },
  {
   "cell_type": "code",
   "execution_count": 56,
   "id": "occupational-dictionary",
   "metadata": {},
   "outputs": [
    {
     "data": {
      "text/html": [
       "<table>\n",
       "<thead><tr><th scope=col>region</th><th scope=col>count</th><th scope=col>mean</th><th scope=col>sd</th></tr></thead>\n",
       "<tbody>\n",
       "\t<tr><td>6       </td><td>12      </td><td>211161.1</td><td>135398.2</td></tr>\n",
       "\t<tr><td>7       </td><td>12      </td><td>333303.7</td><td>133205.5</td></tr>\n",
       "</tbody>\n",
       "</table>\n"
      ],
      "text/latex": [
       "\\begin{tabular}{r|llll}\n",
       " region & count & mean & sd\\\\\n",
       "\\hline\n",
       "\t 6        & 12       & 211161.1 & 135398.2\\\\\n",
       "\t 7        & 12       & 333303.7 & 133205.5\\\\\n",
       "\\end{tabular}\n"
      ],
      "text/markdown": [
       "\n",
       "| region | count | mean | sd |\n",
       "|---|---|---|---|\n",
       "| 6        | 12       | 211161.1 | 135398.2 |\n",
       "| 7        | 12       | 333303.7 | 133205.5 |\n",
       "\n"
      ],
      "text/plain": [
       "  region count mean     sd      \n",
       "1 6      12    211161.1 135398.2\n",
       "2 7      12    333303.7 133205.5"
      ]
     },
     "metadata": {},
     "output_type": "display_data"
    }
   ],
   "source": [
    "library(dplyr)\n",
    "group_by(df, region) %>%\n",
    "  summarise(\n",
    "    count = n(),\n",
    "    mean = mean(gpp, na.rm = TRUE),\n",
    "    sd = sd(gpp, na.rm = TRUE)\n",
    "  )"
   ]
  },
  {
   "cell_type": "code",
   "execution_count": 57,
   "id": "funky-analysis",
   "metadata": {},
   "outputs": [
    {
     "data": {
      "image/png": "[encoded data removed]",
      "text/plain": [
       "plot without title"
      ]
     },
     "metadata": {},
     "output_type": "display_data"
    }
   ],
   "source": [
    "library(\"ggpubr\")\n",
    "ggboxplot(df, x = \"region\", y = \"gpp\", \n",
    "          color = \"region\", palette = c(\"#00AFBB\", \"#E7B800\"),\n",
    "        ylab = \"gpp\", xlab = \"region\")"
   ]
  },
  {
   "cell_type": "code",
   "execution_count": 59,
   "id": "gentle-option",
   "metadata": {},
   "outputs": [
    {
     "data": {
      "text/plain": [
       "            Df    Sum Sq   Mean Sq F value Pr(>F)  \n",
       "x1           1 2.452e+09 2.452e+09   0.131 0.7215  \n",
       "x2           1 8.951e+10 8.951e+10   4.766 0.0405 *\n",
       "Residuals   21 3.944e+11 1.878e+10                 \n",
       "---\n",
       "Signif. codes:  0 '***' 0.001 '**' 0.01 '*' 0.05 '.' 0.1 ' ' 1"
      ]
     },
     "metadata": {},
     "output_type": "display_data"
    }
   ],
   "source": [
    "x1 <- factor(df$year)\n",
    "x2 <- factor(df$region)\n",
    "anovaResult <- aov(df$gpp ~ x1+x2, data=df)\n",
    "summary(anovaResult)"
   ]
  },
  {
   "cell_type": "code",
   "execution_count": null,
   "id": "champion-opera",
   "metadata": {},
   "outputs": [],
   "source": []
  },
  {
   "cell_type": "markdown",
   "id": "literary-spirit",
   "metadata": {},
   "source": [
    "## Anova Single Factor | part 2"
   ]
  },
  {
   "cell_type": "code",
   "execution_count": 66,
   "id": "induced-dryer",
   "metadata": {},
   "outputs": [],
   "source": [
    "df3 <- read.csv(\"anova2_4.csv\", sep=\",\", header=T, fileEncoding=\"UTF-8-BOM\")"
   ]
  },
  {
   "cell_type": "code",
   "execution_count": 67,
   "id": "exceptional-waterproof",
   "metadata": {},
   "outputs": [
    {
     "data": {
      "text/html": [
       "<table>\n",
       "<thead><tr><th scope=col>Format3</th><th scope=col>Accommodation</th></tr></thead>\n",
       "<tbody>\n",
       "\t<tr><td>3          </td><td> 3499.42351</td></tr>\n",
       "\t<tr><td>3          </td><td> 1402.79216</td></tr>\n",
       "\t<tr><td>2          </td><td>  620.61151</td></tr>\n",
       "\t<tr><td>2          </td><td>  261.88347</td></tr>\n",
       "\t<tr><td>2          </td><td>  249.02556</td></tr>\n",
       "\t<tr><td>1          </td><td>  149.05083</td></tr>\n",
       "\t<tr><td>2          </td><td>  291.90992</td></tr>\n",
       "\t<tr><td>1          </td><td>  163.23879</td></tr>\n",
       "\t<tr><td>4          </td><td> 4109.12102</td></tr>\n",
       "\t<tr><td>2          </td><td>   76.26652</td></tr>\n",
       "\t<tr><td>1          </td><td>   79.49897</td></tr>\n",
       "\t<tr><td>2          </td><td>  932.37577</td></tr>\n",
       "\t<tr><td>1          </td><td>  598.67462</td></tr>\n",
       "\t<tr><td>2          </td><td>  394.62548</td></tr>\n",
       "\t<tr><td>2          </td><td>  505.29519</td></tr>\n",
       "\t<tr><td>1          </td><td>  321.48003</td></tr>\n",
       "\t<tr><td>1          </td><td> 2787.42566</td></tr>\n",
       "\t<tr><td>1          </td><td>   24.06453</td></tr>\n",
       "\t<tr><td>1          </td><td>   13.81135</td></tr>\n",
       "\t<tr><td>1          </td><td>   53.34959</td></tr>\n",
       "\t<tr><td>5          </td><td>17537.93102</td></tr>\n",
       "\t<tr><td>2          </td><td>  439.58971</td></tr>\n",
       "\t<tr><td>2          </td><td>   82.50720</td></tr>\n",
       "\t<tr><td>2          </td><td>  204.53990</td></tr>\n",
       "\t<tr><td>4          </td><td> 3089.84120</td></tr>\n",
       "\t<tr><td>1          </td><td>  250.97017</td></tr>\n",
       "\t<tr><td>1          </td><td>  206.42878</td></tr>\n",
       "\t<tr><td>2          </td><td>  145.36134</td></tr>\n",
       "\t<tr><td>1          </td><td>  119.67938</td></tr>\n",
       "\t<tr><td>2          </td><td>  742.39576</td></tr>\n",
       "\t<tr><td>...</td><td>...</td></tr>\n",
       "\t<tr><td>3           </td><td>  1155.25946</td></tr>\n",
       "\t<tr><td>2           </td><td>   246.03765</td></tr>\n",
       "\t<tr><td>2           </td><td>   114.72009</td></tr>\n",
       "\t<tr><td>1           </td><td>   232.44631</td></tr>\n",
       "\t<tr><td>5           </td><td> 59284.63285</td></tr>\n",
       "\t<tr><td>2           </td><td>   316.34278</td></tr>\n",
       "\t<tr><td>4           </td><td>  3208.26937</td></tr>\n",
       "\t<tr><td>3           </td><td>  2237.79142</td></tr>\n",
       "\t<tr><td>3           </td><td>   739.91804</td></tr>\n",
       "\t<tr><td>3           </td><td>  1070.06216</td></tr>\n",
       "\t<tr><td>2           </td><td>   654.90703</td></tr>\n",
       "\t<tr><td>2           </td><td>   169.23706</td></tr>\n",
       "\t<tr><td>2           </td><td>   732.97411</td></tr>\n",
       "\t<tr><td>4           </td><td>  2398.87937</td></tr>\n",
       "\t<tr><td>4           </td><td>  7842.89952</td></tr>\n",
       "\t<tr><td>4           </td><td>  3168.18192</td></tr>\n",
       "\t<tr><td>2           </td><td>   651.90620</td></tr>\n",
       "\t<tr><td>2           </td><td>   229.46062</td></tr>\n",
       "\t<tr><td>2           </td><td>   557.34385</td></tr>\n",
       "\t<tr><td>1           </td><td>   116.11282</td></tr>\n",
       "\t<tr><td>1           </td><td>   124.47800</td></tr>\n",
       "\t<tr><td>1           </td><td>    30.04225</td></tr>\n",
       "\t<tr><td>2           </td><td>   449.19643</td></tr>\n",
       "\t<tr><td>3           </td><td>  2648.18805</td></tr>\n",
       "\t<tr><td>5           </td><td>375718.81330</td></tr>\n",
       "\t<tr><td>2           </td><td>  9021.09524</td></tr>\n",
       "\t<tr><td>2           </td><td>  4184.69158</td></tr>\n",
       "\t<tr><td>2           </td><td>   680.83800</td></tr>\n",
       "\t<tr><td>2           </td><td>  1493.95513</td></tr>\n",
       "\t<tr><td>2           </td><td>  5265.41402</td></tr>\n",
       "</tbody>\n",
       "</table>\n"
      ],
      "text/latex": [
       "\\begin{tabular}{r|ll}\n",
       " Format3 & Accommodation\\\\\n",
       "\\hline\n",
       "\t 3           &  3499.42351\\\\\n",
       "\t 3           &  1402.79216\\\\\n",
       "\t 2           &   620.61151\\\\\n",
       "\t 2           &   261.88347\\\\\n",
       "\t 2           &   249.02556\\\\\n",
       "\t 1           &   149.05083\\\\\n",
       "\t 2           &   291.90992\\\\\n",
       "\t 1           &   163.23879\\\\\n",
       "\t 4           &  4109.12102\\\\\n",
       "\t 2           &    76.26652\\\\\n",
       "\t 1           &    79.49897\\\\\n",
       "\t 2           &   932.37577\\\\\n",
       "\t 1           &   598.67462\\\\\n",
       "\t 2           &   394.62548\\\\\n",
       "\t 2           &   505.29519\\\\\n",
       "\t 1           &   321.48003\\\\\n",
       "\t 1           &  2787.42566\\\\\n",
       "\t 1           &    24.06453\\\\\n",
       "\t 1           &    13.81135\\\\\n",
       "\t 1           &    53.34959\\\\\n",
       "\t 5           & 17537.93102\\\\\n",
       "\t 2           &   439.58971\\\\\n",
       "\t 2           &    82.50720\\\\\n",
       "\t 2           &   204.53990\\\\\n",
       "\t 4           &  3089.84120\\\\\n",
       "\t 1           &   250.97017\\\\\n",
       "\t 1           &   206.42878\\\\\n",
       "\t 2           &   145.36134\\\\\n",
       "\t 1           &   119.67938\\\\\n",
       "\t 2           &   742.39576\\\\\n",
       "\t ... & ...\\\\\n",
       "\t 3            &   1155.25946\\\\\n",
       "\t 2            &    246.03765\\\\\n",
       "\t 2            &    114.72009\\\\\n",
       "\t 1            &    232.44631\\\\\n",
       "\t 5            &  59284.63285\\\\\n",
       "\t 2            &    316.34278\\\\\n",
       "\t 4            &   3208.26937\\\\\n",
       "\t 3            &   2237.79142\\\\\n",
       "\t 3            &    739.91804\\\\\n",
       "\t 3            &   1070.06216\\\\\n",
       "\t 2            &    654.90703\\\\\n",
       "\t 2            &    169.23706\\\\\n",
       "\t 2            &    732.97411\\\\\n",
       "\t 4            &   2398.87937\\\\\n",
       "\t 4            &   7842.89952\\\\\n",
       "\t 4            &   3168.18192\\\\\n",
       "\t 2            &    651.90620\\\\\n",
       "\t 2            &    229.46062\\\\\n",
       "\t 2            &    557.34385\\\\\n",
       "\t 1            &    116.11282\\\\\n",
       "\t 1            &    124.47800\\\\\n",
       "\t 1            &     30.04225\\\\\n",
       "\t 2            &    449.19643\\\\\n",
       "\t 3            &   2648.18805\\\\\n",
       "\t 5            & 375718.81330\\\\\n",
       "\t 2            &   9021.09524\\\\\n",
       "\t 2            &   4184.69158\\\\\n",
       "\t 2            &    680.83800\\\\\n",
       "\t 2            &   1493.95513\\\\\n",
       "\t 2            &   5265.41402\\\\\n",
       "\\end{tabular}\n"
      ],
      "text/markdown": [
       "\n",
       "| Format3 | Accommodation |\n",
       "|---|---|\n",
       "| 3           |  3499.42351 |\n",
       "| 3           |  1402.79216 |\n",
       "| 2           |   620.61151 |\n",
       "| 2           |   261.88347 |\n",
       "| 2           |   249.02556 |\n",
       "| 1           |   149.05083 |\n",
       "| 2           |   291.90992 |\n",
       "| 1           |   163.23879 |\n",
       "| 4           |  4109.12102 |\n",
       "| 2           |    76.26652 |\n",
       "| 1           |    79.49897 |\n",
       "| 2           |   932.37577 |\n",
       "| 1           |   598.67462 |\n",
       "| 2           |   394.62548 |\n",
       "| 2           |   505.29519 |\n",
       "| 1           |   321.48003 |\n",
       "| 1           |  2787.42566 |\n",
       "| 1           |    24.06453 |\n",
       "| 1           |    13.81135 |\n",
       "| 1           |    53.34959 |\n",
       "| 5           | 17537.93102 |\n",
       "| 2           |   439.58971 |\n",
       "| 2           |    82.50720 |\n",
       "| 2           |   204.53990 |\n",
       "| 4           |  3089.84120 |\n",
       "| 1           |   250.97017 |\n",
       "| 1           |   206.42878 |\n",
       "| 2           |   145.36134 |\n",
       "| 1           |   119.67938 |\n",
       "| 2           |   742.39576 |\n",
       "| ... | ... |\n",
       "| 3            |   1155.25946 |\n",
       "| 2            |    246.03765 |\n",
       "| 2            |    114.72009 |\n",
       "| 1            |    232.44631 |\n",
       "| 5            |  59284.63285 |\n",
       "| 2            |    316.34278 |\n",
       "| 4            |   3208.26937 |\n",
       "| 3            |   2237.79142 |\n",
       "| 3            |    739.91804 |\n",
       "| 3            |   1070.06216 |\n",
       "| 2            |    654.90703 |\n",
       "| 2            |    169.23706 |\n",
       "| 2            |    732.97411 |\n",
       "| 4            |   2398.87937 |\n",
       "| 4            |   7842.89952 |\n",
       "| 4            |   3168.18192 |\n",
       "| 2            |    651.90620 |\n",
       "| 2            |    229.46062 |\n",
       "| 2            |    557.34385 |\n",
       "| 1            |    116.11282 |\n",
       "| 1            |    124.47800 |\n",
       "| 1            |     30.04225 |\n",
       "| 2            |    449.19643 |\n",
       "| 3            |   2648.18805 |\n",
       "| 5            | 375718.81330 |\n",
       "| 2            |   9021.09524 |\n",
       "| 2            |   4184.69158 |\n",
       "| 2            |    680.83800 |\n",
       "| 2            |   1493.95513 |\n",
       "| 2            |   5265.41402 |\n",
       "\n"
      ],
      "text/plain": [
       "    Format3 Accommodation\n",
       "1   3        3499.42351  \n",
       "2   3        1402.79216  \n",
       "3   2         620.61151  \n",
       "4   2         261.88347  \n",
       "5   2         249.02556  \n",
       "6   1         149.05083  \n",
       "7   2         291.90992  \n",
       "8   1         163.23879  \n",
       "9   4        4109.12102  \n",
       "10  2          76.26652  \n",
       "11  1          79.49897  \n",
       "12  2         932.37577  \n",
       "13  1         598.67462  \n",
       "14  2         394.62548  \n",
       "15  2         505.29519  \n",
       "16  1         321.48003  \n",
       "17  1        2787.42566  \n",
       "18  1          24.06453  \n",
       "19  1          13.81135  \n",
       "20  1          53.34959  \n",
       "21  5       17537.93102  \n",
       "22  2         439.58971  \n",
       "23  2          82.50720  \n",
       "24  2         204.53990  \n",
       "25  4        3089.84120  \n",
       "26  1         250.97017  \n",
       "27  1         206.42878  \n",
       "28  2         145.36134  \n",
       "29  1         119.67938  \n",
       "30  2         742.39576  \n",
       "... ...     ...          \n",
       "48  3         1155.25946 \n",
       "49  2          246.03765 \n",
       "50  2          114.72009 \n",
       "51  1          232.44631 \n",
       "52  5        59284.63285 \n",
       "53  2          316.34278 \n",
       "54  4         3208.26937 \n",
       "55  3         2237.79142 \n",
       "56  3          739.91804 \n",
       "57  3         1070.06216 \n",
       "58  2          654.90703 \n",
       "59  2          169.23706 \n",
       "60  2          732.97411 \n",
       "61  4         2398.87937 \n",
       "62  4         7842.89952 \n",
       "63  4         3168.18192 \n",
       "64  2          651.90620 \n",
       "65  2          229.46062 \n",
       "66  2          557.34385 \n",
       "67  1          116.11282 \n",
       "68  1          124.47800 \n",
       "69  1           30.04225 \n",
       "70  2          449.19643 \n",
       "71  3         2648.18805 \n",
       "72  5       375718.81330 \n",
       "73  2         9021.09524 \n",
       "74  2         4184.69158 \n",
       "75  2          680.83800 \n",
       "76  2         1493.95513 \n",
       "77  2         5265.41402 "
      ]
     },
     "metadata": {},
     "output_type": "display_data"
    }
   ],
   "source": [
    "df3"
   ]
  },
  {
   "cell_type": "code",
   "execution_count": 77,
   "id": "attractive-matthew",
   "metadata": {},
   "outputs": [
    {
     "data": {
      "text/plain": [
       "             Df    Sum Sq   Mean Sq F value   Pr(>F)    \n",
       "formatFactor  4 4.441e+10 1.110e+10   7.685 3.25e-05 ***\n",
       "Residuals    72 1.040e+11 1.445e+09                     \n",
       "---\n",
       "Signif. codes:  0 '***' 0.001 '**' 0.01 '*' 0.05 '.' 0.1 ' ' 1"
      ]
     },
     "metadata": {},
     "output_type": "display_data"
    }
   ],
   "source": [
    "formatFactor <- factor(df3$Format3)\n",
    "anovaResult <- aov(df3$Accommodation~formatFactor, data=df3)\n",
    "summary(anovaResult)"
   ]
  },
  {
   "cell_type": "code",
   "execution_count": 78,
   "id": "joined-tomato",
   "metadata": {},
   "outputs": [
    {
     "data": {
      "text/html": [
       "3.59148988608035"
      ],
      "text/latex": [
       "3.59148988608035"
      ],
      "text/markdown": [
       "3.59148988608035"
      ],
      "text/plain": [
       "[1] 3.59149"
      ]
     },
     "metadata": {},
     "output_type": "display_data"
    }
   ],
   "source": [
    "qf(0.99, 4,72)"
   ]
  },
  {
   "cell_type": "code",
   "execution_count": 79,
   "id": "deluxe-sphere",
   "metadata": {},
   "outputs": [
    {
     "data": {
      "text/html": [
       "4.78094753135884"
      ],
      "text/latex": [
       "4.78094753135884"
      ],
      "text/markdown": [
       "4.78094753135884"
      ],
      "text/plain": [
       "[1] 4.780948"
      ]
     },
     "metadata": {},
     "output_type": "display_data"
    }
   ],
   "source": [
    "qtukey(0.01, nmeans=anovaResult$rank, df=anovaResult$df.residual, lower.tail=F)"
   ]
  },
  {
   "cell_type": "code",
   "execution_count": 80,
   "id": "forced-parts",
   "metadata": {},
   "outputs": [
    {
     "data": {
      "image/png": "[encoded data removed]",
      "text/plain": [
       "Plot with title \"99% family-wise confidence level\n",
       "\""
      ]
     },
     "metadata": {},
     "output_type": "display_data"
    }
   ],
   "source": [
    "tk <- TukeyHSD(anovaResult, conf.level = 0.99)\n",
    "plot(tk)"
   ]
  },
  {
   "cell_type": "code",
   "execution_count": null,
   "id": "surprising-sherman",
   "metadata": {},
   "outputs": [],
   "source": []
  }
 ],
 "metadata": {
  "kernelspec": {
   "display_name": "R",
   "language": "R",
   "name": "ir"
  },
  "language_info": {
   "codemirror_mode": "r",
   "file_extension": ".r",
   "mimetype": "text/x-r-source",
   "name": "R",
   "pygments_lexer": "r",
   "version": "3.6.1"
  }
 },
 "nbformat": 4,
 "nbformat_minor": 5
}
