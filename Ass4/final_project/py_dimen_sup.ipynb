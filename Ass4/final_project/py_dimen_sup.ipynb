{
 "cells": [
  {
   "cell_type": "code",
   "execution_count": 59,
   "metadata": {},
   "outputs": [],
   "source": [
    "import pandas as pd\n",
    "import numpy as np\n",
    "import matplotlib.pyplot as plt\n",
    "import seaborn as sns\n",
    "%matplotlib inline"
   ]
  },
  {
   "cell_type": "code",
   "execution_count": 60,
   "metadata": {},
   "outputs": [
    {
     "data": {
      "text/html": [
       "<div>\n",
       "<style scoped>\n",
       "    .dataframe tbody tr th:only-of-type {\n",
       "        vertical-align: middle;\n",
       "    }\n",
       "\n",
       "    .dataframe tbody tr th {\n",
       "        vertical-align: top;\n",
       "    }\n",
       "\n",
       "    .dataframe thead th {\n",
       "        text-align: right;\n",
       "    }\n",
       "</style>\n",
       "<table border=\"1\" class=\"dataframe\">\n",
       "  <thead>\n",
       "    <tr style=\"text-align: right;\">\n",
       "      <th></th>\n",
       "      <th>b</th>\n",
       "      <th>c</th>\n",
       "      <th>d</th>\n",
       "      <th>e</th>\n",
       "      <th>f</th>\n",
       "      <th>g</th>\n",
       "      <th>h</th>\n",
       "      <th>i</th>\n",
       "      <th>j</th>\n",
       "      <th>k</th>\n",
       "      <th>...</th>\n",
       "      <th>Farm_holding</th>\n",
       "      <th>New_Construction</th>\n",
       "      <th>tourist</th>\n",
       "      <th>sup_pop</th>\n",
       "      <th>th_worker</th>\n",
       "      <th>debt</th>\n",
       "      <th>percent_import_us</th>\n",
       "      <th>population</th>\n",
       "      <th>Planted_area</th>\n",
       "      <th>export</th>\n",
       "    </tr>\n",
       "  </thead>\n",
       "  <tbody>\n",
       "    <tr>\n",
       "      <th>0</th>\n",
       "      <td>31184</td>\n",
       "      <td>7594</td>\n",
       "      <td>1365</td>\n",
       "      <td>3124</td>\n",
       "      <td>434</td>\n",
       "      <td>77</td>\n",
       "      <td>1956</td>\n",
       "      <td>3706</td>\n",
       "      <td>614</td>\n",
       "      <td>116</td>\n",
       "      <td>...</td>\n",
       "      <td>924530</td>\n",
       "      <td>592.70</td>\n",
       "      <td>713630</td>\n",
       "      <td>836</td>\n",
       "      <td>32174.85</td>\n",
       "      <td>7650</td>\n",
       "      <td>80.5</td>\n",
       "      <td>59467274</td>\n",
       "      <td>95.591759</td>\n",
       "      <td>1406310.1</td>\n",
       "    </tr>\n",
       "    <tr>\n",
       "      <th>1</th>\n",
       "      <td>38359</td>\n",
       "      <td>9172</td>\n",
       "      <td>2463</td>\n",
       "      <td>3534</td>\n",
       "      <td>502</td>\n",
       "      <td>84</td>\n",
       "      <td>2854</td>\n",
       "      <td>4440</td>\n",
       "      <td>874</td>\n",
       "      <td>121</td>\n",
       "      <td>...</td>\n",
       "      <td>916090</td>\n",
       "      <td>588.16</td>\n",
       "      <td>712504</td>\n",
       "      <td>843</td>\n",
       "      <td>32324.20</td>\n",
       "      <td>14120</td>\n",
       "      <td>80.6</td>\n",
       "      <td>60130186</td>\n",
       "      <td>91.687820</td>\n",
       "      <td>1411039.3</td>\n",
       "    </tr>\n",
       "    <tr>\n",
       "      <th>2</th>\n",
       "      <td>38593</td>\n",
       "      <td>9843</td>\n",
       "      <td>2413</td>\n",
       "      <td>3071</td>\n",
       "      <td>583</td>\n",
       "      <td>97</td>\n",
       "      <td>2256</td>\n",
       "      <td>4825</td>\n",
       "      <td>770</td>\n",
       "      <td>116</td>\n",
       "      <td>...</td>\n",
       "      <td>911272</td>\n",
       "      <td>583.62</td>\n",
       "      <td>711378</td>\n",
       "      <td>851</td>\n",
       "      <td>32780.45</td>\n",
       "      <td>20590</td>\n",
       "      <td>78.6</td>\n",
       "      <td>60846582</td>\n",
       "      <td>92.229538</td>\n",
       "      <td>1806682.0</td>\n",
       "    </tr>\n",
       "    <tr>\n",
       "      <th>3</th>\n",
       "      <td>41091</td>\n",
       "      <td>11598</td>\n",
       "      <td>1915</td>\n",
       "      <td>3330</td>\n",
       "      <td>712</td>\n",
       "      <td>116</td>\n",
       "      <td>1847</td>\n",
       "      <td>4712</td>\n",
       "      <td>988</td>\n",
       "      <td>102</td>\n",
       "      <td>...</td>\n",
       "      <td>904415</td>\n",
       "      <td>579.08</td>\n",
       "      <td>710252</td>\n",
       "      <td>859</td>\n",
       "      <td>32595.48</td>\n",
       "      <td>69674</td>\n",
       "      <td>80.7</td>\n",
       "      <td>61585103</td>\n",
       "      <td>93.556351</td>\n",
       "      <td>2248089.4</td>\n",
       "    </tr>\n",
       "    <tr>\n",
       "      <th>4</th>\n",
       "      <td>39195</td>\n",
       "      <td>10211</td>\n",
       "      <td>1561</td>\n",
       "      <td>3110</td>\n",
       "      <td>636</td>\n",
       "      <td>144</td>\n",
       "      <td>1800</td>\n",
       "      <td>4679</td>\n",
       "      <td>949</td>\n",
       "      <td>130</td>\n",
       "      <td>...</td>\n",
       "      <td>902341</td>\n",
       "      <td>574.54</td>\n",
       "      <td>290547</td>\n",
       "      <td>866</td>\n",
       "      <td>32910.83</td>\n",
       "      <td>33530</td>\n",
       "      <td>78.7</td>\n",
       "      <td>62298571</td>\n",
       "      <td>97.298302</td>\n",
       "      <td>2214248.7</td>\n",
       "    </tr>\n",
       "  </tbody>\n",
       "</table>\n",
       "<p>5 rows × 31 columns</p>\n",
       "</div>"
      ],
      "text/plain": [
       "       b      c     d     e    f    g     h     i    j    k  ...  \\\n",
       "0  31184   7594  1365  3124  434   77  1956  3706  614  116  ...   \n",
       "1  38359   9172  2463  3534  502   84  2854  4440  874  121  ...   \n",
       "2  38593   9843  2413  3071  583   97  2256  4825  770  116  ...   \n",
       "3  41091  11598  1915  3330  712  116  1847  4712  988  102  ...   \n",
       "4  39195  10211  1561  3110  636  144  1800  4679  949  130  ...   \n",
       "\n",
       "   Farm_holding  New_Construction  tourist  sup_pop  th_worker   debt  \\\n",
       "0        924530            592.70   713630      836   32174.85   7650   \n",
       "1        916090            588.16   712504      843   32324.20  14120   \n",
       "2        911272            583.62   711378      851   32780.45  20590   \n",
       "3        904415            579.08   710252      859   32595.48  69674   \n",
       "4        902341            574.54   290547      866   32910.83  33530   \n",
       "\n",
       "   percent_import_us  population  Planted_area     export  \n",
       "0               80.5    59467274     95.591759  1406310.1  \n",
       "1               80.6    60130186     91.687820  1411039.3  \n",
       "2               78.6    60846582     92.229538  1806682.0  \n",
       "3               80.7    61585103     93.556351  2248089.4  \n",
       "4               78.7    62298571     97.298302  2214248.7  \n",
       "\n",
       "[5 rows x 31 columns]"
      ]
     },
     "execution_count": 60,
     "metadata": {},
     "output_type": "execute_result"
    }
   ],
   "source": [
    "df = pd.read_csv(\"suphan2.csv\")\n",
    "df.head()"
   ]
  },
  {
   "cell_type": "code",
   "execution_count": 61,
   "metadata": {},
   "outputs": [],
   "source": [
    "X = df.drop('b',1)\n",
    "y = df.b"
   ]
  },
  {
   "cell_type": "code",
   "execution_count": 62,
   "metadata": {},
   "outputs": [],
   "source": [
    "from sklearn.model_selection import train_test_split\n",
    "X_train, X_test, y_train, y_test = train_test_split(X, y, test_size=0.3, random_state=0)"
   ]
  },
  {
   "cell_type": "code",
   "execution_count": 63,
   "metadata": {},
   "outputs": [],
   "source": [
    "from sklearn.preprocessing import StandardScaler\n",
    "scaler = StandardScaler().fit(X_train)"
   ]
  },
  {
   "cell_type": "code",
   "execution_count": 64,
   "metadata": {},
   "outputs": [],
   "source": [
    "mean_X_train = X_train.mean()\n",
    "std_X_train = X_train.std()"
   ]
  },
  {
   "cell_type": "code",
   "execution_count": 65,
   "metadata": {},
   "outputs": [
    {
     "data": {
      "text/plain": [
       "array([1.66782500e+04, 1.84093750e+03, 7.47318750e+03, 8.74000000e+02,\n",
       "       1.92687500e+02, 2.06468750e+03, 6.10393750e+03, 1.14612500e+03,\n",
       "       2.17875000e+02, 4.00000000e+02, 2.58243750e+03, 3.54781250e+03,\n",
       "       1.28750000e+01, 1.18687500e+02, 2.42575000e+03, 4.03056250e+03,\n",
       "       1.64968750e+03, 1.46312500e+02, 3.13562500e+02, 5.01261000e+05,\n",
       "       1.67410525e+06, 5.62355000e+02, 6.78212062e+05, 8.57062500e+02,\n",
       "       3.54775306e+04, 9.38185000e+04, 7.96366500e+01, 6.49118510e+07,\n",
       "       9.76887735e+01, 4.40149396e+06])"
      ]
     },
     "execution_count": 65,
     "metadata": {},
     "output_type": "execute_result"
    }
   ],
   "source": [
    "scaler.mean_"
   ]
  },
  {
   "cell_type": "code",
   "execution_count": 66,
   "metadata": {},
   "outputs": [
    {
     "data": {
      "text/plain": [
       "c                    1.667825e+04\n",
       "d                    1.840938e+03\n",
       "e                    7.473188e+03\n",
       "f                    8.740000e+02\n",
       "g                    1.926875e+02\n",
       "h                    2.064688e+03\n",
       "i                    6.103938e+03\n",
       "j                    1.146125e+03\n",
       "k                    2.178750e+02\n",
       "l                    4.000000e+02\n",
       "m                    2.582438e+03\n",
       "n                    3.547812e+03\n",
       "o                    1.287500e+01\n",
       "p                    1.186875e+02\n",
       "q                    2.425750e+03\n",
       "r                    4.030562e+03\n",
       "s                    1.649688e+03\n",
       "t                    1.463125e+02\n",
       "u                    3.135625e+02\n",
       "worker               5.012610e+05\n",
       "Farm_holding         1.674105e+06\n",
       "New_Construction     5.623550e+02\n",
       "tourist              6.782121e+05\n",
       "sup_pop              8.570625e+02\n",
       "th_worker            3.547753e+04\n",
       "debt                 9.381850e+04\n",
       "percent_import_us    7.963665e+01\n",
       "population           6.491185e+07\n",
       "Planted_area         9.768877e+01\n",
       "export               4.401494e+06\n",
       "dtype: float64"
      ]
     },
     "execution_count": 66,
     "metadata": {},
     "output_type": "execute_result"
    }
   ],
   "source": [
    "mean_X_train"
   ]
  },
  {
   "cell_type": "code",
   "execution_count": 67,
   "metadata": {},
   "outputs": [
    {
     "data": {
      "text/plain": [
       "array([7.91049234e+03, 5.01662794e+02, 4.31638352e+03, 3.17189612e+02,\n",
       "       9.14075481e+01, 6.81921707e+02, 2.12913793e+03, 3.94367036e+02,\n",
       "       1.36234575e+02, 1.19104996e+02, 1.25004005e+03, 5.97192098e+02,\n",
       "       6.40190401e+00, 6.29024232e+01, 6.49489655e+02, 2.32941693e+03,\n",
       "       7.64831903e+02, 8.13408867e+01, 1.68815346e+02, 3.18845524e+04,\n",
       "       6.24914079e+05, 5.03849826e+01, 3.10582157e+05, 1.13218194e+01,\n",
       "       2.51558992e+03, 4.45439362e+04, 1.02960591e+00, 2.87419847e+06,\n",
       "       2.64431543e+00, 2.15943824e+06])"
      ]
     },
     "execution_count": 67,
     "metadata": {},
     "output_type": "execute_result"
    }
   ],
   "source": [
    "np.sqrt(scaler.var_)"
   ]
  },
  {
   "cell_type": "code",
   "execution_count": 68,
   "metadata": {},
   "outputs": [
    {
     "data": {
      "text/plain": [
       "c                    8.169921e+03\n",
       "d                    5.181151e+02\n",
       "e                    4.457942e+03\n",
       "f                    3.275920e+02\n",
       "g                    9.440531e+01\n",
       "h                    7.042857e+02\n",
       "i                    2.198964e+03\n",
       "j                    4.073005e+02\n",
       "k                    1.407025e+02\n",
       "l                    1.230111e+02\n",
       "m                    1.291036e+03\n",
       "n                    6.167773e+02\n",
       "o                    6.611858e+00\n",
       "p                    6.496534e+01\n",
       "q                    6.707900e+02\n",
       "r                    2.405811e+03\n",
       "s                    7.899150e+02\n",
       "t                    8.400851e+01\n",
       "u                    1.743517e+02\n",
       "worker               3.293022e+04\n",
       "Farm_holding         6.454085e+05\n",
       "New_Construction     5.203739e+01\n",
       "tourist              3.207679e+05\n",
       "sup_pop              1.169312e+01\n",
       "th_worker            2.598090e+03\n",
       "debt                 4.600478e+04\n",
       "percent_import_us    1.063372e+00\n",
       "population           2.968459e+06\n",
       "Planted_area         2.731037e+00\n",
       "export               2.230258e+06\n",
       "dtype: float64"
      ]
     },
     "execution_count": 68,
     "metadata": {},
     "output_type": "execute_result"
    }
   ],
   "source": [
    "std_X_train"
   ]
  },
  {
   "cell_type": "code",
   "execution_count": 69,
   "metadata": {},
   "outputs": [],
   "source": [
    "sk_scaled_X_train = scaler.transform(X_train)\n",
    "sk_scaled_X_test = scaler.transform(X_test)"
   ]
  },
  {
   "cell_type": "code",
   "execution_count": 70,
   "metadata": {},
   "outputs": [
    {
     "data": {
      "text/plain": [
       "PCA(n_components=5)"
      ]
     },
     "execution_count": 70,
     "metadata": {},
     "output_type": "execute_result"
    }
   ],
   "source": [
    "from sklearn.decomposition import PCA\n",
    "\n",
    "num_components=5\n",
    "pca = PCA(n_components=num_components)\n",
    "pca.fit(sk_scaled_X_train)"
   ]
  },
  {
   "cell_type": "code",
   "execution_count": 71,
   "metadata": {},
   "outputs": [
    {
     "data": {
      "text/plain": [
       "array([21.04226826,  3.97966889,  2.05166956,  1.35201796,  1.14824291])"
      ]
     },
     "execution_count": 71,
     "metadata": {},
     "output_type": "execute_result"
    }
   ],
   "source": [
    "pca.explained_variance_"
   ]
  },
  {
   "cell_type": "code",
   "execution_count": 72,
   "metadata": {},
   "outputs": [
    {
     "data": {
      "text/plain": [
       "array([[ 0.21029437,  0.15618626,  0.20850725,  0.21937819,  0.20925403,\n",
       "         0.16763757,  0.21688299,  0.21004901,  0.18969427,  0.16439803,\n",
       "         0.21425607,  0.06679641,  0.19097708,  0.17368761,  0.17289809,\n",
       "         0.22042067,  0.22434119,  0.20711713,  0.22131494,  0.16112242,\n",
       "         0.20056571, -0.0920676 , -0.01903576, -0.09162832,  0.21186974,\n",
       "         0.1948848 ,  0.02917549,  0.2168168 ,  0.11102236,  0.22260053],\n",
       "       [-0.03383455, -0.26438161, -0.00740559, -0.05198058, -0.07506705,\n",
       "        -0.30985326, -0.1047966 , -0.10327325, -0.10605669,  0.29282362,\n",
       "        -0.13316614,  0.41277027, -0.12090294,  0.15019745,  0.25800304,\n",
       "        -0.05688932,  0.02317833,  0.07115259, -0.04140582,  0.12915879,\n",
       "         0.08747012,  0.03731035,  0.26342555,  0.31503912, -0.00355501,\n",
       "         0.21070269, -0.26042276,  0.1300753 ,  0.28087613,  0.03320577],\n",
       "       [-0.09788288,  0.14103665, -0.17001671, -0.00762168,  0.10849271,\n",
       "         0.01599464,  0.06669484,  0.09210459,  0.25424091, -0.01278691,\n",
       "         0.0895175 , -0.17260635,  0.1933321 , -0.01685502, -0.19177501,\n",
       "        -0.02881745, -0.01288416,  0.063211  ,  0.06573634, -0.40208525,\n",
       "        -0.07343591, -0.30299314,  0.42409209,  0.0670124 , -0.16777352,\n",
       "        -0.00451872, -0.39128164, -0.03807796,  0.31976827, -0.04537447],\n",
       "       [-0.09469652, -0.05921212, -0.15922766,  0.01253882,  0.22490845,\n",
       "         0.03978809,  0.0058917 ,  0.19637412,  0.21634499, -0.05443597,\n",
       "        -0.07375501,  0.29483634,  0.19684577, -0.17136788, -0.04203072,\n",
       "         0.00827184,  0.00848357, -0.03811348, -0.02945875, -0.12477129,\n",
       "        -0.11559843, -0.10125678, -0.39821282,  0.56058271, -0.01052793,\n",
       "        -0.02367268,  0.33228564,  0.03057777,  0.17093782, -0.0593475 ],\n",
       "       [ 0.0422731 , -0.02846809,  0.00154507,  0.0612516 ,  0.01841672,\n",
       "         0.09366397,  0.02403929, -0.01319566,  0.11009779,  0.2284448 ,\n",
       "         0.05295909, -0.07497052,  0.10945243, -0.31441923, -0.05059576,\n",
       "         0.05221889,  0.00436046,  0.30037372, -0.04590852,  0.01333724,\n",
       "        -0.238842  ,  0.70244072,  0.22264025, -0.02944242, -0.17969133,\n",
       "         0.03067472,  0.18167491, -0.0247206 ,  0.18545248, -0.01587997]])"
      ]
     },
     "execution_count": 72,
     "metadata": {},
     "output_type": "execute_result"
    }
   ],
   "source": [
    "pca.components_"
   ]
  },
  {
   "cell_type": "code",
   "execution_count": 73,
   "metadata": {},
   "outputs": [
    {
     "data": {
      "text/plain": [
       "array([0.65757088, 0.12436465, 0.06411467, 0.04225056, 0.03588259])"
      ]
     },
     "execution_count": 73,
     "metadata": {},
     "output_type": "execute_result"
    }
   ],
   "source": [
    "pca.explained_variance_ratio_"
   ]
  },
  {
   "cell_type": "code",
   "execution_count": 74,
   "metadata": {},
   "outputs": [
    {
     "data": {
      "text/plain": [
       "<AxesSubplot:xlabel='PC', ylabel='Variance'>"
      ]
     },
     "execution_count": 74,
     "metadata": {},
     "output_type": "execute_result"
    },
    {
     "data": {
      "image/png": "[encoded data removed]",
      "text/plain": [
       "<Figure size 432x288 with 1 Axes>"
      ]
     },
     "metadata": {
      "needs_background": "light"
     },
     "output_type": "display_data"
    }
   ],
   "source": [
    "temp_df = pd.DataFrame({'Variance':pca.explained_variance_ratio_,\n",
    "                        'PC':['PC1','PC2','PC3','PC4','PC5']})\n",
    "sns.barplot(x='PC',y=\"Variance\", data=temp_df, color=\"blue\")"
   ]
  },
  {
   "cell_type": "code",
   "execution_count": 75,
   "metadata": {},
   "outputs": [],
   "source": [
    "sk_X_train_transformed  = pca.transform(sk_scaled_X_train)"
   ]
  },
  {
   "cell_type": "code",
   "execution_count": 76,
   "metadata": {},
   "outputs": [
    {
     "data": {
      "text/plain": [
       "Text(0, 0.5, 'Second Principal Component')"
      ]
     },
     "execution_count": 76,
     "metadata": {},
     "output_type": "execute_result"
    },
    {
     "data": {
      "image/png": "[encoded data removed]",
      "text/plain": [
       "<Figure size 576x432 with 1 Axes>"
      ]
     },
     "metadata": {
      "needs_background": "light"
     },
     "output_type": "display_data"
    }
   ],
   "source": [
    "plt.figure(figsize=(8,6))\n",
    "plt.scatter(sk_X_train_transformed[:,0],sk_X_train_transformed[:,1],c=y_train,cmap='Set1')\n",
    "plt.xlabel('First principal component')\n",
    "plt.ylabel('Second Principal Component')"
   ]
  },
  {
   "cell_type": "code",
   "execution_count": 77,
   "metadata": {},
   "outputs": [
    {
     "data": {
      "text/plain": [
       "array([[ 4.18017646e-01, -3.69958781e-01, -5.79963065e-01,\n",
       "         2.01179610e-01, -1.07688749e-01,  2.13994636e-01,\n",
       "         1.97060863e-01, -8.72418531e-02, -1.90307719e-01,\n",
       "         1.14513456e-01,  1.34132972e-02, -3.24856615e-03,\n",
       "        -4.56176007e-03, -8.01031934e-01,  1.84848362e-01,\n",
       "         9.97160682e-02, -2.89250970e-03,  1.98605220e-01,\n",
       "         1.86012238e-01,  4.32266109e-01, -9.28602204e-02,\n",
       "        -5.06973616e-01,  9.28024908e-02, -2.48037744e-02,\n",
       "         3.09767360e-02, -1.38831934e-01, -1.64155027e-01,\n",
       "        -4.53172597e-02, -1.30607735e-01, -9.27962409e-02],\n",
       "       [ 3.63043016e-02,  4.88130308e-02, -1.87676972e-01,\n",
       "         1.84032540e-02,  4.54499783e-02,  1.93215158e-01,\n",
       "         4.40418709e-02,  1.10654221e-01, -1.13871551e-01,\n",
       "        -5.07200986e-01,  3.01433159e-02, -7.53134333e-03,\n",
       "        -4.10728358e-01,  1.08830186e-01,  1.95979783e-01,\n",
       "         5.26988017e-02,  6.77638756e-02, -1.41936037e-01,\n",
       "         2.03803682e-01, -9.33898433e-02, -3.85684181e-01,\n",
       "         4.63021329e-01, -5.25548238e-01, -9.01765512e-02,\n",
       "         2.39186430e-01, -2.64180144e-02, -6.35802846e-01,\n",
       "         6.78909269e-02,  5.75451740e-01,  1.72842533e-01],\n",
       "       [ 1.78112137e-01,  1.50377393e-02,  2.24537068e-01,\n",
       "         1.93481837e-01,  1.48909472e-01,  1.83385313e-01,\n",
       "         1.86909957e-01,  3.74320349e-02, -1.45800248e-01,\n",
       "        -4.28662573e-01,  3.91435842e-02,  5.53557045e-01,\n",
       "         9.75576065e-02, -1.78435441e-01, -1.53201529e-02,\n",
       "         1.23531713e-01,  1.57548414e-02, -1.28935907e-01,\n",
       "        -1.29213146e-01,  3.43408476e-01, -7.03169164e-01,\n",
       "        -1.65072280e-01,  3.79426961e-01,  1.75033087e-02,\n",
       "        -1.47629236e-01, -2.63253210e-02, -2.22622993e-01,\n",
       "         1.61285130e-02, -3.02633928e-01,  2.37164550e-02],\n",
       "       [-6.22790789e-01,  1.69212994e-01,  2.09376282e-01,\n",
       "         6.60045060e-02,  4.43278820e-01, -5.20881443e-01,\n",
       "        -3.84133199e-01, -1.18613202e-01,  2.23588500e-01,\n",
       "        -1.44890341e-01,  6.47128997e-02, -1.65125923e-01,\n",
       "         3.06235098e-01,  8.51020922e-01, -7.66414467e-01,\n",
       "        -1.59738364e-01,  9.19851670e-02, -2.03143728e-01,\n",
       "        -1.55626779e-01,  7.98544673e-02,  1.82020542e-01,\n",
       "         5.85528145e-01, -2.28209503e-01, -6.63046082e-02,\n",
       "         1.14860497e-01,  4.04753725e-01, -7.48139251e-03,\n",
       "         1.10238555e-01,  9.30598798e-02,  8.77836267e-03],\n",
       "       [-1.91858995e-01, -6.32730967e-02, -6.80295623e-02,\n",
       "        -1.60669320e-01, -4.47508810e-02, -2.09145200e-01,\n",
       "        -2.01766006e-01, -9.63571497e-02,  1.27162908e-01,\n",
       "         3.14348532e-01,  4.59823368e-02, -4.66255812e-01,\n",
       "         5.68690879e-02,  2.21635804e-01, -7.38371429e-02,\n",
       "        -1.26727874e-01, -1.93190307e-02, -1.17031693e-01,\n",
       "        -1.79140783e-03, -1.14662931e-01,  3.18304207e-01,\n",
       "        -2.96186387e-01,  7.27821348e-01,  1.95658267e-01,\n",
       "         1.76613117e-01,  4.37047970e-01,  1.15255114e+00,\n",
       "         8.22176857e-03, -2.31509440e-01,  3.31915629e-03],\n",
       "       [ 2.11854837e-02, -9.56489390e-01,  1.55165342e-01,\n",
       "         8.65424255e-04,  5.06695078e-02, -2.83417746e-01,\n",
       "        -8.71083977e-02,  6.35792391e-02,  2.87426077e-02,\n",
       "        -1.35750839e-01,  6.51530555e-02, -3.22916477e-01,\n",
       "        -2.55569965e-01, -1.20000457e-01,  2.66139675e-02,\n",
       "         9.47632459e-02, -2.52132908e-03, -1.12535821e-01,\n",
       "         2.70412164e-02, -3.59285395e-01,  2.04289389e-01,\n",
       "        -3.46340604e-01,  7.97539419e-02, -5.93077896e-01,\n",
       "         2.25254983e-02,  1.87512717e-01,  7.88397006e-01,\n",
       "        -1.20926017e-02,  7.57124841e-01,  1.24953261e-01],\n",
       "       [ 1.10807757e-02,  1.82604713e-01, -2.10924587e-01,\n",
       "         8.41724109e-02, -2.67050991e-01, -3.06773432e-01,\n",
       "        -4.66137646e-02, -3.26280298e-02,  9.61461164e-02,\n",
       "         5.83743013e-01,  3.57420961e-02, -9.18519897e-02,\n",
       "        -1.47599237e-02,  1.15624544e-01, -3.27238013e-01,\n",
       "        -5.95686977e-02,  7.20610960e-02,  9.48696358e-02,\n",
       "        -2.83680188e-03, -2.13929993e-01,  3.32941826e-01,\n",
       "         4.08740985e-02, -3.43880614e-01, -7.92650890e-02,\n",
       "         5.49509215e-02, -6.32791369e-02,  5.81794802e-02,\n",
       "         1.57013685e-02,  2.45894256e-02, -1.30414925e-01],\n",
       "       [-3.52761299e-01,  1.30972148e-01,  4.25604644e-01,\n",
       "        -1.46057136e-01, -2.57515374e-01, -2.05962277e-01,\n",
       "         5.18541904e-02,  1.53389363e-01,  5.89816952e-02,\n",
       "         3.83177907e-01, -8.26315071e-02, -1.18010997e-01,\n",
       "        -1.37512946e-01,  7.80616370e-01, -4.29228278e-03,\n",
       "        -9.48750471e-02,  8.10103960e-02, -2.92969671e-02,\n",
       "        -1.08626720e-01, -7.89298255e-01,  1.93553853e-01,\n",
       "         3.39651833e-01, -3.37533172e-01, -1.38336219e-01,\n",
       "        -1.39013450e-02, -5.21756738e-01,  2.97455050e-01,\n",
       "         1.19236561e-01,  4.13124897e-01,  1.90485307e-01],\n",
       "       [ 4.02702470e-02, -2.52714911e-01,  1.89062689e-01,\n",
       "         1.97940527e-03, -2.07489501e-03, -1.71144245e-01,\n",
       "        -6.75798919e-02, -1.15899455e-01, -2.87719803e-02,\n",
       "         5.45580049e-02,  1.92436515e-02, -8.46147687e-02,\n",
       "         2.93494460e-01,  1.35125631e-02, -1.54355796e-01,\n",
       "         8.45470070e-02, -1.03443383e-02, -1.67787062e-01,\n",
       "        -8.05460602e-02,  5.95338066e-02,  9.01797550e-04,\n",
       "        -2.56385853e-01,  3.74426429e-01, -4.20098610e-02,\n",
       "         2.27927510e-02,  6.16489241e-02,  5.02427319e-01,\n",
       "        -1.69365743e-03,  1.38954456e-02, -4.19840471e-03],\n",
       "       [ 4.24161136e-02,  8.18995080e-02,  6.33316491e-03,\n",
       "         3.18664808e-02,  9.86359620e-02,  1.43542962e-01,\n",
       "         6.94464546e-02,  2.35616976e-01, -1.20663944e-01,\n",
       "        -2.68024498e-01, -9.91906341e-02, -1.17570538e-02,\n",
       "        -3.45378633e-01, -2.25695740e-01,  3.63162826e-01,\n",
       "        -1.58950608e-02, -1.25492763e-01,  3.35993008e-01,\n",
       "         8.18150431e-02, -3.07846382e-01,  4.21958719e-01,\n",
       "         2.17507791e-01, -3.30805864e-01,  8.45210670e-02,\n",
       "        -3.25864196e-01,  6.10930198e-02, -4.02491236e-01,\n",
       "        -6.99153756e-02, -3.75719201e-02,  4.80298702e-02],\n",
       "       [-2.61723605e-01,  7.74751136e-01,  1.17017837e-01,\n",
       "        -3.78674137e-01,  9.32651815e-02,  6.16901949e-01,\n",
       "         1.11490781e-01,  2.79975032e-01,  5.25007051e-01,\n",
       "        -2.68230047e-02, -3.54048450e-03,  6.43834252e-01,\n",
       "        -5.99406369e-01,  9.20412736e-04,  4.77284982e-01,\n",
       "        -3.48978849e-01, -5.93786410e-02,  3.20512238e-01,\n",
       "        -1.51879790e-01,  6.12050223e-02, -2.99283578e-01,\n",
       "         1.59481690e-01, -1.20585140e-02,  1.24995620e-01,\n",
       "        -2.48065879e-01,  9.97094524e-02, -5.49002461e-01,\n",
       "        -1.16325993e-01, -7.08128959e-01, -1.45210043e-01],\n",
       "       [-2.19754909e-01, -4.04368225e-01,  5.65253860e-02,\n",
       "        -3.55410844e-01,  6.81315615e-02,  1.44309812e-01,\n",
       "        -1.25596192e-01, -3.28378316e-01,  2.04109816e-01,\n",
       "         2.23582928e-01, -1.22006697e-01, -2.81351425e-01,\n",
       "         6.11903575e-01,  4.62796713e-02,  3.16997455e-02,\n",
       "         4.02399769e-03,  4.75948145e-03, -1.40031727e-02,\n",
       "         2.61769419e-02,  4.28773540e-01,  1.58525591e-01,\n",
       "         1.21347527e-01, -6.03502028e-01, -2.50801923e-01,\n",
       "         2.24811164e-01, -6.93249636e-01, -5.55196260e-01,\n",
       "        -2.24271343e-02,  5.64260895e-01, -4.82275006e-02],\n",
       "       [ 9.32750124e-02,  1.00799137e+00, -9.46540089e-02,\n",
       "         2.36833234e-01, -3.10031262e-02,  1.91988153e-01,\n",
       "         1.85039523e-01,  1.53614499e-01, -1.78841537e-01,\n",
       "        -1.45842315e-01, -3.97671090e-03,  5.26299702e-01,\n",
       "        -1.22590264e-01,  1.14762330e-01, -4.25247349e-02,\n",
       "        -4.88132824e-02,  1.74615932e-02,  9.74423695e-02,\n",
       "        -4.22888140e-02,  7.26450588e-02, -3.70203998e-01,\n",
       "         3.64361326e-01,  4.43799044e-02,  5.59117873e-01,\n",
       "        -1.70170011e-01,  8.00555380e-02, -6.62384897e-01,\n",
       "         4.27456862e-02, -8.04408056e-01, -4.01234051e-02],\n",
       "       [ 4.96492443e-01, -6.10182564e-01, -2.89818400e-01,\n",
       "         3.22885111e-01, -5.93644701e-02, -1.89722508e-01,\n",
       "         1.44585221e-02, -1.88634815e-01, -4.94173995e-01,\n",
       "        -2.15924164e-01,  1.47414876e-02, -3.45853972e-01,\n",
       "         3.28571293e-01, -5.06470313e-01, -9.18823195e-02,\n",
       "         3.41995680e-01, -1.53543331e-02, -1.76764786e-01,\n",
       "         2.12136682e-01,  1.99424683e-01,  4.06215500e-02,\n",
       "        -3.06610235e-01,  1.33085707e-01, -6.70876446e-03,\n",
       "         1.47589926e-01,  3.99152913e-02,  1.65589838e-01,\n",
       "         1.46961401e-02,  3.75851089e-01,  6.21242751e-02],\n",
       "       [ 5.32812404e-01, -1.90121437e-02, -1.95246113e-02,\n",
       "        -1.02686816e-01, -2.13619728e-01,  1.85998626e-01,\n",
       "         1.76927831e-02, -6.48743600e-03, -1.75221253e-01,\n",
       "        -1.16840287e-01, -4.68614299e-03, -7.63545546e-02,\n",
       "        -2.86921716e-02, -6.08782875e-01,  4.07679604e-01,\n",
       "         1.94995237e-01, -1.66004096e-01, -5.56902966e-02,\n",
       "         1.01216735e-01, -2.93852885e-02,  9.67993548e-02,\n",
       "        -4.04213473e-01,  5.03577734e-01,  2.59964113e-01,\n",
       "        -5.19293891e-02,  3.09841350e-01,  3.65298047e-01,\n",
       "        -1.50927469e-01, -1.77784544e-01, -6.65954298e-02],\n",
       "       [-2.21076967e-01,  2.64716473e-01,  6.69687930e-02,\n",
       "        -1.41730213e-02,  3.47277318e-02,  1.37102418e-02,\n",
       "         3.48025063e-02, -6.00211083e-02,  1.83913532e-01,\n",
       "         3.16035166e-01, -1.22435477e-02,  2.51181883e-01,\n",
       "         2.24569270e-01,  1.87213956e-01, -2.11404361e-01,\n",
       "        -1.41674575e-01,  5.05105904e-02,  9.97029982e-02,\n",
       "        -1.65393020e-01,  2.30686925e-01, -9.87156876e-02,\n",
       "        -9.99129224e-03,  4.62634166e-02,  4.97244370e-02,\n",
       "        -7.67469833e-02, -2.11717207e-01, -1.30760770e-01,\n",
       "         2.38399708e-02, -4.24713630e-01, -1.06683272e-01]])"
      ]
     },
     "execution_count": 77,
     "metadata": {},
     "output_type": "execute_result"
    }
   ],
   "source": [
    "sk_derived_X_train = pca.inverse_transform(sk_X_train_transformed)\n",
    "sk_derived_X_train - sk_scaled_X_train"
   ]
  },
  {
   "cell_type": "code",
   "execution_count": 78,
   "metadata": {},
   "outputs": [
    {
     "data": {
      "text/plain": [
       "<AxesSubplot:>"
      ]
     },
     "execution_count": 78,
     "metadata": {},
     "output_type": "execute_result"
    },
    {
     "data": {
      "image/png": "[encoded data removed]",
      "text/plain": [
       "<Figure size 864x432 with 2 Axes>"
      ]
     },
     "metadata": {
      "needs_background": "light"
     },
     "output_type": "display_data"
    }
   ],
   "source": [
    "temp_df3 = pd.DataFrame(pca.components_, columns=X.columns)\n",
    "temp_df3.rename(index={0: \"PC1\", 1: \"PC2\", 2: \"PC3\",3: \"PC4\",4: \"PC5\"}, inplace=True)\n",
    "\n",
    "plt.figure(figsize=(12,6))\n",
    "sns.heatmap(temp_df3,cmap='coolwarm')"
   ]
  },
  {
   "cell_type": "code",
   "execution_count": null,
   "metadata": {},
   "outputs": [],
   "source": []
  }
 ],
 "metadata": {
  "kernelspec": {
   "display_name": "Python 3",
   "language": "python",
   "name": "python3"
  },
  "language_info": {
   "codemirror_mode": {
    "name": "ipython",
    "version": 3
   },
   "file_extension": ".py",
   "mimetype": "text/x-python",
   "name": "python",
   "nbconvert_exporter": "python",
   "pygments_lexer": "ipython3",
   "version": "3.8.5"
  }
 },
 "nbformat": 4,
 "nbformat_minor": 4
}
