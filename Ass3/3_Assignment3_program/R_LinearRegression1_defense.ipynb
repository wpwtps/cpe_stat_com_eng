{
 "cells": [
  {
   "cell_type": "code",
   "execution_count": 1,
   "metadata": {},
   "outputs": [
    {
     "data": {
      "text/html": [
       "'C:/Users/User/Documents/stat2020/ass3/3_Assignment3_program'"
      ],
      "text/latex": [
       "'C:/Users/User/Documents/stat2020/ass3/3\\_Assignment3\\_program'"
      ],
      "text/markdown": [
       "'C:/Users/User/Documents/stat2020/ass3/3_Assignment3_program'"
      ],
      "text/plain": [
       "[1] \"C:/Users/User/Documents/stat2020/ass3/3_Assignment3_program\""
      ]
     },
     "metadata": {},
     "output_type": "display_data"
    }
   ],
   "source": [
    "getwd()\n",
    "#setwd('C:/Users/User/Documents/stat2020/ass3')\n",
    "#setwd(\"Documents/stat2020/week9/Week9_MultipleRegression-20210218T042705Z-001/Week9_MultipleRegression\")  "
   ]
  },
  {
   "cell_type": "code",
   "execution_count": 2,
   "metadata": {},
   "outputs": [
    {
     "data": {
      "text/html": [
       "<table>\n",
       "<thead><tr><th scope=col>year</th><th scope=col>personnel</th><th scope=col>operation</th><th scope=col>invest</th><th scope=col>subsidy</th><th scope=col>others</th><th scope=col>total</th><th scope=col>protest</th><th scope=col>sedge</th><th scope=col>dept</th></tr></thead>\n",
       "<tbody>\n",
       "\t<tr><td>2555    </td><td>77369.0 </td><td>18159.5 </td><td> 4783.0 </td><td>2901.8  </td><td>65454.1 </td><td>168667.4</td><td>0       </td><td>7       </td><td>3895977 </td></tr>\n",
       "\t<tr><td>2556    </td><td>81687.4 </td><td>21635.8 </td><td> 5444.6 </td><td>3308.3  </td><td>68415.4 </td><td>180491.5</td><td>1       </td><td>7       </td><td>4236004 </td></tr>\n",
       "\t<tr><td>2557    </td><td>83944.8 </td><td>21144.0 </td><td> 6061.4 </td><td>3308.3  </td><td>69361.5 </td><td>183820.0</td><td>1       </td><td>4       </td><td>4590713 </td></tr>\n",
       "\t<tr><td>2558    </td><td>85803.6 </td><td>21613.9 </td><td> 6977.8 </td><td>3283.1  </td><td>75270.7 </td><td>192949.1</td><td>0       </td><td>5       </td><td>4973664 </td></tr>\n",
       "\t<tr><td>2559    </td><td>88633.6 </td><td>24333.2 </td><td> 7754.6 </td><td>3596.0  </td><td>82143.9 </td><td>206461.3</td><td>0       </td><td>5       </td><td>5071762 </td></tr>\n",
       "\t<tr><td>2560    </td><td>90837.3 </td><td>25772.7 </td><td> 8398.4 </td><td>3536.4  </td><td>84905.1 </td><td>213449.9</td><td>0       </td><td>9       </td><td>5338301 </td></tr>\n",
       "\t<tr><td>2561    </td><td>91153.1 </td><td>25039.5 </td><td> 9544.1 </td><td>6610.7  </td><td>88176.3 </td><td>220523.7</td><td>0       </td><td>2       </td><td>5655236 </td></tr>\n",
       "\t<tr><td>2562    </td><td>93590.8 </td><td>24735.3 </td><td>11188.3 </td><td>5377.5  </td><td>92234.7 </td><td>227126.6</td><td>1       </td><td>3       </td><td>6039719 </td></tr>\n",
       "\t<tr><td>2563    </td><td>92346.6 </td><td>24777.8 </td><td>15433.6 </td><td>5162.5  </td><td>95632.9 </td><td>233353.4</td><td>1       </td><td>2       </td><td>6388920 </td></tr>\n",
       "\t<tr><td>2564    </td><td>91027.4 </td><td>24102.9 </td><td>14426.1 </td><td>4794.4  </td><td>80179.8 </td><td>214530.6</td><td>1       </td><td>2       </td><td>7168365 </td></tr>\n",
       "</tbody>\n",
       "</table>\n"
      ],
      "text/latex": [
       "\\begin{tabular}{r|llllllllll}\n",
       " year & personnel & operation & invest & subsidy & others & total & protest & sedge & dept\\\\\n",
       "\\hline\n",
       "\t 2555     & 77369.0  & 18159.5  &  4783.0  & 2901.8   & 65454.1  & 168667.4 & 0        & 7        & 3895977 \\\\\n",
       "\t 2556     & 81687.4  & 21635.8  &  5444.6  & 3308.3   & 68415.4  & 180491.5 & 1        & 7        & 4236004 \\\\\n",
       "\t 2557     & 83944.8  & 21144.0  &  6061.4  & 3308.3   & 69361.5  & 183820.0 & 1        & 4        & 4590713 \\\\\n",
       "\t 2558     & 85803.6  & 21613.9  &  6977.8  & 3283.1   & 75270.7  & 192949.1 & 0        & 5        & 4973664 \\\\\n",
       "\t 2559     & 88633.6  & 24333.2  &  7754.6  & 3596.0   & 82143.9  & 206461.3 & 0        & 5        & 5071762 \\\\\n",
       "\t 2560     & 90837.3  & 25772.7  &  8398.4  & 3536.4   & 84905.1  & 213449.9 & 0        & 9        & 5338301 \\\\\n",
       "\t 2561     & 91153.1  & 25039.5  &  9544.1  & 6610.7   & 88176.3  & 220523.7 & 0        & 2        & 5655236 \\\\\n",
       "\t 2562     & 93590.8  & 24735.3  & 11188.3  & 5377.5   & 92234.7  & 227126.6 & 1        & 3        & 6039719 \\\\\n",
       "\t 2563     & 92346.6  & 24777.8  & 15433.6  & 5162.5   & 95632.9  & 233353.4 & 1        & 2        & 6388920 \\\\\n",
       "\t 2564     & 91027.4  & 24102.9  & 14426.1  & 4794.4   & 80179.8  & 214530.6 & 1        & 2        & 7168365 \\\\\n",
       "\\end{tabular}\n"
      ],
      "text/markdown": [
       "\n",
       "| year | personnel | operation | invest | subsidy | others | total | protest | sedge | dept |\n",
       "|---|---|---|---|---|---|---|---|---|---|\n",
       "| 2555     | 77369.0  | 18159.5  |  4783.0  | 2901.8   | 65454.1  | 168667.4 | 0        | 7        | 3895977  |\n",
       "| 2556     | 81687.4  | 21635.8  |  5444.6  | 3308.3   | 68415.4  | 180491.5 | 1        | 7        | 4236004  |\n",
       "| 2557     | 83944.8  | 21144.0  |  6061.4  | 3308.3   | 69361.5  | 183820.0 | 1        | 4        | 4590713  |\n",
       "| 2558     | 85803.6  | 21613.9  |  6977.8  | 3283.1   | 75270.7  | 192949.1 | 0        | 5        | 4973664  |\n",
       "| 2559     | 88633.6  | 24333.2  |  7754.6  | 3596.0   | 82143.9  | 206461.3 | 0        | 5        | 5071762  |\n",
       "| 2560     | 90837.3  | 25772.7  |  8398.4  | 3536.4   | 84905.1  | 213449.9 | 0        | 9        | 5338301  |\n",
       "| 2561     | 91153.1  | 25039.5  |  9544.1  | 6610.7   | 88176.3  | 220523.7 | 0        | 2        | 5655236  |\n",
       "| 2562     | 93590.8  | 24735.3  | 11188.3  | 5377.5   | 92234.7  | 227126.6 | 1        | 3        | 6039719  |\n",
       "| 2563     | 92346.6  | 24777.8  | 15433.6  | 5162.5   | 95632.9  | 233353.4 | 1        | 2        | 6388920  |\n",
       "| 2564     | 91027.4  | 24102.9  | 14426.1  | 4794.4   | 80179.8  | 214530.6 | 1        | 2        | 7168365  |\n",
       "\n"
      ],
      "text/plain": [
       "   year personnel operation invest  subsidy others  total    protest sedge\n",
       "1  2555 77369.0   18159.5    4783.0 2901.8  65454.1 168667.4 0       7    \n",
       "2  2556 81687.4   21635.8    5444.6 3308.3  68415.4 180491.5 1       7    \n",
       "3  2557 83944.8   21144.0    6061.4 3308.3  69361.5 183820.0 1       4    \n",
       "4  2558 85803.6   21613.9    6977.8 3283.1  75270.7 192949.1 0       5    \n",
       "5  2559 88633.6   24333.2    7754.6 3596.0  82143.9 206461.3 0       5    \n",
       "6  2560 90837.3   25772.7    8398.4 3536.4  84905.1 213449.9 0       9    \n",
       "7  2561 91153.1   25039.5    9544.1 6610.7  88176.3 220523.7 0       2    \n",
       "8  2562 93590.8   24735.3   11188.3 5377.5  92234.7 227126.6 1       3    \n",
       "9  2563 92346.6   24777.8   15433.6 5162.5  95632.9 233353.4 1       2    \n",
       "10 2564 91027.4   24102.9   14426.1 4794.4  80179.8 214530.6 1       2    \n",
       "   dept   \n",
       "1  3895977\n",
       "2  4236004\n",
       "3  4590713\n",
       "4  4973664\n",
       "5  5071762\n",
       "6  5338301\n",
       "7  5655236\n",
       "8  6039719\n",
       "9  6388920\n",
       "10 7168365"
      ]
     },
     "metadata": {},
     "output_type": "display_data"
    }
   ],
   "source": [
    "df <- read.csv(\"defense.csv\", sep=\",\", header=T, \n",
    "               fileEncoding=\"UTF-8-BOM\")\n",
    "attach(df)\n",
    "df"
   ]
  },
  {
   "cell_type": "code",
   "execution_count": 3,
   "metadata": {},
   "outputs": [],
   "source": [
    "x1 <- personnel\n",
    "x2 <- operation\n",
    "x3 <- invest\n",
    "x4 <- subsidy\n",
    "x5 <- others\n",
    "x6 <- protest\n",
    "x7 <- sedge\n",
    "x8 <- dept\n",
    "y <- total"
   ]
  },
  {
   "cell_type": "code",
   "execution_count": 4,
   "metadata": {},
   "outputs": [
    {
     "data": {
      "text/html": [
       "<ol class=list-inline>\n",
       "\t<li>77369</li>\n",
       "\t<li>81687.4</li>\n",
       "\t<li>83944.8</li>\n",
       "\t<li>85803.6</li>\n",
       "\t<li>88633.6</li>\n",
       "\t<li>90837.3</li>\n",
       "\t<li>91153.1</li>\n",
       "\t<li>93590.8</li>\n",
       "\t<li>92346.6</li>\n",
       "\t<li>91027.4</li>\n",
       "</ol>\n"
      ],
      "text/latex": [
       "\\begin{enumerate*}\n",
       "\\item 77369\n",
       "\\item 81687.4\n",
       "\\item 83944.8\n",
       "\\item 85803.6\n",
       "\\item 88633.6\n",
       "\\item 90837.3\n",
       "\\item 91153.1\n",
       "\\item 93590.8\n",
       "\\item 92346.6\n",
       "\\item 91027.4\n",
       "\\end{enumerate*}\n"
      ],
      "text/markdown": [
       "1. 77369\n",
       "2. 81687.4\n",
       "3. 83944.8\n",
       "4. 85803.6\n",
       "5. 88633.6\n",
       "6. 90837.3\n",
       "7. 91153.1\n",
       "8. 93590.8\n",
       "9. 92346.6\n",
       "10. 91027.4\n",
       "\n",
       "\n"
      ],
      "text/plain": [
       " [1] 77369.0 81687.4 83944.8 85803.6 88633.6 90837.3 91153.1 93590.8 92346.6\n",
       "[10] 91027.4"
      ]
     },
     "metadata": {},
     "output_type": "display_data"
    }
   ],
   "source": [
    "x1"
   ]
  },
  {
   "cell_type": "code",
   "execution_count": 5,
   "metadata": {},
   "outputs": [
    {
     "name": "stderr",
     "output_type": "stream",
     "text": [
      "Warning message in summary.lm(model):\n",
      "\"essentially perfect fit: summary may be unreliable\""
     ]
    },
    {
     "data": {
      "text/plain": [
       "\n",
       "Call:\n",
       "lm(formula = y ~ x1 + x2 + x3 + x4 + x5 + x6 + x7 + x8)\n",
       "\n",
       "Residuals:\n",
       "         1          2          3          4          5          6          7 \n",
       "-9.878e-12  1.292e-11 -1.108e-11  2.082e-11 -7.354e-12 -4.410e-12  8.238e-13 \n",
       "         8          9         10 \n",
       "-2.594e-12  3.163e-12 -2.414e-12 \n",
       "\n",
       "Coefficients:\n",
       "              Estimate Std. Error    t value Pr(>|t|)    \n",
       "(Intercept) -1.841e-10  1.411e-09 -1.300e-01    0.917    \n",
       "x1           1.000e+00  4.104e-14  2.437e+13 2.61e-14 ***\n",
       "x2           1.000e+00  2.617e-14  3.821e+13 1.67e-14 ***\n",
       "x3           1.000e+00  4.846e-14  2.063e+13 3.09e-14 ***\n",
       "x4           1.000e+00  3.185e-14  3.140e+13 2.03e-14 ***\n",
       "x5           1.000e+00  1.555e-14  6.429e+13 9.90e-15 ***\n",
       "x6           2.666e-11  4.480e-11  5.950e-01    0.658    \n",
       "x7          -3.207e-12  1.241e-11 -2.580e-01    0.839    \n",
       "x8           1.786e-17  1.964e-16  9.100e-02    0.942    \n",
       "---\n",
       "Signif. codes:  0 '***' 0.001 '**' 0.01 '*' 0.05 '.' 0.1 ' ' 1\n",
       "\n",
       "Residual standard error: 3.029e-11 on 1 degrees of freedom\n",
       "Multiple R-squared:      1,\tAdjusted R-squared:      1 \n",
       "F-statistic: 5.73e+29 on 8 and 1 DF,  p-value: 1.022e-15\n"
      ]
     },
     "metadata": {},
     "output_type": "display_data"
    }
   ],
   "source": [
    "model <- lm(y ~ x1+x2+x3+x4+x5+x6+x7+x8)\n",
    "summary(model)"
   ]
  },
  {
   "cell_type": "code",
   "execution_count": 20,
   "metadata": {},
   "outputs": [],
   "source": [
    "y1 = 9.019e-10 +1.000e+00*x1 + 1.000e+00*x2 + 1.000e+00*x3 + 1.000e+00*x4 + 1.000e+00*x5 + 2.694e-11*x6 +1.470e-12*x7 +  9.497e-17*x8"
   ]
  },
  {
   "cell_type": "code",
   "execution_count": 21,
   "metadata": {},
   "outputs": [
    {
     "data": {
      "text/html": [
       "<ol class=list-inline>\n",
       "\t<li>168667.4</li>\n",
       "\t<li>180491.5</li>\n",
       "\t<li>183820</li>\n",
       "\t<li>192949.1</li>\n",
       "\t<li>206461.3</li>\n",
       "\t<li>213449.9</li>\n",
       "\t<li>220523.7</li>\n",
       "\t<li>227126.6</li>\n",
       "\t<li>233353.4</li>\n",
       "\t<li>214530.6</li>\n",
       "</ol>\n"
      ],
      "text/latex": [
       "\\begin{enumerate*}\n",
       "\\item 168667.4\n",
       "\\item 180491.5\n",
       "\\item 183820\n",
       "\\item 192949.1\n",
       "\\item 206461.3\n",
       "\\item 213449.9\n",
       "\\item 220523.7\n",
       "\\item 227126.6\n",
       "\\item 233353.4\n",
       "\\item 214530.6\n",
       "\\end{enumerate*}\n"
      ],
      "text/markdown": [
       "1. 168667.4\n",
       "2. 180491.5\n",
       "3. 183820\n",
       "4. 192949.1\n",
       "5. 206461.3\n",
       "6. 213449.9\n",
       "7. 220523.7\n",
       "8. 227126.6\n",
       "9. 233353.4\n",
       "10. 214530.6\n",
       "\n",
       "\n"
      ],
      "text/plain": [
       " [1] 168667.4 180491.5 183820.0 192949.1 206461.3 213449.9 220523.7 227126.6\n",
       " [9] 233353.4 214530.6"
      ]
     },
     "metadata": {},
     "output_type": "display_data"
    }
   ],
   "source": [
    "y"
   ]
  },
  {
   "cell_type": "code",
   "execution_count": 22,
   "metadata": {},
   "outputs": [
    {
     "data": {
      "text/html": [
       "<ol class=list-inline>\n",
       "\t<li>168667.400000001</li>\n",
       "\t<li>180491.500000001</li>\n",
       "\t<li>183820.000000001</li>\n",
       "\t<li>192949.100000001</li>\n",
       "\t<li>206461.300000001</li>\n",
       "\t<li>213449.900000001</li>\n",
       "\t<li>220523.700000001</li>\n",
       "\t<li>227126.600000002</li>\n",
       "\t<li>233353.400000002</li>\n",
       "\t<li>214530.600000002</li>\n",
       "</ol>\n"
      ],
      "text/latex": [
       "\\begin{enumerate*}\n",
       "\\item 168667.400000001\n",
       "\\item 180491.500000001\n",
       "\\item 183820.000000001\n",
       "\\item 192949.100000001\n",
       "\\item 206461.300000001\n",
       "\\item 213449.900000001\n",
       "\\item 220523.700000001\n",
       "\\item 227126.600000002\n",
       "\\item 233353.400000002\n",
       "\\item 214530.600000002\n",
       "\\end{enumerate*}\n"
      ],
      "text/markdown": [
       "1. 168667.400000001\n",
       "2. 180491.500000001\n",
       "3. 183820.000000001\n",
       "4. 192949.100000001\n",
       "5. 206461.300000001\n",
       "6. 213449.900000001\n",
       "7. 220523.700000001\n",
       "8. 227126.600000002\n",
       "9. 233353.400000002\n",
       "10. 214530.600000002\n",
       "\n",
       "\n"
      ],
      "text/plain": [
       " [1] 168667.4 180491.5 183820.0 192949.1 206461.3 213449.9 220523.7 227126.6\n",
       " [9] 233353.4 214530.6"
      ]
     },
     "metadata": {},
     "output_type": "display_data"
    }
   ],
   "source": [
    "y1"
   ]
  },
  {
   "cell_type": "code",
   "execution_count": 9,
   "metadata": {},
   "outputs": [
    {
     "data": {
      "text/html": [
       "<ol class=list-inline>\n",
       "\t<li>2555</li>\n",
       "\t<li>2556</li>\n",
       "\t<li>2557</li>\n",
       "\t<li>2558</li>\n",
       "\t<li>2559</li>\n",
       "\t<li>2560</li>\n",
       "\t<li>2561</li>\n",
       "\t<li>2562</li>\n",
       "\t<li>2563</li>\n",
       "\t<li>2564</li>\n",
       "</ol>\n"
      ],
      "text/latex": [
       "\\begin{enumerate*}\n",
       "\\item 2555\n",
       "\\item 2556\n",
       "\\item 2557\n",
       "\\item 2558\n",
       "\\item 2559\n",
       "\\item 2560\n",
       "\\item 2561\n",
       "\\item 2562\n",
       "\\item 2563\n",
       "\\item 2564\n",
       "\\end{enumerate*}\n"
      ],
      "text/markdown": [
       "1. 2555\n",
       "2. 2556\n",
       "3. 2557\n",
       "4. 2558\n",
       "5. 2559\n",
       "6. 2560\n",
       "7. 2561\n",
       "8. 2562\n",
       "9. 2563\n",
       "10. 2564\n",
       "\n",
       "\n"
      ],
      "text/plain": [
       " [1] 2555 2556 2557 2558 2559 2560 2561 2562 2563 2564"
      ]
     },
     "metadata": {},
     "output_type": "display_data"
    }
   ],
   "source": [
    "year <- year\n",
    "year"
   ]
  },
  {
   "cell_type": "code",
   "execution_count": 10,
   "metadata": {},
   "outputs": [],
   "source": [
    "data<-data.frame(y,y1)"
   ]
  },
  {
   "cell_type": "code",
   "execution_count": 11,
   "metadata": {},
   "outputs": [
    {
     "data": {
      "image/png": "[encoded data removed]",
      "text/plain": [
       "plot without title"
      ]
     },
     "metadata": {},
     "output_type": "display_data"
    }
   ],
   "source": [
    "plot(year, y, type=\"o\", xlab=\"x\", ylab=\"y\",ylim=c(0,400000) )\n",
    "points(year, y1, col=\"green\", pch=\"*\")\n",
    "lines(year,y1,lty=2,col=\"green\")\n",
    "legend(2556,400000,legend=c(\"total\",\"predicted\"), col=c(\"black\",\"green\"),pch=c(\"o\",\"*\"),lty=c(1,2), ncol=2)"
   ]
  },
  {
   "cell_type": "code",
   "execution_count": 12,
   "metadata": {},
   "outputs": [
    {
     "ename": "ERROR",
     "evalue": "Error in plot.xy(xy.coords(x, y), type = type, ...): plot.new has not been called yet\n",
     "output_type": "error",
     "traceback": [
      "Error in plot.xy(xy.coords(x, y), type = type, ...): plot.new has not been called yet\nTraceback:\n",
      "1. lines(year, y1, lty = 2, lwd = 2, col = \"green\")",
      "2. lines.default(year, y1, lty = 2, lwd = 2, col = \"green\")",
      "3. plot.xy(xy.coords(x, y), type = type, ...)"
     ]
    }
   ],
   "source": [
    "lines(year,y1,lty=2,lwd=2,col=\"green\")"
   ]
  },
  {
   "cell_type": "code",
   "execution_count": 13,
   "metadata": {},
   "outputs": [
    {
     "name": "stdout",
     "output_type": "stream",
     "text": [
      "package 'Metrics' successfully unpacked and MD5 sums checked\n",
      "\n",
      "The downloaded binary packages are in\n",
      "\tC:\\Users\\User\\AppData\\Local\\Temp\\RtmpcPklJC\\downloaded_packages\n"
     ]
    },
    {
     "name": "stderr",
     "output_type": "stream",
     "text": [
      "Warning message:\n",
      "\"package 'Metrics' was built under R version 3.6.3\""
     ]
    },
    {
     "data": {
      "text/html": [
       "2.34416368152628e-18"
      ],
      "text/latex": [
       "2.34416368152628e-18"
      ],
      "text/markdown": [
       "2.34416368152628e-18"
      ],
      "text/plain": [
       "[1] 2.344164e-18"
      ]
     },
     "metadata": {},
     "output_type": "display_data"
    }
   ],
   "source": [
    "install.packages(\"Metrics\")\n",
    "library(Metrics)\n",
    "mse(y, y1)"
   ]
  },
  {
   "cell_type": "code",
   "execution_count": 14,
   "metadata": {},
   "outputs": [
    {
     "data": {
      "text/html": [
       "1.52795109897852e-09"
      ],
      "text/latex": [
       "1.52795109897852e-09"
      ],
      "text/markdown": [
       "1.52795109897852e-09"
      ],
      "text/plain": [
       "[1] 1.527951e-09"
      ]
     },
     "metadata": {},
     "output_type": "display_data"
    }
   ],
   "source": [
    "mae(y, y1)"
   ]
  },
  {
   "cell_type": "code",
   "execution_count": 15,
   "metadata": {},
   "outputs": [
    {
     "data": {
      "text/html": [
       "1.53106619109896e-09"
      ],
      "text/latex": [
       "1.53106619109896e-09"
      ],
      "text/markdown": [
       "1.53106619109896e-09"
      ],
      "text/plain": [
       "[1] 1.531066e-09"
      ]
     },
     "metadata": {},
     "output_type": "display_data"
    }
   ],
   "source": [
    "rmse(y, y1)"
   ]
  },
  {
   "cell_type": "code",
   "execution_count": 16,
   "metadata": {},
   "outputs": [
    {
     "data": {
      "text/html": [
       "7.52058708393699e-15"
      ],
      "text/latex": [
       "7.52058708393699e-15"
      ],
      "text/markdown": [
       "7.52058708393699e-15"
      ],
      "text/plain": [
       "[1] 7.520587e-15"
      ]
     },
     "metadata": {},
     "output_type": "display_data"
    }
   ],
   "source": [
    "mape(y, y1)"
   ]
  },
  {
   "cell_type": "code",
   "execution_count": 17,
   "metadata": {},
   "outputs": [
    {
     "data": {
      "text/html": [
       "1"
      ],
      "text/latex": [
       "1"
      ],
      "text/markdown": [
       "1"
      ],
      "text/plain": [
       "[1] 1"
      ]
     },
     "metadata": {},
     "output_type": "display_data"
    }
   ],
   "source": [
    "rss <- sum((y1 - y) ^ 2)  ## residual sum of squares\n",
    "tss <- sum((y - mean(y)) ^ 2)  ## total sum of squares\n",
    "rsq <- 1 - rss/tss\n",
    "rsq"
   ]
  },
  {
   "cell_type": "code",
   "execution_count": 18,
   "metadata": {},
   "outputs": [
    {
     "name": "stdout",
     "output_type": "stream",
     "text": [
      "package 'ehaGoF' successfully unpacked and MD5 sums checked\n",
      "\n",
      "The downloaded binary packages are in\n",
      "\tC:\\Users\\User\\AppData\\Local\\Temp\\RtmpcPklJC\\downloaded_packages\n"
     ]
    },
    {
     "name": "stderr",
     "output_type": "stream",
     "text": [
      "Warning message:\n",
      "\"package 'ehaGoF' was built under R version 3.6.3\""
     ]
    }
   ],
   "source": [
    "install.packages(\"ehaGoF\")\n",
    "library(ehaGoF)"
   ]
  },
  {
   "cell_type": "code",
   "execution_count": 19,
   "metadata": {},
   "outputs": [
    {
     "data": {
      "text/html": [
       "1"
      ],
      "text/latex": [
       "1"
      ],
      "text/markdown": [
       "1"
      ],
      "text/plain": [
       "[1] 1"
      ]
     },
     "metadata": {},
     "output_type": "display_data"
    }
   ],
   "source": [
    "gofCoD(y, y1)"
   ]
  },
  {
   "cell_type": "code",
   "execution_count": null,
   "metadata": {},
   "outputs": [],
   "source": []
  },
  {
   "cell_type": "code",
   "execution_count": null,
   "metadata": {},
   "outputs": [],
   "source": []
  }
 ],
 "metadata": {
  "kernelspec": {
   "display_name": "R",
   "language": "R",
   "name": "ir"
  },
  "language_info": {
   "codemirror_mode": "r",
   "file_extension": ".r",
   "mimetype": "text/x-r-source",
   "name": "R",
   "pygments_lexer": "r",
   "version": "3.6.1"
  }
 },
 "nbformat": 4,
 "nbformat_minor": 4
}
