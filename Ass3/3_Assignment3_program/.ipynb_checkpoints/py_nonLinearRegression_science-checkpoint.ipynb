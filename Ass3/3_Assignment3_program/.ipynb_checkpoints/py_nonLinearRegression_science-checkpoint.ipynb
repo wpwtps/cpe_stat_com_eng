{
 "cells": [
  {
   "cell_type": "code",
   "execution_count": 1,
   "metadata": {},
   "outputs": [],
   "source": [
    "import os"
   ]
  },
  {
   "cell_type": "code",
   "execution_count": 2,
   "metadata": {},
   "outputs": [],
   "source": [
    "import math\n",
    "import numpy as np\n",
    "import pandas as pd"
   ]
  },
  {
   "cell_type": "code",
   "execution_count": 3,
   "metadata": {},
   "outputs": [],
   "source": [
    "import numpy as np \n",
    "from scipy.optimize import curve_fit \n",
    "from matplotlib import pyplot as plt \n",
    "%matplotlib inline\n"
   ]
  },
  {
   "cell_type": "markdown",
   "metadata": {},
   "source": [
    "# Expo"
   ]
  },
  {
   "cell_type": "code",
   "execution_count": 4,
   "metadata": {},
   "outputs": [],
   "source": [
    "df_expo = pd.read_csv('science_expo.csv')"
   ]
  },
  {
   "cell_type": "code",
   "execution_count": 5,
   "metadata": {
    "scrolled": true
   },
   "outputs": [
    {
     "data": {
      "text/html": [
       "<div>\n",
       "<style scoped>\n",
       "    .dataframe tbody tr th:only-of-type {\n",
       "        vertical-align: middle;\n",
       "    }\n",
       "\n",
       "    .dataframe tbody tr th {\n",
       "        vertical-align: top;\n",
       "    }\n",
       "\n",
       "    .dataframe thead th {\n",
       "        text-align: right;\n",
       "    }\n",
       "</style>\n",
       "<table border=\"1\" class=\"dataframe\">\n",
       "  <thead>\n",
       "    <tr style=\"text-align: right;\">\n",
       "      <th></th>\n",
       "      <th>year</th>\n",
       "      <th>personnel</th>\n",
       "      <th>operation</th>\n",
       "      <th>invest</th>\n",
       "      <th>subsidy</th>\n",
       "      <th>others</th>\n",
       "      <th>total</th>\n",
       "      <th>mhesi</th>\n",
       "      <th>dept</th>\n",
       "    </tr>\n",
       "  </thead>\n",
       "  <tbody>\n",
       "    <tr>\n",
       "      <th>0</th>\n",
       "      <td>2555</td>\n",
       "      <td>0.32750</td>\n",
       "      <td>0.4192</td>\n",
       "      <td>0.1554</td>\n",
       "      <td>7.1015</td>\n",
       "      <td>0.0487</td>\n",
       "      <td>8.0523</td>\n",
       "      <td>0</td>\n",
       "      <td>38.959767</td>\n",
       "    </tr>\n",
       "    <tr>\n",
       "      <th>1</th>\n",
       "      <td>2556</td>\n",
       "      <td>0.34540</td>\n",
       "      <td>0.4397</td>\n",
       "      <td>0.1727</td>\n",
       "      <td>7.7161</td>\n",
       "      <td>0.1569</td>\n",
       "      <td>8.8308</td>\n",
       "      <td>0</td>\n",
       "      <td>42.360041</td>\n",
       "    </tr>\n",
       "    <tr>\n",
       "      <th>2</th>\n",
       "      <td>2557</td>\n",
       "      <td>0.36050</td>\n",
       "      <td>0.4042</td>\n",
       "      <td>0.2448</td>\n",
       "      <td>7.6205</td>\n",
       "      <td>0.1336</td>\n",
       "      <td>8.7636</td>\n",
       "      <td>0</td>\n",
       "      <td>45.907129</td>\n",
       "    </tr>\n",
       "    <tr>\n",
       "      <th>3</th>\n",
       "      <td>2558</td>\n",
       "      <td>0.36560</td>\n",
       "      <td>0.3946</td>\n",
       "      <td>0.2153</td>\n",
       "      <td>7.8000</td>\n",
       "      <td>0.1211</td>\n",
       "      <td>8.8966</td>\n",
       "      <td>0</td>\n",
       "      <td>49.736635</td>\n",
       "    </tr>\n",
       "    <tr>\n",
       "      <th>4</th>\n",
       "      <td>2559</td>\n",
       "      <td>0.39830</td>\n",
       "      <td>0.3210</td>\n",
       "      <td>0.5055</td>\n",
       "      <td>8.3917</td>\n",
       "      <td>0.1092</td>\n",
       "      <td>9.7257</td>\n",
       "      <td>0</td>\n",
       "      <td>50.717621</td>\n",
       "    </tr>\n",
       "    <tr>\n",
       "      <th>5</th>\n",
       "      <td>2560</td>\n",
       "      <td>0.40230</td>\n",
       "      <td>0.3384</td>\n",
       "      <td>0.6209</td>\n",
       "      <td>8.9228</td>\n",
       "      <td>1.2184</td>\n",
       "      <td>11.5028</td>\n",
       "      <td>0</td>\n",
       "      <td>53.383014</td>\n",
       "    </tr>\n",
       "    <tr>\n",
       "      <th>6</th>\n",
       "      <td>2561</td>\n",
       "      <td>0.40660</td>\n",
       "      <td>0.3378</td>\n",
       "      <td>0.6825</td>\n",
       "      <td>12.1240</td>\n",
       "      <td>0.7245</td>\n",
       "      <td>14.2754</td>\n",
       "      <td>0</td>\n",
       "      <td>56.552360</td>\n",
       "    </tr>\n",
       "    <tr>\n",
       "      <th>7</th>\n",
       "      <td>2562</td>\n",
       "      <td>0.41500</td>\n",
       "      <td>0.3245</td>\n",
       "      <td>0.7811</td>\n",
       "      <td>12.9473</td>\n",
       "      <td>0.2597</td>\n",
       "      <td>14.7276</td>\n",
       "      <td>0</td>\n",
       "      <td>60.397192</td>\n",
       "    </tr>\n",
       "    <tr>\n",
       "      <th>8</th>\n",
       "      <td>2563</td>\n",
       "      <td>1.17001</td>\n",
       "      <td>1.0127</td>\n",
       "      <td>9.0916</td>\n",
       "      <td>104.1469</td>\n",
       "      <td>1.9442</td>\n",
       "      <td>127.8955</td>\n",
       "      <td>1</td>\n",
       "      <td>63.889201</td>\n",
       "    </tr>\n",
       "    <tr>\n",
       "      <th>9</th>\n",
       "      <td>2564</td>\n",
       "      <td>1.12484</td>\n",
       "      <td>0.9399</td>\n",
       "      <td>9.9564</td>\n",
       "      <td>104.3846</td>\n",
       "      <td>1.5977</td>\n",
       "      <td>128.1270</td>\n",
       "      <td>1</td>\n",
       "      <td>71.683653</td>\n",
       "    </tr>\n",
       "  </tbody>\n",
       "</table>\n",
       "</div>"
      ],
      "text/plain": [
       "   year  personnel  operation  invest   subsidy  others     total  mhesi  \\\n",
       "0  2555    0.32750     0.4192  0.1554    7.1015  0.0487    8.0523      0   \n",
       "1  2556    0.34540     0.4397  0.1727    7.7161  0.1569    8.8308      0   \n",
       "2  2557    0.36050     0.4042  0.2448    7.6205  0.1336    8.7636      0   \n",
       "3  2558    0.36560     0.3946  0.2153    7.8000  0.1211    8.8966      0   \n",
       "4  2559    0.39830     0.3210  0.5055    8.3917  0.1092    9.7257      0   \n",
       "5  2560    0.40230     0.3384  0.6209    8.9228  1.2184   11.5028      0   \n",
       "6  2561    0.40660     0.3378  0.6825   12.1240  0.7245   14.2754      0   \n",
       "7  2562    0.41500     0.3245  0.7811   12.9473  0.2597   14.7276      0   \n",
       "8  2563    1.17001     1.0127  9.0916  104.1469  1.9442  127.8955      1   \n",
       "9  2564    1.12484     0.9399  9.9564  104.3846  1.5977  128.1270      1   \n",
       "\n",
       "        dept  \n",
       "0  38.959767  \n",
       "1  42.360041  \n",
       "2  45.907129  \n",
       "3  49.736635  \n",
       "4  50.717621  \n",
       "5  53.383014  \n",
       "6  56.552360  \n",
       "7  60.397192  \n",
       "8  63.889201  \n",
       "9  71.683653  "
      ]
     },
     "execution_count": 5,
     "metadata": {},
     "output_type": "execute_result"
    }
   ],
   "source": [
    "df_expo"
   ]
  },
  {
   "cell_type": "code",
   "execution_count": 6,
   "metadata": {},
   "outputs": [
    {
     "data": {
      "text/plain": [
       "Index(['year', 'personnel', 'operation', 'invest', 'subsidy', 'others',\n",
       "       'total', 'mhesi', 'dept'],\n",
       "      dtype='object')"
      ]
     },
     "execution_count": 6,
     "metadata": {},
     "output_type": "execute_result"
    }
   ],
   "source": [
    "df_expo.columns"
   ]
  },
  {
   "cell_type": "code",
   "execution_count": 7,
   "metadata": {},
   "outputs": [
    {
     "data": {
      "text/html": [
       "<div>\n",
       "<style scoped>\n",
       "    .dataframe tbody tr th:only-of-type {\n",
       "        vertical-align: middle;\n",
       "    }\n",
       "\n",
       "    .dataframe tbody tr th {\n",
       "        vertical-align: top;\n",
       "    }\n",
       "\n",
       "    .dataframe thead th {\n",
       "        text-align: right;\n",
       "    }\n",
       "</style>\n",
       "<table border=\"1\" class=\"dataframe\">\n",
       "  <thead>\n",
       "    <tr style=\"text-align: right;\">\n",
       "      <th></th>\n",
       "      <th>year</th>\n",
       "    </tr>\n",
       "  </thead>\n",
       "  <tbody>\n",
       "    <tr>\n",
       "      <th>0</th>\n",
       "      <td>2555</td>\n",
       "    </tr>\n",
       "    <tr>\n",
       "      <th>1</th>\n",
       "      <td>2556</td>\n",
       "    </tr>\n",
       "    <tr>\n",
       "      <th>2</th>\n",
       "      <td>2557</td>\n",
       "    </tr>\n",
       "    <tr>\n",
       "      <th>3</th>\n",
       "      <td>2558</td>\n",
       "    </tr>\n",
       "    <tr>\n",
       "      <th>4</th>\n",
       "      <td>2559</td>\n",
       "    </tr>\n",
       "    <tr>\n",
       "      <th>5</th>\n",
       "      <td>2560</td>\n",
       "    </tr>\n",
       "    <tr>\n",
       "      <th>6</th>\n",
       "      <td>2561</td>\n",
       "    </tr>\n",
       "    <tr>\n",
       "      <th>7</th>\n",
       "      <td>2562</td>\n",
       "    </tr>\n",
       "    <tr>\n",
       "      <th>8</th>\n",
       "      <td>2563</td>\n",
       "    </tr>\n",
       "    <tr>\n",
       "      <th>9</th>\n",
       "      <td>2564</td>\n",
       "    </tr>\n",
       "  </tbody>\n",
       "</table>\n",
       "</div>"
      ],
      "text/plain": [
       "   year\n",
       "0  2555\n",
       "1  2556\n",
       "2  2557\n",
       "3  2558\n",
       "4  2559\n",
       "5  2560\n",
       "6  2561\n",
       "7  2562\n",
       "8  2563\n",
       "9  2564"
      ]
     },
     "execution_count": 7,
     "metadata": {},
     "output_type": "execute_result"
    }
   ],
   "source": [
    "df_expo[['year']]"
   ]
  },
  {
   "cell_type": "code",
   "execution_count": 8,
   "metadata": {},
   "outputs": [],
   "source": [
    "x1 = df_expo['personnel'].to_numpy()\n",
    "x2 =df_expo['operation'].to_numpy()\n",
    "x3 = df_expo['invest'].to_numpy()\n",
    "x4 =df_expo['subsidy'].to_numpy()\n",
    "x5 = df_expo['others'].to_numpy()\n",
    "x6 = df_expo['mhesi'].to_numpy()\n",
    "x7 = df_expo['dept'].to_numpy()\n",
    "y = df_expo['total'].to_numpy()"
   ]
  },
  {
   "cell_type": "code",
   "execution_count": 9,
   "metadata": {},
   "outputs": [
    {
     "data": {
      "text/plain": [
       "array([0, 0, 0, 0, 0, 0, 0, 0, 1, 1], dtype=int64)"
      ]
     },
     "execution_count": 9,
     "metadata": {},
     "output_type": "execute_result"
    }
   ],
   "source": [
    "x6"
   ]
  },
  {
   "cell_type": "code",
   "execution_count": 10,
   "metadata": {},
   "outputs": [],
   "source": [
    "def test(X, a, b, c, d, e , f, g, h):\n",
    "    x1, x2, x3, x4, x5, x6, x7 = X\n",
    "    return a*np.exp(b*x1 + c*x2 + d*x3 + e*x4 + f*x5 + g*x6 + h*x7) "
   ]
  },
  {
   "cell_type": "code",
   "execution_count": 11,
   "metadata": {},
   "outputs": [
    {
     "name": "stderr",
     "output_type": "stream",
     "text": [
      "C:\\Users\\User\\anaconda3\\lib\\site-packages\\scipy\\optimize\\minpack.py:828: OptimizeWarning: Covariance of the parameters could not be estimated\n",
      "  warnings.warn('Covariance of the parameters could not be estimated',\n"
     ]
    },
    {
     "data": {
      "text/plain": [
       "array([ 1.18332307e-13, -1.02103323e+02, -2.42796407e+00,  1.93064802e+00,\n",
       "        3.20301198e-01,  6.97454720e+00, -1.59816806e+01,  5.53553427e-01])"
      ]
     },
     "execution_count": 11,
     "metadata": {},
     "output_type": "execute_result"
    }
   ],
   "source": [
    "param, param_cov = curve_fit(test, (x1,x2,x3,x4,x5,x6,x7), y, maxfev=2000) \n",
    "param"
   ]
  },
  {
   "cell_type": "code",
   "execution_count": 12,
   "metadata": {},
   "outputs": [
    {
     "data": {
      "text/plain": [
       "array([5.50262939e-18, 1.48046300e-17, 2.33115097e-17, 1.08280275e-16,\n",
       "       1.54015759e-17, 1.45557125e-13, 5.44308290e-14, 1.23316728e-14,\n",
       "       3.47968579e-30, 1.59853808e-26])"
      ]
     },
     "execution_count": 12,
     "metadata": {},
     "output_type": "execute_result"
    }
   ],
   "source": [
    "predictions = (param[0]*(np.exp(param[1]*x1+param[2]*x2+param[3]*x3+param[4]*x4+param[5]*x5+param[6]*x6+param[7]*x7))) \n",
    "predictions"
   ]
  },
  {
   "cell_type": "code",
   "execution_count": 13,
   "metadata": {
    "scrolled": true
   },
   "outputs": [
    {
     "data": {
      "text/plain": [
       "99.99999999999983"
      ]
     },
     "execution_count": 13,
     "metadata": {},
     "output_type": "execute_result"
    }
   ],
   "source": [
    "mape = np.mean(np.abs((y - predictions) / y)) * 100\n",
    "mape"
   ]
  },
  {
   "cell_type": "code",
   "execution_count": 14,
   "metadata": {},
   "outputs": [
    {
     "data": {
      "text/plain": [
       "34.07972999999998"
      ]
     },
     "execution_count": 14,
     "metadata": {},
     "output_type": "execute_result"
    }
   ],
   "source": [
    "mae = np.mean(np.abs(y-predictions))\n",
    "mae"
   ]
  },
  {
   "cell_type": "code",
   "execution_count": 15,
   "metadata": {},
   "outputs": [
    {
     "data": {
      "text/plain": [
       "3372.0152684949994"
      ]
     },
     "execution_count": 15,
     "metadata": {},
     "output_type": "execute_result"
    }
   ],
   "source": [
    "from sklearn import metrics\n",
    "metrics.mean_squared_error(y,predictions)"
   ]
  },
  {
   "cell_type": "code",
   "execution_count": 16,
   "metadata": {},
   "outputs": [
    {
     "data": {
      "text/plain": [
       "58.06905603240851"
      ]
     },
     "execution_count": 16,
     "metadata": {},
     "output_type": "execute_result"
    }
   ],
   "source": [
    "rmse = math.sqrt(3372.0152684949994)\n",
    "rmse"
   ]
  },
  {
   "cell_type": "code",
   "execution_count": 17,
   "metadata": {},
   "outputs": [
    {
     "data": {
      "text/plain": [
       "-0.5253934154884816"
      ]
     },
     "execution_count": 17,
     "metadata": {},
     "output_type": "execute_result"
    }
   ],
   "source": [
    "R_square = metrics.r2_score(y, predictions) \n",
    "R_square"
   ]
  },
  {
   "cell_type": "code",
   "execution_count": 18,
   "metadata": {},
   "outputs": [
    {
     "data": {
      "text/plain": [
       "<matplotlib.legend.Legend at 0x1f527cc7a90>"
      ]
     },
     "execution_count": 18,
     "metadata": {},
     "output_type": "execute_result"
    },
    {
     "data": {
      "image/png": "[encoded data removed]",
      "text/plain": [
       "<Figure size 432x288 with 1 Axes>"
      ]
     },
     "metadata": {
      "needs_background": "light"
     },
     "output_type": "display_data"
    }
   ],
   "source": [
    "year = df_expo['year']\n",
    "plt.plot(year,y,'g-',label='actual')\n",
    "plt.plot(year,predictions,'r.', label='predicted')\n",
    "plt.legend()"
   ]
  },
  {
   "cell_type": "markdown",
   "metadata": {},
   "source": [
    "# logarithm"
   ]
  },
  {
   "cell_type": "code",
   "execution_count": 19,
   "metadata": {},
   "outputs": [],
   "source": [
    "df_log = pd.read_csv('science_log.csv')"
   ]
  },
  {
   "cell_type": "code",
   "execution_count": 20,
   "metadata": {},
   "outputs": [],
   "source": [
    "x1 = df_log['personnel'].to_numpy()\n",
    "x2 =df_log['operation'].to_numpy()\n",
    "x3 = df_log['invest'].to_numpy()\n",
    "x4 =df_log['subsidy'].to_numpy()\n",
    "x5 = df_log['others'].to_numpy()\n",
    "x6 = df_log['mhesi'].to_numpy()\n",
    "x7 = df_log['dept'].to_numpy()\n",
    "y = df_log['total'].to_numpy()"
   ]
  },
  {
   "cell_type": "code",
   "execution_count": 21,
   "metadata": {},
   "outputs": [
    {
     "data": {
      "text/plain": [
       "array([1.e-10, 1.e-10, 1.e-10, 1.e-10, 1.e-10, 1.e-10, 1.e-10, 1.e-10,\n",
       "       1.e+00, 1.e+00])"
      ]
     },
     "execution_count": 21,
     "metadata": {},
     "output_type": "execute_result"
    }
   ],
   "source": [
    "x6"
   ]
  },
  {
   "cell_type": "code",
   "execution_count": 29,
   "metadata": {},
   "outputs": [],
   "source": [
    "def test(X, a, b, c, d, e , f, g, h):\n",
    "    x1, x2, x3, x4, x5, x6, x7 = X\n",
    "    return a + b*np.log(x1) + c*np.log(x2) + d*np.log(x3) + e*np.log(x4) + f*np.log(x5) + g*np.log(x6) + h*np.log(x7)"
   ]
  },
  {
   "cell_type": "code",
   "execution_count": 30,
   "metadata": {},
   "outputs": [
    {
     "data": {
      "text/plain": [
       "array([ 7.94278828e+01, -6.70011857e+00, -8.72557400e-01,  7.82281905e-01,\n",
       "        1.02644831e+01,  3.84843403e-01,  4.21436482e+00, -4.67244558e-02])"
      ]
     },
     "execution_count": 30,
     "metadata": {},
     "output_type": "execute_result"
    }
   ],
   "source": [
    "param, param_cov = curve_fit(test, (x1,x2,x3,x4,x5,x6,x7), y, maxfev=10000) \n",
    "param"
   ]
  },
  {
   "cell_type": "code",
   "execution_count": 31,
   "metadata": {},
   "outputs": [
    {
     "data": {
      "text/plain": [
       "array([  7.95723383,   8.93991219,   8.80601128,   8.82983743,\n",
       "         9.81349417,  11.41712659,  14.36555361,  14.64563091,\n",
       "       127.84002372, 128.18247628])"
      ]
     },
     "execution_count": 31,
     "metadata": {},
     "output_type": "execute_result"
    }
   ],
   "source": [
    "predictions =  param[0] + param[1]*np.log(x1) + param[2]*np.log(x2) + param[3]*np.log(x3) + param[4]*np.log(x4) + param[5]*np.log(x5) + param[6]*np.log(x6) + param[7]*np.log(x7) \n",
    "predictions"
   ]
  },
  {
   "cell_type": "code",
   "execution_count": 32,
   "metadata": {},
   "outputs": [
    {
     "data": {
      "text/plain": [
       "0.6572852673895594"
      ]
     },
     "execution_count": 32,
     "metadata": {},
     "output_type": "execute_result"
    }
   ],
   "source": [
    "mape = np.mean(np.abs((y - predictions) / y)) * 100\n",
    "mape"
   ]
  },
  {
   "cell_type": "code",
   "execution_count": 33,
   "metadata": {},
   "outputs": [
    {
     "data": {
      "text/plain": [
       "0.07698950574027111"
      ]
     },
     "execution_count": 33,
     "metadata": {},
     "output_type": "execute_result"
    }
   ],
   "source": [
    "mae = np.mean(np.abs(y-predictions))\n",
    "mae"
   ]
  },
  {
   "cell_type": "code",
   "execution_count": 34,
   "metadata": {},
   "outputs": [
    {
     "data": {
      "text/plain": [
       "0.006324859565660969"
      ]
     },
     "execution_count": 34,
     "metadata": {},
     "output_type": "execute_result"
    }
   ],
   "source": [
    "from sklearn import metrics\n",
    "metrics.mean_squared_error(y,predictions)"
   ]
  },
  {
   "cell_type": "code",
   "execution_count": 35,
   "metadata": {},
   "outputs": [
    {
     "data": {
      "text/plain": [
       "0.07952898569490856"
      ]
     },
     "execution_count": 35,
     "metadata": {},
     "output_type": "execute_result"
    }
   ],
   "source": [
    "rmse = math.sqrt(0.006324859565660969)\n",
    "rmse"
   ]
  },
  {
   "cell_type": "code",
   "execution_count": 36,
   "metadata": {},
   "outputs": [
    {
     "data": {
      "text/plain": [
       "0.9999971388329034"
      ]
     },
     "execution_count": 36,
     "metadata": {},
     "output_type": "execute_result"
    }
   ],
   "source": [
    "R_square = metrics.r2_score(y, predictions) \n",
    "R_square"
   ]
  },
  {
   "cell_type": "code",
   "execution_count": 37,
   "metadata": {},
   "outputs": [
    {
     "data": {
      "text/plain": [
       "<matplotlib.legend.Legend at 0x1f527e846a0>"
      ]
     },
     "execution_count": 37,
     "metadata": {},
     "output_type": "execute_result"
    },
    {
     "data": {
      "image/png": "[encoded data removed]",
      "text/plain": [
       "<Figure size 432x288 with 1 Axes>"
      ]
     },
     "metadata": {
      "needs_background": "light"
     },
     "output_type": "display_data"
    }
   ],
   "source": [
    "year = df_log['year']\n",
    "plt.plot(year,y,'g-',label='actual')\n",
    "plt.plot(year,predictions,'r.', label='predicted')\n",
    "plt.legend()"
   ]
  },
  {
   "cell_type": "markdown",
   "metadata": {},
   "source": [
    "# Power"
   ]
  },
  {
   "cell_type": "code",
   "execution_count": 38,
   "metadata": {},
   "outputs": [],
   "source": [
    "x1 = df_expo['personnel'].to_numpy()\n",
    "x2 =df_expo['operation'].to_numpy()\n",
    "x3 = df_expo['invest'].to_numpy()\n",
    "x4 =df_expo['subsidy'].to_numpy()\n",
    "x5 = df_expo['others'].to_numpy()\n",
    "x6 = df_expo['mhesi'].to_numpy()\n",
    "x7 = df_expo['dept'].to_numpy()\n",
    "y = df_expo['total'].to_numpy()"
   ]
  },
  {
   "cell_type": "code",
   "execution_count": 39,
   "metadata": {},
   "outputs": [
    {
     "data": {
      "text/plain": [
       "array([0, 0, 0, 0, 0, 0, 0, 0, 1, 1], dtype=int64)"
      ]
     },
     "execution_count": 39,
     "metadata": {},
     "output_type": "execute_result"
    }
   ],
   "source": [
    "x6"
   ]
  },
  {
   "cell_type": "code",
   "execution_count": 40,
   "metadata": {},
   "outputs": [],
   "source": [
    "def test(X, a, b, c, d, e , f, g, h):\n",
    "    x1, x2, x3, x4, x5, x6, x7 = X\n",
    "    return a * ( np.power(x1,b) + np.power(x2,c) + np.power(x3,d) + np.power(x4,e) + np.power(x5,f) + np.power(x6,g) + np.power(x7,h))"
   ]
  },
  {
   "cell_type": "code",
   "execution_count": 41,
   "metadata": {},
   "outputs": [
    {
     "name": "stderr",
     "output_type": "stream",
     "text": [
      "C:\\Users\\User\\anaconda3\\lib\\site-packages\\scipy\\optimize\\minpack.py:828: OptimizeWarning: Covariance of the parameters could not be estimated\n",
      "  warnings.warn('Covariance of the parameters could not be estimated',\n"
     ]
    },
    {
     "data": {
      "text/plain": [
       "array([ 1.1076501 , 10.46381306,  3.91229795,  1.31020406,  0.96403935,\n",
       "        0.78955291,  1.        , -0.22026373])"
      ]
     },
     "execution_count": 41,
     "metadata": {},
     "output_type": "execute_result"
    }
   ],
   "source": [
    "param, param_cov = curve_fit(test, (x1,x2,x3,x4,x5,x6,x7), y, maxfev=1150) \n",
    "param"
   ]
  },
  {
   "cell_type": "code",
   "execution_count": 42,
   "metadata": {},
   "outputs": [
    {
     "data": {
      "text/plain": [
       "array([  8.06036115,   8.83867351,   8.75650457,   8.87938981,\n",
       "         9.73595619,  11.50042277,  14.27831475,  14.72529172,\n",
       "       127.89549827, 128.12700358])"
      ]
     },
     "execution_count": 42,
     "metadata": {},
     "output_type": "execute_result"
    }
   ],
   "source": [
    "predictions =  param[0] * ( np.power(x1,param[1]) + np.power(x2,param[2]) + np.power(x3,param[3]) + np.power(x4,param[4]) + np.power(x5,param[5]) + np.power(x6,param[6]) + np.power(x7,param[7]))\n",
    "predictions"
   ]
  },
  {
   "cell_type": "code",
   "execution_count": 43,
   "metadata": {},
   "outputs": [
    {
     "data": {
      "text/plain": [
       "0.06258975851076057"
      ]
     },
     "execution_count": 43,
     "metadata": {},
     "output_type": "execute_result"
    }
   ],
   "source": [
    "mape = np.mean(np.abs((y - predictions) / y)) * 100\n",
    "mape"
   ]
  },
  {
   "cell_type": "code",
   "execution_count": 44,
   "metadata": {},
   "outputs": [
    {
     "data": {
      "text/plain": [
       "0.00581020444080167"
      ]
     },
     "execution_count": 44,
     "metadata": {},
     "output_type": "execute_result"
    }
   ],
   "source": [
    "mae = np.mean(np.abs(y-predictions))\n",
    "mae"
   ]
  },
  {
   "cell_type": "code",
   "execution_count": 45,
   "metadata": {},
   "outputs": [
    {
     "data": {
      "text/plain": [
       "5.981748406412491e-05"
      ]
     },
     "execution_count": 45,
     "metadata": {},
     "output_type": "execute_result"
    }
   ],
   "source": [
    "from sklearn import metrics\n",
    "metrics.mean_squared_error(y,predictions)"
   ]
  },
  {
   "cell_type": "code",
   "execution_count": 46,
   "metadata": {},
   "outputs": [
    {
     "data": {
      "text/plain": [
       "0.007734176366241264"
      ]
     },
     "execution_count": 46,
     "metadata": {},
     "output_type": "execute_result"
    }
   ],
   "source": [
    "rmse = math.sqrt(5.981748406412491e-05)\n",
    "rmse"
   ]
  },
  {
   "cell_type": "code",
   "execution_count": 47,
   "metadata": {},
   "outputs": [
    {
     "data": {
      "text/plain": [
       "0.9999999729404557"
      ]
     },
     "execution_count": 47,
     "metadata": {},
     "output_type": "execute_result"
    }
   ],
   "source": [
    "R_square = metrics.r2_score(y, predictions) \n",
    "R_square"
   ]
  },
  {
   "cell_type": "code",
   "execution_count": 48,
   "metadata": {},
   "outputs": [
    {
     "data": {
      "text/plain": [
       "<matplotlib.legend.Legend at 0x1f527ef2490>"
      ]
     },
     "execution_count": 48,
     "metadata": {},
     "output_type": "execute_result"
    },
    {
     "data": {
      "image/png": "[encoded data removed]",
      "text/plain": [
       "<Figure size 432x288 with 1 Axes>"
      ]
     },
     "metadata": {
      "needs_background": "light"
     },
     "output_type": "display_data"
    }
   ],
   "source": [
    "year = df_expo['year']\n",
    "plt.plot(year,y,'g-',label='actual')\n",
    "plt.plot(year,predictions,'r.', label='predicted')\n",
    "plt.legend()"
   ]
  },
  {
   "cell_type": "code",
   "execution_count": 49,
   "metadata": {},
   "outputs": [],
   "source": [
    "import seaborn as sns"
   ]
  },
  {
   "cell_type": "code",
   "execution_count": 50,
   "metadata": {},
   "outputs": [
    {
     "data": {
      "text/plain": [
       "<AxesSubplot:>"
      ]
     },
     "execution_count": 50,
     "metadata": {},
     "output_type": "execute_result"
    },
    {
     "data": {
      "image/png": "[encoded data removed]",
      "text/plain": [
       "<Figure size 432x288 with 2 Axes>"
      ]
     },
     "metadata": {
      "needs_background": "light"
     },
     "output_type": "display_data"
    }
   ],
   "source": [
    "sns.heatmap(df_expo.corr(),annot=True)"
   ]
  },
  {
   "cell_type": "code",
   "execution_count": null,
   "metadata": {},
   "outputs": [],
   "source": []
  }
 ],
 "metadata": {
  "kernelspec": {
   "display_name": "Python 3",
   "language": "python",
   "name": "python3"
  },
  "language_info": {
   "codemirror_mode": {
    "name": "ipython",
    "version": 3
   },
   "file_extension": ".py",
   "mimetype": "text/x-python",
   "name": "python",
   "nbconvert_exporter": "python",
   "pygments_lexer": "ipython3",
   "version": "3.8.5"
  }
 },
 "nbformat": 4,
 "nbformat_minor": 4
}
