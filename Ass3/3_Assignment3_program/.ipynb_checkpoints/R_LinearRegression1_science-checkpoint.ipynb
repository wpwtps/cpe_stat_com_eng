{
 "cells": [
  {
   "cell_type": "code",
   "execution_count": 1,
   "id": "fresh-affiliate",
   "metadata": {
    "scrolled": true
   },
   "outputs": [
    {
     "data": {
      "text/html": [
       "<table>\n",
       "<thead><tr><th scope=col>year</th><th scope=col>personnel</th><th scope=col>operation</th><th scope=col>invest</th><th scope=col>subsidy</th><th scope=col>others</th><th scope=col>total</th><th scope=col>mhesi</th><th scope=col>dept</th></tr></thead>\n",
       "<tbody>\n",
       "\t<tr><td>2555    </td><td>  327.5 </td><td> 419.2  </td><td> 155.4  </td><td>  7101.5</td><td>  48.7  </td><td>  8052.3</td><td>0       </td><td>3895977 </td></tr>\n",
       "\t<tr><td>2556    </td><td>  345.4 </td><td> 439.7  </td><td> 172.7  </td><td>  7716.1</td><td> 156.9  </td><td>  8830.8</td><td>0       </td><td>4236004 </td></tr>\n",
       "\t<tr><td>2557    </td><td>  360.5 </td><td> 404.2  </td><td> 244.8  </td><td>  7620.5</td><td> 133.6  </td><td>  8763.6</td><td>0       </td><td>4590713 </td></tr>\n",
       "\t<tr><td>2558    </td><td>  365.6 </td><td> 394.6  </td><td> 215.3  </td><td>  7800.0</td><td> 121.1  </td><td>  8896.6</td><td>0       </td><td>4973664 </td></tr>\n",
       "\t<tr><td>2559    </td><td>  398.3 </td><td> 321.0  </td><td> 505.5  </td><td>  8391.7</td><td> 109.2  </td><td>  9725.7</td><td>0       </td><td>5071762 </td></tr>\n",
       "\t<tr><td>2560    </td><td>  402.3 </td><td> 338.4  </td><td> 620.9  </td><td>  8922.8</td><td>1218.4  </td><td> 11502.8</td><td>0       </td><td>5338301 </td></tr>\n",
       "\t<tr><td>2561    </td><td>  406.6 </td><td> 337.8  </td><td> 682.5  </td><td> 12124.0</td><td> 724.5  </td><td> 14275.4</td><td>0       </td><td>5655236 </td></tr>\n",
       "\t<tr><td>2562    </td><td>  415.0 </td><td> 324.5  </td><td> 781.1  </td><td> 12947.3</td><td> 259.7  </td><td> 14727.6</td><td>0       </td><td>6039719 </td></tr>\n",
       "\t<tr><td>2563    </td><td>11700.1 </td><td>1012.7  </td><td>9091.6  </td><td>104146.9</td><td>1944.2  </td><td>127895.5</td><td>1       </td><td>6388920 </td></tr>\n",
       "\t<tr><td>2564    </td><td>11248.4 </td><td> 939.9  </td><td>9956.4  </td><td>104384.6</td><td>1597.7  </td><td>128127.0</td><td>1       </td><td>7168365 </td></tr>\n",
       "</tbody>\n",
       "</table>\n"
      ],
      "text/latex": [
       "\\begin{tabular}{r|lllllllll}\n",
       " year & personnel & operation & invest & subsidy & others & total & mhesi & dept\\\\\n",
       "\\hline\n",
       "\t 2555     &   327.5  &  419.2   &  155.4   &   7101.5 &   48.7   &   8052.3 & 0        & 3895977 \\\\\n",
       "\t 2556     &   345.4  &  439.7   &  172.7   &   7716.1 &  156.9   &   8830.8 & 0        & 4236004 \\\\\n",
       "\t 2557     &   360.5  &  404.2   &  244.8   &   7620.5 &  133.6   &   8763.6 & 0        & 4590713 \\\\\n",
       "\t 2558     &   365.6  &  394.6   &  215.3   &   7800.0 &  121.1   &   8896.6 & 0        & 4973664 \\\\\n",
       "\t 2559     &   398.3  &  321.0   &  505.5   &   8391.7 &  109.2   &   9725.7 & 0        & 5071762 \\\\\n",
       "\t 2560     &   402.3  &  338.4   &  620.9   &   8922.8 & 1218.4   &  11502.8 & 0        & 5338301 \\\\\n",
       "\t 2561     &   406.6  &  337.8   &  682.5   &  12124.0 &  724.5   &  14275.4 & 0        & 5655236 \\\\\n",
       "\t 2562     &   415.0  &  324.5   &  781.1   &  12947.3 &  259.7   &  14727.6 & 0        & 6039719 \\\\\n",
       "\t 2563     & 11700.1  & 1012.7   & 9091.6   & 104146.9 & 1944.2   & 127895.5 & 1        & 6388920 \\\\\n",
       "\t 2564     & 11248.4  &  939.9   & 9956.4   & 104384.6 & 1597.7   & 128127.0 & 1        & 7168365 \\\\\n",
       "\\end{tabular}\n"
      ],
      "text/markdown": [
       "\n",
       "| year | personnel | operation | invest | subsidy | others | total | mhesi | dept |\n",
       "|---|---|---|---|---|---|---|---|---|\n",
       "| 2555     |   327.5  |  419.2   |  155.4   |   7101.5 |   48.7   |   8052.3 | 0        | 3895977  |\n",
       "| 2556     |   345.4  |  439.7   |  172.7   |   7716.1 |  156.9   |   8830.8 | 0        | 4236004  |\n",
       "| 2557     |   360.5  |  404.2   |  244.8   |   7620.5 |  133.6   |   8763.6 | 0        | 4590713  |\n",
       "| 2558     |   365.6  |  394.6   |  215.3   |   7800.0 |  121.1   |   8896.6 | 0        | 4973664  |\n",
       "| 2559     |   398.3  |  321.0   |  505.5   |   8391.7 |  109.2   |   9725.7 | 0        | 5071762  |\n",
       "| 2560     |   402.3  |  338.4   |  620.9   |   8922.8 | 1218.4   |  11502.8 | 0        | 5338301  |\n",
       "| 2561     |   406.6  |  337.8   |  682.5   |  12124.0 |  724.5   |  14275.4 | 0        | 5655236  |\n",
       "| 2562     |   415.0  |  324.5   |  781.1   |  12947.3 |  259.7   |  14727.6 | 0        | 6039719  |\n",
       "| 2563     | 11700.1  | 1012.7   | 9091.6   | 104146.9 | 1944.2   | 127895.5 | 1        | 6388920  |\n",
       "| 2564     | 11248.4  |  939.9   | 9956.4   | 104384.6 | 1597.7   | 128127.0 | 1        | 7168365  |\n",
       "\n"
      ],
      "text/plain": [
       "   year personnel operation invest subsidy  others total    mhesi dept   \n",
       "1  2555   327.5    419.2     155.4   7101.5   48.7   8052.3 0     3895977\n",
       "2  2556   345.4    439.7     172.7   7716.1  156.9   8830.8 0     4236004\n",
       "3  2557   360.5    404.2     244.8   7620.5  133.6   8763.6 0     4590713\n",
       "4  2558   365.6    394.6     215.3   7800.0  121.1   8896.6 0     4973664\n",
       "5  2559   398.3    321.0     505.5   8391.7  109.2   9725.7 0     5071762\n",
       "6  2560   402.3    338.4     620.9   8922.8 1218.4  11502.8 0     5338301\n",
       "7  2561   406.6    337.8     682.5  12124.0  724.5  14275.4 0     5655236\n",
       "8  2562   415.0    324.5     781.1  12947.3  259.7  14727.6 0     6039719\n",
       "9  2563 11700.1   1012.7    9091.6 104146.9 1944.2 127895.5 1     6388920\n",
       "10 2564 11248.4    939.9    9956.4 104384.6 1597.7 128127.0 1     7168365"
      ]
     },
     "metadata": {},
     "output_type": "display_data"
    }
   ],
   "source": [
    "df <- read.csv(\"science_full.csv\", sep=\",\", header=T, \n",
    "               fileEncoding=\"UTF-8-BOM\")\n",
    "attach(df)\n",
    "df"
   ]
  },
  {
   "cell_type": "code",
   "execution_count": 2,
   "id": "failing-lucas",
   "metadata": {},
   "outputs": [],
   "source": [
    "x1 <- personnel\n",
    "x2 <- operation\n",
    "x3 <- invest\n",
    "x4 <- subsidy\n",
    "x5 <- others\n",
    "x6 <- mhesi\n",
    "x7 <- dept\n",
    "y <- total"
   ]
  },
  {
   "cell_type": "code",
   "execution_count": 3,
   "id": "related-agency",
   "metadata": {},
   "outputs": [
    {
     "name": "stderr",
     "output_type": "stream",
     "text": [
      "Warning message in summary.lm(model):\n",
      "\"essentially perfect fit: summary may be unreliable\""
     ]
    },
    {
     "data": {
      "text/plain": [
       "\n",
       "Call:\n",
       "lm(formula = y ~ x1 + x2 + x3 + x4 + x5 + x6 + x7)\n",
       "\n",
       "Residuals:\n",
       "         1          2          3          4          5          6          7 \n",
       "-1.933e-12  4.095e-12 -4.224e-12  7.844e-13  2.167e-12 -6.070e-13  1.132e-12 \n",
       "         8          9         10 \n",
       "-1.414e-12 -8.324e-14  8.324e-14 \n",
       "\n",
       "Coefficients:\n",
       "              Estimate Std. Error    t value Pr(>|t|)    \n",
       "(Intercept) -1.536e-10  1.066e-10 -1.441e+00    0.286    \n",
       "x1           1.000e+00  8.089e-14  1.236e+13   <2e-16 ***\n",
       "x2           1.000e+00  2.038e-13  4.908e+12   <2e-16 ***\n",
       "x3           1.000e+00  5.548e-14  1.802e+13   <2e-16 ***\n",
       "x4           1.000e+00  3.727e-15  2.683e+14   <2e-16 ***\n",
       "x5           1.000e+00  8.674e-15  1.153e+14   <2e-16 ***\n",
       "x6          -1.811e-09  1.190e-09 -1.522e+00    0.267    \n",
       "x7          -1.450e-18  8.071e-18 -1.800e-01    0.874    \n",
       "---\n",
       "Signif. codes:  0 '***' 0.001 '**' 0.01 '*' 0.05 '.' 0.1 ' ' 1\n",
       "\n",
       "Residual standard error: 4.864e-12 on 2 degrees of freedom\n",
       "Multiple R-squared:      1,\tAdjusted R-squared:      1 \n",
       "F-statistic: 1.335e+32 on 7 and 2 DF,  p-value: < 2.2e-16\n"
      ]
     },
     "metadata": {},
     "output_type": "display_data"
    }
   ],
   "source": [
    "model <- lm(y ~ x1+x2+x3+x4+x5+x6+x7)\n",
    "summary(model)"
   ]
  },
  {
   "cell_type": "code",
   "execution_count": 4,
   "id": "surrounded-segment",
   "metadata": {},
   "outputs": [
    {
     "data": {
      "image/png": "[encoded data removed]",
      "text/plain": [
       "plot without title"
      ]
     },
     "metadata": {},
     "output_type": "display_data"
    }
   ],
   "source": [
    "year <- year\n",
    "y1 <- -1.536e-10 + x1 + x2 + x3 + x4 + x5 + x6*(-1.811e-09) + x7*(-1.450e-18)\n",
    "plot(year, y, type=\"o\", xlab=\"x\", ylab=\"y\")\n",
    "lines(year,y1,lty=2,lwd=2,col=\"green\")\n",
    "legend(2555,130000,legend=c(\"total\",\"predicted\"), col=c(\"black\",\"green\"),pch=c(\"o\",\"*\"),lty=c(1,2))"
   ]
  },
  {
   "cell_type": "code",
   "execution_count": 5,
   "id": "thick-reynolds",
   "metadata": {},
   "outputs": [
    {
     "name": "stdout",
     "output_type": "stream",
     "text": [
      "package 'Metrics' successfully unpacked and MD5 sums checked\n",
      "\n",
      "The downloaded binary packages are in\n",
      "\tC:\\Users\\User\\AppData\\Local\\Temp\\RtmpGGcRy5\\downloaded_packages\n"
     ]
    },
    {
     "name": "stderr",
     "output_type": "stream",
     "text": [
      "Warning message:\n",
      "\"package 'Metrics' was built under R version 3.6.3\""
     ]
    },
    {
     "data": {
      "text/html": [
       "8.03982249555917e-19"
      ],
      "text/latex": [
       "8.03982249555917e-19"
      ],
      "text/markdown": [
       "8.03982249555917e-19"
      ],
      "text/plain": [
       "[1] 8.039822e-19"
      ]
     },
     "metadata": {},
     "output_type": "display_data"
    }
   ],
   "source": [
    "install.packages(\"Metrics\")\n",
    "library(Metrics)\n",
    "mse(y, y1)"
   ]
  },
  {
   "cell_type": "code",
   "execution_count": 6,
   "id": "smaller-basin",
   "metadata": {},
   "outputs": [
    {
     "data": {
      "text/html": [
       "8.96650572718223e-10"
      ],
      "text/latex": [
       "8.96650572718223e-10"
      ],
      "text/markdown": [
       "8.96650572718223e-10"
      ],
      "text/plain": [
       "[1] 8.966506e-10"
      ]
     },
     "metadata": {},
     "output_type": "display_data"
    }
   ],
   "source": [
    "rmse(y, y1)"
   ]
  },
  {
   "cell_type": "code",
   "execution_count": 7,
   "id": "dress-connectivity",
   "metadata": {},
   "outputs": [
    {
     "data": {
      "text/html": [
       "5.24323695572093e-10"
      ],
      "text/latex": [
       "5.24323695572093e-10"
      ],
      "text/markdown": [
       "5.24323695572093e-10"
      ],
      "text/plain": [
       "[1] 5.243237e-10"
      ]
     },
     "metadata": {},
     "output_type": "display_data"
    }
   ],
   "source": [
    "mae(y, y1)"
   ]
  },
  {
   "cell_type": "code",
   "execution_count": 8,
   "id": "affected-blade",
   "metadata": {},
   "outputs": [
    {
     "data": {
      "text/html": [
       "1.5785323229881e-14"
      ],
      "text/latex": [
       "1.5785323229881e-14"
      ],
      "text/markdown": [
       "1.5785323229881e-14"
      ],
      "text/plain": [
       "[1] 1.578532e-14"
      ]
     },
     "metadata": {},
     "output_type": "display_data"
    }
   ],
   "source": [
    "mape(y, y1)"
   ]
  },
  {
   "cell_type": "code",
   "execution_count": 9,
   "id": "considerable-matrix",
   "metadata": {},
   "outputs": [
    {
     "data": {
      "text/html": [
       "1"
      ],
      "text/latex": [
       "1"
      ],
      "text/markdown": [
       "1"
      ],
      "text/plain": [
       "[1] 1"
      ]
     },
     "metadata": {},
     "output_type": "display_data"
    }
   ],
   "source": [
    "rss <- sum((y1 - y) ^ 2)  ## residual sum of squares\n",
    "tss <- sum((y - mean(y)) ^ 2)  ## total sum of squares\n",
    "rsq <- 1 - rss/tss\n",
    "rsq"
   ]
  },
  {
   "cell_type": "code",
   "execution_count": 10,
   "id": "least-hybrid",
   "metadata": {},
   "outputs": [
    {
     "name": "stdout",
     "output_type": "stream",
     "text": [
      "package 'ehaGoF' successfully unpacked and MD5 sums checked\n",
      "\n",
      "The downloaded binary packages are in\n",
      "\tC:\\Users\\User\\AppData\\Local\\Temp\\RtmpGGcRy5\\downloaded_packages\n"
     ]
    },
    {
     "name": "stderr",
     "output_type": "stream",
     "text": [
      "Warning message:\n",
      "\"package 'ehaGoF' was built under R version 3.6.3\""
     ]
    }
   ],
   "source": [
    "install.packages(\"ehaGoF\")\n",
    "library(ehaGoF)"
   ]
  },
  {
   "cell_type": "code",
   "execution_count": 11,
   "id": "twelve-advancement",
   "metadata": {},
   "outputs": [
    {
     "data": {
      "text/html": [
       "1"
      ],
      "text/latex": [
       "1"
      ],
      "text/markdown": [
       "1"
      ],
      "text/plain": [
       "[1] 1"
      ]
     },
     "metadata": {},
     "output_type": "display_data"
    }
   ],
   "source": [
    "gofCoD(y, y1)"
   ]
  },
  {
   "cell_type": "code",
   "execution_count": null,
   "id": "olive-nickname",
   "metadata": {},
   "outputs": [],
   "source": []
  },
  {
   "cell_type": "code",
   "execution_count": null,
   "id": "temporal-atlas",
   "metadata": {},
   "outputs": [],
   "source": []
  }
 ],
 "metadata": {
  "kernelspec": {
   "display_name": "R",
   "language": "R",
   "name": "ir"
  },
  "language_info": {
   "codemirror_mode": "r",
   "file_extension": ".r",
   "mimetype": "text/x-r-source",
   "name": "R",
   "pygments_lexer": "r",
   "version": "3.6.1"
  }
 },
 "nbformat": 4,
 "nbformat_minor": 5
}
