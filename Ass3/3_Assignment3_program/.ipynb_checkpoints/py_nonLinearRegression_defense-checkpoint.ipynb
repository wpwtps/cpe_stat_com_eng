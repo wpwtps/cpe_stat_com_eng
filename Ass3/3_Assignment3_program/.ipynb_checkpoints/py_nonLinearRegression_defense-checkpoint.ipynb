{
 "cells": [
  {
   "cell_type": "code",
   "execution_count": 1,
   "metadata": {},
   "outputs": [
    {
     "data": {
      "text/plain": [
       "'C:\\\\Users\\\\User\\\\Documents\\\\stat2020\\\\ass3'"
      ]
     },
     "execution_count": 1,
     "metadata": {},
     "output_type": "execute_result"
    }
   ],
   "source": [
    "import os\n",
    "os.chdir('C:\\\\Users\\\\User\\\\Documents\\\\stat2020\\\\ass3')\n",
    "os.getcwd()"
   ]
  },
  {
   "cell_type": "code",
   "execution_count": 2,
   "metadata": {},
   "outputs": [],
   "source": [
    "import math\n",
    "import numpy as np\n",
    "import pandas as pd"
   ]
  },
  {
   "cell_type": "code",
   "execution_count": 3,
   "metadata": {},
   "outputs": [],
   "source": [
    "import numpy as np \n",
    "from scipy.optimize import curve_fit \n",
    "from matplotlib import pyplot as plt \n",
    "%matplotlib inline"
   ]
  },
  {
   "cell_type": "markdown",
   "metadata": {},
   "source": [
    "# Expo"
   ]
  },
  {
   "cell_type": "code",
   "execution_count": 4,
   "metadata": {},
   "outputs": [],
   "source": [
    "df = pd.read_csv('defense_expo.csv')"
   ]
  },
  {
   "cell_type": "code",
   "execution_count": 5,
   "metadata": {},
   "outputs": [
    {
     "data": {
      "text/html": [
       "<div>\n",
       "<style scoped>\n",
       "    .dataframe tbody tr th:only-of-type {\n",
       "        vertical-align: middle;\n",
       "    }\n",
       "\n",
       "    .dataframe tbody tr th {\n",
       "        vertical-align: top;\n",
       "    }\n",
       "\n",
       "    .dataframe thead th {\n",
       "        text-align: right;\n",
       "    }\n",
       "</style>\n",
       "<table border=\"1\" class=\"dataframe\">\n",
       "  <thead>\n",
       "    <tr style=\"text-align: right;\">\n",
       "      <th></th>\n",
       "      <th>year</th>\n",
       "      <th>personnel</th>\n",
       "      <th>operation</th>\n",
       "      <th>invest</th>\n",
       "      <th>subsidy</th>\n",
       "      <th>others</th>\n",
       "      <th>total</th>\n",
       "      <th>protest</th>\n",
       "      <th>sedge</th>\n",
       "      <th>dept</th>\n",
       "    </tr>\n",
       "  </thead>\n",
       "  <tbody>\n",
       "    <tr>\n",
       "      <th>0</th>\n",
       "      <td>2555</td>\n",
       "      <td>77.3690</td>\n",
       "      <td>18.1595</td>\n",
       "      <td>4.7830</td>\n",
       "      <td>2.9018</td>\n",
       "      <td>65.4541</td>\n",
       "      <td>168.6674</td>\n",
       "      <td>0</td>\n",
       "      <td>7</td>\n",
       "      <td>38.959767</td>\n",
       "    </tr>\n",
       "    <tr>\n",
       "      <th>1</th>\n",
       "      <td>2556</td>\n",
       "      <td>81.6874</td>\n",
       "      <td>21.6358</td>\n",
       "      <td>5.4446</td>\n",
       "      <td>3.3083</td>\n",
       "      <td>68.4154</td>\n",
       "      <td>180.4915</td>\n",
       "      <td>1</td>\n",
       "      <td>7</td>\n",
       "      <td>42.360041</td>\n",
       "    </tr>\n",
       "    <tr>\n",
       "      <th>2</th>\n",
       "      <td>2557</td>\n",
       "      <td>83.9448</td>\n",
       "      <td>21.1440</td>\n",
       "      <td>6.0614</td>\n",
       "      <td>3.3083</td>\n",
       "      <td>69.3615</td>\n",
       "      <td>183.8200</td>\n",
       "      <td>1</td>\n",
       "      <td>4</td>\n",
       "      <td>45.907129</td>\n",
       "    </tr>\n",
       "    <tr>\n",
       "      <th>3</th>\n",
       "      <td>2558</td>\n",
       "      <td>85.8036</td>\n",
       "      <td>21.6139</td>\n",
       "      <td>6.9778</td>\n",
       "      <td>3.2831</td>\n",
       "      <td>75.2707</td>\n",
       "      <td>192.9491</td>\n",
       "      <td>0</td>\n",
       "      <td>5</td>\n",
       "      <td>49.736635</td>\n",
       "    </tr>\n",
       "    <tr>\n",
       "      <th>4</th>\n",
       "      <td>2559</td>\n",
       "      <td>88.6336</td>\n",
       "      <td>24.3332</td>\n",
       "      <td>7.7546</td>\n",
       "      <td>3.5960</td>\n",
       "      <td>82.1439</td>\n",
       "      <td>206.4613</td>\n",
       "      <td>0</td>\n",
       "      <td>5</td>\n",
       "      <td>50.717621</td>\n",
       "    </tr>\n",
       "    <tr>\n",
       "      <th>5</th>\n",
       "      <td>2560</td>\n",
       "      <td>90.8373</td>\n",
       "      <td>25.7727</td>\n",
       "      <td>8.3984</td>\n",
       "      <td>3.5364</td>\n",
       "      <td>84.9051</td>\n",
       "      <td>213.4499</td>\n",
       "      <td>0</td>\n",
       "      <td>9</td>\n",
       "      <td>53.383014</td>\n",
       "    </tr>\n",
       "    <tr>\n",
       "      <th>6</th>\n",
       "      <td>2561</td>\n",
       "      <td>91.1531</td>\n",
       "      <td>25.0395</td>\n",
       "      <td>9.5441</td>\n",
       "      <td>6.6107</td>\n",
       "      <td>88.1763</td>\n",
       "      <td>220.5237</td>\n",
       "      <td>0</td>\n",
       "      <td>2</td>\n",
       "      <td>56.552360</td>\n",
       "    </tr>\n",
       "    <tr>\n",
       "      <th>7</th>\n",
       "      <td>2562</td>\n",
       "      <td>93.5908</td>\n",
       "      <td>24.7353</td>\n",
       "      <td>11.1883</td>\n",
       "      <td>5.3775</td>\n",
       "      <td>92.2347</td>\n",
       "      <td>227.1266</td>\n",
       "      <td>1</td>\n",
       "      <td>3</td>\n",
       "      <td>60.397192</td>\n",
       "    </tr>\n",
       "    <tr>\n",
       "      <th>8</th>\n",
       "      <td>2563</td>\n",
       "      <td>92.3466</td>\n",
       "      <td>24.7778</td>\n",
       "      <td>15.4336</td>\n",
       "      <td>5.1625</td>\n",
       "      <td>95.6329</td>\n",
       "      <td>233.3534</td>\n",
       "      <td>1</td>\n",
       "      <td>2</td>\n",
       "      <td>63.889201</td>\n",
       "    </tr>\n",
       "    <tr>\n",
       "      <th>9</th>\n",
       "      <td>2564</td>\n",
       "      <td>91.0274</td>\n",
       "      <td>24.1029</td>\n",
       "      <td>14.4261</td>\n",
       "      <td>4.7944</td>\n",
       "      <td>80.1798</td>\n",
       "      <td>214.5306</td>\n",
       "      <td>1</td>\n",
       "      <td>2</td>\n",
       "      <td>71.683653</td>\n",
       "    </tr>\n",
       "  </tbody>\n",
       "</table>\n",
       "</div>"
      ],
      "text/plain": [
       "   year  personnel  operation   invest  subsidy   others     total  protest  \\\n",
       "0  2555    77.3690    18.1595   4.7830   2.9018  65.4541  168.6674        0   \n",
       "1  2556    81.6874    21.6358   5.4446   3.3083  68.4154  180.4915        1   \n",
       "2  2557    83.9448    21.1440   6.0614   3.3083  69.3615  183.8200        1   \n",
       "3  2558    85.8036    21.6139   6.9778   3.2831  75.2707  192.9491        0   \n",
       "4  2559    88.6336    24.3332   7.7546   3.5960  82.1439  206.4613        0   \n",
       "5  2560    90.8373    25.7727   8.3984   3.5364  84.9051  213.4499        0   \n",
       "6  2561    91.1531    25.0395   9.5441   6.6107  88.1763  220.5237        0   \n",
       "7  2562    93.5908    24.7353  11.1883   5.3775  92.2347  227.1266        1   \n",
       "8  2563    92.3466    24.7778  15.4336   5.1625  95.6329  233.3534        1   \n",
       "9  2564    91.0274    24.1029  14.4261   4.7944  80.1798  214.5306        1   \n",
       "\n",
       "   sedge       dept  \n",
       "0      7  38.959767  \n",
       "1      7  42.360041  \n",
       "2      4  45.907129  \n",
       "3      5  49.736635  \n",
       "4      5  50.717621  \n",
       "5      9  53.383014  \n",
       "6      2  56.552360  \n",
       "7      3  60.397192  \n",
       "8      2  63.889201  \n",
       "9      2  71.683653  "
      ]
     },
     "execution_count": 5,
     "metadata": {},
     "output_type": "execute_result"
    }
   ],
   "source": [
    "df"
   ]
  },
  {
   "cell_type": "code",
   "execution_count": 6,
   "metadata": {},
   "outputs": [
    {
     "data": {
      "text/plain": [
       "Index(['year', 'personnel', 'operation', 'invest', 'subsidy', 'others',\n",
       "       'total', 'protest', 'sedge', 'dept'],\n",
       "      dtype='object')"
      ]
     },
     "execution_count": 6,
     "metadata": {},
     "output_type": "execute_result"
    }
   ],
   "source": [
    "df.columns"
   ]
  },
  {
   "cell_type": "code",
   "execution_count": 7,
   "metadata": {},
   "outputs": [
    {
     "data": {
      "text/html": [
       "<div>\n",
       "<style scoped>\n",
       "    .dataframe tbody tr th:only-of-type {\n",
       "        vertical-align: middle;\n",
       "    }\n",
       "\n",
       "    .dataframe tbody tr th {\n",
       "        vertical-align: top;\n",
       "    }\n",
       "\n",
       "    .dataframe thead th {\n",
       "        text-align: right;\n",
       "    }\n",
       "</style>\n",
       "<table border=\"1\" class=\"dataframe\">\n",
       "  <thead>\n",
       "    <tr style=\"text-align: right;\">\n",
       "      <th></th>\n",
       "      <th>year</th>\n",
       "    </tr>\n",
       "  </thead>\n",
       "  <tbody>\n",
       "    <tr>\n",
       "      <th>0</th>\n",
       "      <td>2555</td>\n",
       "    </tr>\n",
       "    <tr>\n",
       "      <th>1</th>\n",
       "      <td>2556</td>\n",
       "    </tr>\n",
       "    <tr>\n",
       "      <th>2</th>\n",
       "      <td>2557</td>\n",
       "    </tr>\n",
       "    <tr>\n",
       "      <th>3</th>\n",
       "      <td>2558</td>\n",
       "    </tr>\n",
       "    <tr>\n",
       "      <th>4</th>\n",
       "      <td>2559</td>\n",
       "    </tr>\n",
       "    <tr>\n",
       "      <th>5</th>\n",
       "      <td>2560</td>\n",
       "    </tr>\n",
       "    <tr>\n",
       "      <th>6</th>\n",
       "      <td>2561</td>\n",
       "    </tr>\n",
       "    <tr>\n",
       "      <th>7</th>\n",
       "      <td>2562</td>\n",
       "    </tr>\n",
       "    <tr>\n",
       "      <th>8</th>\n",
       "      <td>2563</td>\n",
       "    </tr>\n",
       "    <tr>\n",
       "      <th>9</th>\n",
       "      <td>2564</td>\n",
       "    </tr>\n",
       "  </tbody>\n",
       "</table>\n",
       "</div>"
      ],
      "text/plain": [
       "   year\n",
       "0  2555\n",
       "1  2556\n",
       "2  2557\n",
       "3  2558\n",
       "4  2559\n",
       "5  2560\n",
       "6  2561\n",
       "7  2562\n",
       "8  2563\n",
       "9  2564"
      ]
     },
     "execution_count": 7,
     "metadata": {},
     "output_type": "execute_result"
    }
   ],
   "source": [
    "df[['year']]"
   ]
  },
  {
   "cell_type": "code",
   "execution_count": 8,
   "metadata": {},
   "outputs": [],
   "source": [
    "x1 = df['personnel'].to_numpy()\n",
    "x2 =df['operation'].to_numpy()\n",
    "x3 = df['invest'].to_numpy()\n",
    "x4 =df['subsidy'].to_numpy()\n",
    "x5 = df['others'].to_numpy()\n",
    "x6 = df['protest'].to_numpy()\n",
    "x7 = df['sedge'].to_numpy()\n",
    "x8 = df['dept'].to_numpy()\n",
    "y = df['total'].to_numpy()"
   ]
  },
  {
   "cell_type": "code",
   "execution_count": 9,
   "metadata": {},
   "outputs": [
    {
     "data": {
      "text/plain": [
       "array([7, 7, 4, 5, 5, 9, 2, 3, 2, 2], dtype=int64)"
      ]
     },
     "execution_count": 9,
     "metadata": {},
     "output_type": "execute_result"
    }
   ],
   "source": [
    "x7"
   ]
  },
  {
   "cell_type": "code",
   "execution_count": 10,
   "metadata": {},
   "outputs": [],
   "source": [
    "aa = np.array([x1], dtype=np.float64)"
   ]
  },
  {
   "cell_type": "code",
   "execution_count": 11,
   "metadata": {},
   "outputs": [],
   "source": [
    "def test(X, a, b, c, d, e, f, g, h, i):\n",
    "    x1, x2, x3, x4, x5, x6, x7, x8 = X\n",
    "    return a*np.exp(b*x1 + c*x2 + d*x3 +e*x4 + f*x5 + g*x6 + h*x7 + i*x8) "
   ]
  },
  {
   "cell_type": "code",
   "execution_count": 12,
   "metadata": {},
   "outputs": [],
   "source": [
    "#y = test((x1,x2),3.45, 1.334, 0.1 )\n",
    "#y_noise = 0.2 * np.random.normal(size=x1.size)\n",
    "ydata = y "
   ]
  },
  {
   "cell_type": "code",
   "execution_count": 13,
   "metadata": {},
   "outputs": [
    {
     "data": {
      "text/plain": [
       "array([ 6.86341683e+01,  6.12878687e-03,  7.27011442e-03,  4.46712838e-03,\n",
       "        2.46782401e-03,  4.21362137e-03, -2.98126143e-03, -1.31208291e-03,\n",
       "       -2.49271287e-05])"
      ]
     },
     "execution_count": 13,
     "metadata": {},
     "output_type": "execute_result"
    }
   ],
   "source": [
    "param, param_cov = curve_fit(test, (x1, x2, x3, x4, x5, x6, x7, x8), ydata, maxfev=20000) \n",
    "param"
   ]
  },
  {
   "cell_type": "code",
   "execution_count": 14,
   "metadata": {},
   "outputs": [
    {
     "data": {
      "text/plain": [
       "array([168.87532335, 180.23665945, 184.03392308, 192.56482679,\n",
       "       206.58786231, 213.52328215, 220.51040805, 227.16721555,\n",
       "       233.30518541, 214.57060945])"
      ]
     },
     "execution_count": 14,
     "metadata": {},
     "output_type": "execute_result"
    }
   ],
   "source": [
    "predictions = (param[0]*(np.exp(param[1]*x1+ param[2]*x2+ param[3]*x3+ param[4]*x4+ param[5]*x5+param[6]*x6+ param[7]*x7+param[8]*x8))) \n",
    "predictions"
   ]
  },
  {
   "cell_type": "code",
   "execution_count": 15,
   "metadata": {},
   "outputs": [
    {
     "data": {
      "text/plain": [
       "0.03287594704528167"
      ]
     },
     "execution_count": 15,
     "metadata": {},
     "output_type": "execute_result"
    }
   ],
   "source": [
    "from sklearn import metrics\n",
    "mse = metrics.mean_squared_error(y,predictions)\n",
    "mse"
   ]
  },
  {
   "cell_type": "code",
   "execution_count": 16,
   "metadata": {},
   "outputs": [
    {
     "data": {
      "text/plain": [
       "0.9999218347601533"
      ]
     },
     "execution_count": 16,
     "metadata": {},
     "output_type": "execute_result"
    }
   ],
   "source": [
    "#R-square\n",
    "metrics.r2_score(y, predictions)"
   ]
  },
  {
   "cell_type": "code",
   "execution_count": 17,
   "metadata": {},
   "outputs": [
    {
     "data": {
      "text/plain": [
       "0.18131725523314562"
      ]
     },
     "execution_count": 17,
     "metadata": {},
     "output_type": "execute_result"
    }
   ],
   "source": [
    "rmse = math.sqrt(mse)\n",
    "rmse"
   ]
  },
  {
   "cell_type": "code",
   "execution_count": 18,
   "metadata": {},
   "outputs": [
    {
     "data": {
      "text/plain": [
       "0.07389019420242664"
      ]
     },
     "execution_count": 18,
     "metadata": {},
     "output_type": "execute_result"
    }
   ],
   "source": [
    "#MAPE\n",
    "np.mean(np.abs((y - predictions) / y)) * 100"
   ]
  },
  {
   "cell_type": "code",
   "execution_count": 19,
   "metadata": {},
   "outputs": [
    {
     "data": {
      "text/plain": [
       "0.14030361909437375"
      ]
     },
     "execution_count": 19,
     "metadata": {},
     "output_type": "execute_result"
    }
   ],
   "source": [
    "#MAD\n",
    "np.mean(np.abs(y - predictions))"
   ]
  },
  {
   "cell_type": "code",
   "execution_count": 20,
   "metadata": {},
   "outputs": [],
   "source": [
    "year = df['year']"
   ]
  },
  {
   "cell_type": "code",
   "execution_count": 21,
   "metadata": {},
   "outputs": [
    {
     "data": {
      "text/plain": [
       "<matplotlib.legend.Legend at 0x1ad895f2400>"
      ]
     },
     "execution_count": 21,
     "metadata": {},
     "output_type": "execute_result"
    },
    {
     "data": {
      "image/png": "[encoded data removed]",
      "text/plain": [
       "<Figure size 432x288 with 1 Axes>"
      ]
     },
     "metadata": {
      "needs_background": "light"
     },
     "output_type": "display_data"
    }
   ],
   "source": [
    "plt.plot(year,y,'g-',label='actual')\n",
    "plt.plot(year,predictions,'r.', label='predicted')\n",
    "plt.legend()"
   ]
  },
  {
   "cell_type": "code",
   "execution_count": null,
   "metadata": {},
   "outputs": [],
   "source": []
  },
  {
   "cell_type": "markdown",
   "metadata": {},
   "source": [
    "# log"
   ]
  },
  {
   "cell_type": "code",
   "execution_count": 22,
   "metadata": {},
   "outputs": [],
   "source": [
    "df2 = pd.read_csv('defense_log.csv')"
   ]
  },
  {
   "cell_type": "code",
   "execution_count": 23,
   "metadata": {},
   "outputs": [
    {
     "data": {
      "text/html": [
       "<div>\n",
       "<style scoped>\n",
       "    .dataframe tbody tr th:only-of-type {\n",
       "        vertical-align: middle;\n",
       "    }\n",
       "\n",
       "    .dataframe tbody tr th {\n",
       "        vertical-align: top;\n",
       "    }\n",
       "\n",
       "    .dataframe thead th {\n",
       "        text-align: right;\n",
       "    }\n",
       "</style>\n",
       "<table border=\"1\" class=\"dataframe\">\n",
       "  <thead>\n",
       "    <tr style=\"text-align: right;\">\n",
       "      <th></th>\n",
       "      <th>year</th>\n",
       "      <th>personnel</th>\n",
       "      <th>operation</th>\n",
       "      <th>invest</th>\n",
       "      <th>subsidy</th>\n",
       "      <th>others</th>\n",
       "      <th>total</th>\n",
       "      <th>protest</th>\n",
       "      <th>sedge</th>\n",
       "      <th>dept</th>\n",
       "    </tr>\n",
       "  </thead>\n",
       "  <tbody>\n",
       "    <tr>\n",
       "      <th>0</th>\n",
       "      <td>2555</td>\n",
       "      <td>77.3690</td>\n",
       "      <td>18.1595</td>\n",
       "      <td>4.7830</td>\n",
       "      <td>2.9018</td>\n",
       "      <td>65.4541</td>\n",
       "      <td>168.6674</td>\n",
       "      <td>1.000000e-10</td>\n",
       "      <td>7</td>\n",
       "      <td>38.959767</td>\n",
       "    </tr>\n",
       "    <tr>\n",
       "      <th>1</th>\n",
       "      <td>2556</td>\n",
       "      <td>81.6874</td>\n",
       "      <td>21.6358</td>\n",
       "      <td>5.4446</td>\n",
       "      <td>3.3083</td>\n",
       "      <td>68.4154</td>\n",
       "      <td>180.4915</td>\n",
       "      <td>1.000000e+00</td>\n",
       "      <td>7</td>\n",
       "      <td>42.360041</td>\n",
       "    </tr>\n",
       "    <tr>\n",
       "      <th>2</th>\n",
       "      <td>2557</td>\n",
       "      <td>83.9448</td>\n",
       "      <td>21.1440</td>\n",
       "      <td>6.0614</td>\n",
       "      <td>3.3083</td>\n",
       "      <td>69.3615</td>\n",
       "      <td>183.8200</td>\n",
       "      <td>1.000000e+00</td>\n",
       "      <td>4</td>\n",
       "      <td>45.907129</td>\n",
       "    </tr>\n",
       "    <tr>\n",
       "      <th>3</th>\n",
       "      <td>2558</td>\n",
       "      <td>85.8036</td>\n",
       "      <td>21.6139</td>\n",
       "      <td>6.9778</td>\n",
       "      <td>3.2831</td>\n",
       "      <td>75.2707</td>\n",
       "      <td>192.9491</td>\n",
       "      <td>1.000000e-10</td>\n",
       "      <td>5</td>\n",
       "      <td>49.736635</td>\n",
       "    </tr>\n",
       "    <tr>\n",
       "      <th>4</th>\n",
       "      <td>2559</td>\n",
       "      <td>88.6336</td>\n",
       "      <td>24.3332</td>\n",
       "      <td>7.7546</td>\n",
       "      <td>3.5960</td>\n",
       "      <td>82.1439</td>\n",
       "      <td>206.4613</td>\n",
       "      <td>1.000000e-10</td>\n",
       "      <td>5</td>\n",
       "      <td>50.717621</td>\n",
       "    </tr>\n",
       "    <tr>\n",
       "      <th>5</th>\n",
       "      <td>2560</td>\n",
       "      <td>90.8373</td>\n",
       "      <td>25.7727</td>\n",
       "      <td>8.3984</td>\n",
       "      <td>3.5364</td>\n",
       "      <td>84.9051</td>\n",
       "      <td>213.4499</td>\n",
       "      <td>1.000000e-10</td>\n",
       "      <td>9</td>\n",
       "      <td>53.383014</td>\n",
       "    </tr>\n",
       "    <tr>\n",
       "      <th>6</th>\n",
       "      <td>2561</td>\n",
       "      <td>91.1531</td>\n",
       "      <td>25.0395</td>\n",
       "      <td>9.5441</td>\n",
       "      <td>6.6107</td>\n",
       "      <td>88.1763</td>\n",
       "      <td>220.5237</td>\n",
       "      <td>1.000000e-10</td>\n",
       "      <td>2</td>\n",
       "      <td>56.552360</td>\n",
       "    </tr>\n",
       "    <tr>\n",
       "      <th>7</th>\n",
       "      <td>2562</td>\n",
       "      <td>93.5908</td>\n",
       "      <td>24.7353</td>\n",
       "      <td>11.1883</td>\n",
       "      <td>5.3775</td>\n",
       "      <td>92.2347</td>\n",
       "      <td>227.1266</td>\n",
       "      <td>1.000000e+00</td>\n",
       "      <td>3</td>\n",
       "      <td>60.397192</td>\n",
       "    </tr>\n",
       "    <tr>\n",
       "      <th>8</th>\n",
       "      <td>2563</td>\n",
       "      <td>92.3466</td>\n",
       "      <td>24.7778</td>\n",
       "      <td>15.4336</td>\n",
       "      <td>5.1625</td>\n",
       "      <td>95.6329</td>\n",
       "      <td>233.3534</td>\n",
       "      <td>1.000000e+00</td>\n",
       "      <td>2</td>\n",
       "      <td>63.889201</td>\n",
       "    </tr>\n",
       "    <tr>\n",
       "      <th>9</th>\n",
       "      <td>2564</td>\n",
       "      <td>91.0274</td>\n",
       "      <td>24.1029</td>\n",
       "      <td>14.4261</td>\n",
       "      <td>4.7944</td>\n",
       "      <td>80.1798</td>\n",
       "      <td>214.5306</td>\n",
       "      <td>1.000000e+00</td>\n",
       "      <td>2</td>\n",
       "      <td>71.683653</td>\n",
       "    </tr>\n",
       "  </tbody>\n",
       "</table>\n",
       "</div>"
      ],
      "text/plain": [
       "   year  personnel  operation   invest  subsidy   others     total  \\\n",
       "0  2555    77.3690    18.1595   4.7830   2.9018  65.4541  168.6674   \n",
       "1  2556    81.6874    21.6358   5.4446   3.3083  68.4154  180.4915   \n",
       "2  2557    83.9448    21.1440   6.0614   3.3083  69.3615  183.8200   \n",
       "3  2558    85.8036    21.6139   6.9778   3.2831  75.2707  192.9491   \n",
       "4  2559    88.6336    24.3332   7.7546   3.5960  82.1439  206.4613   \n",
       "5  2560    90.8373    25.7727   8.3984   3.5364  84.9051  213.4499   \n",
       "6  2561    91.1531    25.0395   9.5441   6.6107  88.1763  220.5237   \n",
       "7  2562    93.5908    24.7353  11.1883   5.3775  92.2347  227.1266   \n",
       "8  2563    92.3466    24.7778  15.4336   5.1625  95.6329  233.3534   \n",
       "9  2564    91.0274    24.1029  14.4261   4.7944  80.1798  214.5306   \n",
       "\n",
       "        protest  sedge       dept  \n",
       "0  1.000000e-10      7  38.959767  \n",
       "1  1.000000e+00      7  42.360041  \n",
       "2  1.000000e+00      4  45.907129  \n",
       "3  1.000000e-10      5  49.736635  \n",
       "4  1.000000e-10      5  50.717621  \n",
       "5  1.000000e-10      9  53.383014  \n",
       "6  1.000000e-10      2  56.552360  \n",
       "7  1.000000e+00      3  60.397192  \n",
       "8  1.000000e+00      2  63.889201  \n",
       "9  1.000000e+00      2  71.683653  "
      ]
     },
     "execution_count": 23,
     "metadata": {},
     "output_type": "execute_result"
    }
   ],
   "source": [
    "df2"
   ]
  },
  {
   "cell_type": "code",
   "execution_count": 24,
   "metadata": {},
   "outputs": [],
   "source": [
    "x1 = df2['personnel'].to_numpy()\n",
    "x2 =df2['operation'].to_numpy()\n",
    "x3 = df2['invest'].to_numpy()\n",
    "x4 =df2['subsidy'].to_numpy()\n",
    "x5 = df2['others'].to_numpy()\n",
    "x6 = df2['protest'].to_numpy()\n",
    "x7 = df2['sedge'].to_numpy()\n",
    "x8 = df2['dept'].to_numpy()\n",
    "y = df2['total'].to_numpy()"
   ]
  },
  {
   "cell_type": "code",
   "execution_count": 25,
   "metadata": {},
   "outputs": [
    {
     "data": {
      "text/plain": [
       "array([1.e-10, 1.e+00, 1.e+00, 1.e-10, 1.e-10, 1.e-10, 1.e-10, 1.e+00,\n",
       "       1.e+00, 1.e+00])"
      ]
     },
     "execution_count": 25,
     "metadata": {},
     "output_type": "execute_result"
    }
   ],
   "source": [
    "x6"
   ]
  },
  {
   "cell_type": "code",
   "execution_count": 26,
   "metadata": {},
   "outputs": [],
   "source": [
    "aa = np.array([x1], dtype=np.float64)"
   ]
  },
  {
   "cell_type": "code",
   "execution_count": 27,
   "metadata": {},
   "outputs": [],
   "source": [
    "def log_test(X, a, b, c, d, e, f, g, h, i):\n",
    "    x1, x2, x3, x4, x5, x6, x7, x8 = X\n",
    "    return a + b*np.log(x1) + c*np.log(x2) + d*np.log(x3) +e*np.log(x4) + f*np.log(x5) + g*np.log(x6) + h*np.log(x7) + i*np.log(x8) "
   ]
  },
  {
   "cell_type": "code",
   "execution_count": 28,
   "metadata": {},
   "outputs": [
    {
     "data": {
      "text/plain": [
       "array([-5.95193480e+02,  1.50254720e+02,  2.16986647e+00,  3.36121729e+01,\n",
       "        1.17096323e+01,  4.76015901e+01, -2.82308308e-02,  2.75644395e+00,\n",
       "       -4.53490358e+01])"
      ]
     },
     "execution_count": 28,
     "metadata": {},
     "output_type": "execute_result"
    }
   ],
   "source": [
    "param2, param_cov2 = curve_fit(log_test, (x1, x2, x3, x4, x5, x6, x7, x8), ydata, maxfev=500000) \n",
    "param2"
   ]
  },
  {
   "cell_type": "code",
   "execution_count": 29,
   "metadata": {},
   "outputs": [
    {
     "data": {
      "text/plain": [
       "array([168.53346972, 180.62589575, 183.7435107 , 193.24838425,\n",
       "       206.26888796, 213.43998163, 220.56067644, 227.05119845,\n",
       "       233.43420006, 214.46729505])"
      ]
     },
     "execution_count": 29,
     "metadata": {},
     "output_type": "execute_result"
    }
   ],
   "source": [
    "predictions2 = param2[0] + param2[1]*np.log(x1) + param2[2]*np.log(x2) + param2[3]*np.log(x3) +param2[4]*np.log(x4) + param2[5]*np.log(x5) + param2[6]*np.log(x6) + param2[7]*np.log(x7) + param2[8]*np.log(x8)\n",
    "predictions2"
   ]
  },
  {
   "cell_type": "code",
   "execution_count": 30,
   "metadata": {},
   "outputs": [
    {
     "data": {
      "text/plain": [
       "0.01861307987381251"
      ]
     },
     "execution_count": 30,
     "metadata": {},
     "output_type": "execute_result"
    }
   ],
   "source": [
    "from sklearn import metrics\n",
    "mse = metrics.mean_squared_error(y,predictions2)\n",
    "mse"
   ]
  },
  {
   "cell_type": "code",
   "execution_count": 31,
   "metadata": {},
   "outputs": [
    {
     "data": {
      "text/plain": [
       "0.9999557458876965"
      ]
     },
     "execution_count": 31,
     "metadata": {},
     "output_type": "execute_result"
    }
   ],
   "source": [
    "#R-square\n",
    "metrics.r2_score(y, predictions2)"
   ]
  },
  {
   "cell_type": "code",
   "execution_count": 32,
   "metadata": {},
   "outputs": [
    {
     "data": {
      "text/plain": [
       "0.1364297616864169"
      ]
     },
     "execution_count": 32,
     "metadata": {},
     "output_type": "execute_result"
    }
   ],
   "source": [
    "rmse = math.sqrt(mse)\n",
    "rmse"
   ]
  },
  {
   "cell_type": "code",
   "execution_count": 33,
   "metadata": {},
   "outputs": [
    {
     "data": {
      "text/plain": [
       "0.05625290902587363"
      ]
     },
     "execution_count": 33,
     "metadata": {},
     "output_type": "execute_result"
    }
   ],
   "source": [
    "#MAPE\n",
    "np.mean(np.abs((y - predictions2) / y)) * 100"
   ]
  },
  {
   "cell_type": "code",
   "execution_count": 34,
   "metadata": {},
   "outputs": [
    {
     "data": {
      "text/plain": [
       "0.11029129953930408"
      ]
     },
     "execution_count": 34,
     "metadata": {},
     "output_type": "execute_result"
    }
   ],
   "source": [
    "#MAD\n",
    "np.mean(np.abs(y - predictions2))"
   ]
  },
  {
   "cell_type": "code",
   "execution_count": 35,
   "metadata": {},
   "outputs": [],
   "source": [
    "year = df2['year']"
   ]
  },
  {
   "cell_type": "code",
   "execution_count": 36,
   "metadata": {},
   "outputs": [
    {
     "data": {
      "text/plain": [
       "<matplotlib.legend.Legend at 0x1ad8ea66970>"
      ]
     },
     "execution_count": 36,
     "metadata": {},
     "output_type": "execute_result"
    },
    {
     "data": {
      "image/png": "[encoded data removed]",
      "text/plain": [
       "<Figure size 432x288 with 1 Axes>"
      ]
     },
     "metadata": {
      "needs_background": "light"
     },
     "output_type": "display_data"
    }
   ],
   "source": [
    "plt.plot(year,y,'g-',label='actual')\n",
    "plt.plot(year,predictions2,'r.', label='predicted')\n",
    "plt.legend()"
   ]
  },
  {
   "cell_type": "code",
   "execution_count": null,
   "metadata": {},
   "outputs": [],
   "source": []
  },
  {
   "cell_type": "markdown",
   "metadata": {},
   "source": [
    "# Power"
   ]
  },
  {
   "cell_type": "code",
   "execution_count": 37,
   "metadata": {},
   "outputs": [],
   "source": [
    "df3 = pd.read_csv('defense_log.csv')"
   ]
  },
  {
   "cell_type": "code",
   "execution_count": 38,
   "metadata": {},
   "outputs": [
    {
     "data": {
      "text/html": [
       "<div>\n",
       "<style scoped>\n",
       "    .dataframe tbody tr th:only-of-type {\n",
       "        vertical-align: middle;\n",
       "    }\n",
       "\n",
       "    .dataframe tbody tr th {\n",
       "        vertical-align: top;\n",
       "    }\n",
       "\n",
       "    .dataframe thead th {\n",
       "        text-align: right;\n",
       "    }\n",
       "</style>\n",
       "<table border=\"1\" class=\"dataframe\">\n",
       "  <thead>\n",
       "    <tr style=\"text-align: right;\">\n",
       "      <th></th>\n",
       "      <th>year</th>\n",
       "      <th>personnel</th>\n",
       "      <th>operation</th>\n",
       "      <th>invest</th>\n",
       "      <th>subsidy</th>\n",
       "      <th>others</th>\n",
       "      <th>total</th>\n",
       "      <th>protest</th>\n",
       "      <th>sedge</th>\n",
       "      <th>dept</th>\n",
       "    </tr>\n",
       "  </thead>\n",
       "  <tbody>\n",
       "    <tr>\n",
       "      <th>0</th>\n",
       "      <td>2555</td>\n",
       "      <td>77.3690</td>\n",
       "      <td>18.1595</td>\n",
       "      <td>4.7830</td>\n",
       "      <td>2.9018</td>\n",
       "      <td>65.4541</td>\n",
       "      <td>168.6674</td>\n",
       "      <td>1.000000e-10</td>\n",
       "      <td>7</td>\n",
       "      <td>38.959767</td>\n",
       "    </tr>\n",
       "    <tr>\n",
       "      <th>1</th>\n",
       "      <td>2556</td>\n",
       "      <td>81.6874</td>\n",
       "      <td>21.6358</td>\n",
       "      <td>5.4446</td>\n",
       "      <td>3.3083</td>\n",
       "      <td>68.4154</td>\n",
       "      <td>180.4915</td>\n",
       "      <td>1.000000e+00</td>\n",
       "      <td>7</td>\n",
       "      <td>42.360041</td>\n",
       "    </tr>\n",
       "    <tr>\n",
       "      <th>2</th>\n",
       "      <td>2557</td>\n",
       "      <td>83.9448</td>\n",
       "      <td>21.1440</td>\n",
       "      <td>6.0614</td>\n",
       "      <td>3.3083</td>\n",
       "      <td>69.3615</td>\n",
       "      <td>183.8200</td>\n",
       "      <td>1.000000e+00</td>\n",
       "      <td>4</td>\n",
       "      <td>45.907129</td>\n",
       "    </tr>\n",
       "    <tr>\n",
       "      <th>3</th>\n",
       "      <td>2558</td>\n",
       "      <td>85.8036</td>\n",
       "      <td>21.6139</td>\n",
       "      <td>6.9778</td>\n",
       "      <td>3.2831</td>\n",
       "      <td>75.2707</td>\n",
       "      <td>192.9491</td>\n",
       "      <td>1.000000e-10</td>\n",
       "      <td>5</td>\n",
       "      <td>49.736635</td>\n",
       "    </tr>\n",
       "    <tr>\n",
       "      <th>4</th>\n",
       "      <td>2559</td>\n",
       "      <td>88.6336</td>\n",
       "      <td>24.3332</td>\n",
       "      <td>7.7546</td>\n",
       "      <td>3.5960</td>\n",
       "      <td>82.1439</td>\n",
       "      <td>206.4613</td>\n",
       "      <td>1.000000e-10</td>\n",
       "      <td>5</td>\n",
       "      <td>50.717621</td>\n",
       "    </tr>\n",
       "    <tr>\n",
       "      <th>5</th>\n",
       "      <td>2560</td>\n",
       "      <td>90.8373</td>\n",
       "      <td>25.7727</td>\n",
       "      <td>8.3984</td>\n",
       "      <td>3.5364</td>\n",
       "      <td>84.9051</td>\n",
       "      <td>213.4499</td>\n",
       "      <td>1.000000e-10</td>\n",
       "      <td>9</td>\n",
       "      <td>53.383014</td>\n",
       "    </tr>\n",
       "    <tr>\n",
       "      <th>6</th>\n",
       "      <td>2561</td>\n",
       "      <td>91.1531</td>\n",
       "      <td>25.0395</td>\n",
       "      <td>9.5441</td>\n",
       "      <td>6.6107</td>\n",
       "      <td>88.1763</td>\n",
       "      <td>220.5237</td>\n",
       "      <td>1.000000e-10</td>\n",
       "      <td>2</td>\n",
       "      <td>56.552360</td>\n",
       "    </tr>\n",
       "    <tr>\n",
       "      <th>7</th>\n",
       "      <td>2562</td>\n",
       "      <td>93.5908</td>\n",
       "      <td>24.7353</td>\n",
       "      <td>11.1883</td>\n",
       "      <td>5.3775</td>\n",
       "      <td>92.2347</td>\n",
       "      <td>227.1266</td>\n",
       "      <td>1.000000e+00</td>\n",
       "      <td>3</td>\n",
       "      <td>60.397192</td>\n",
       "    </tr>\n",
       "    <tr>\n",
       "      <th>8</th>\n",
       "      <td>2563</td>\n",
       "      <td>92.3466</td>\n",
       "      <td>24.7778</td>\n",
       "      <td>15.4336</td>\n",
       "      <td>5.1625</td>\n",
       "      <td>95.6329</td>\n",
       "      <td>233.3534</td>\n",
       "      <td>1.000000e+00</td>\n",
       "      <td>2</td>\n",
       "      <td>63.889201</td>\n",
       "    </tr>\n",
       "    <tr>\n",
       "      <th>9</th>\n",
       "      <td>2564</td>\n",
       "      <td>91.0274</td>\n",
       "      <td>24.1029</td>\n",
       "      <td>14.4261</td>\n",
       "      <td>4.7944</td>\n",
       "      <td>80.1798</td>\n",
       "      <td>214.5306</td>\n",
       "      <td>1.000000e+00</td>\n",
       "      <td>2</td>\n",
       "      <td>71.683653</td>\n",
       "    </tr>\n",
       "  </tbody>\n",
       "</table>\n",
       "</div>"
      ],
      "text/plain": [
       "   year  personnel  operation   invest  subsidy   others     total  \\\n",
       "0  2555    77.3690    18.1595   4.7830   2.9018  65.4541  168.6674   \n",
       "1  2556    81.6874    21.6358   5.4446   3.3083  68.4154  180.4915   \n",
       "2  2557    83.9448    21.1440   6.0614   3.3083  69.3615  183.8200   \n",
       "3  2558    85.8036    21.6139   6.9778   3.2831  75.2707  192.9491   \n",
       "4  2559    88.6336    24.3332   7.7546   3.5960  82.1439  206.4613   \n",
       "5  2560    90.8373    25.7727   8.3984   3.5364  84.9051  213.4499   \n",
       "6  2561    91.1531    25.0395   9.5441   6.6107  88.1763  220.5237   \n",
       "7  2562    93.5908    24.7353  11.1883   5.3775  92.2347  227.1266   \n",
       "8  2563    92.3466    24.7778  15.4336   5.1625  95.6329  233.3534   \n",
       "9  2564    91.0274    24.1029  14.4261   4.7944  80.1798  214.5306   \n",
       "\n",
       "        protest  sedge       dept  \n",
       "0  1.000000e-10      7  38.959767  \n",
       "1  1.000000e+00      7  42.360041  \n",
       "2  1.000000e+00      4  45.907129  \n",
       "3  1.000000e-10      5  49.736635  \n",
       "4  1.000000e-10      5  50.717621  \n",
       "5  1.000000e-10      9  53.383014  \n",
       "6  1.000000e-10      2  56.552360  \n",
       "7  1.000000e+00      3  60.397192  \n",
       "8  1.000000e+00      2  63.889201  \n",
       "9  1.000000e+00      2  71.683653  "
      ]
     },
     "execution_count": 38,
     "metadata": {},
     "output_type": "execute_result"
    }
   ],
   "source": [
    "df3"
   ]
  },
  {
   "cell_type": "code",
   "execution_count": 39,
   "metadata": {},
   "outputs": [],
   "source": [
    "x1 = df3['personnel'].to_numpy()\n",
    "x2 =df3['operation'].to_numpy()\n",
    "x3 = df3['invest'].to_numpy()\n",
    "x4 =df3['subsidy'].to_numpy()\n",
    "x5 = df3['others'].to_numpy()\n",
    "x6 = df3['protest'].to_numpy()\n",
    "x7 = df3['sedge'].to_numpy()\n",
    "x8 = df3['dept'].to_numpy()\n",
    "y = df3['total'].to_numpy()"
   ]
  },
  {
   "cell_type": "code",
   "execution_count": 40,
   "metadata": {},
   "outputs": [],
   "source": [
    "def pow_test(X, a, b, c, d, e , f, g, h, i):\n",
    "    x1, x2, x3, x4, x5, x6, x7, x8 = X\n",
    "    return a * ( np.power(x1,b) + np.power(x2,c) + np.power(x3,d) + np.power(x4,e) + np.power(x5,f) + np.power(x6,g) + np.power(x7,h) + np.power(x8,i))"
   ]
  },
  {
   "cell_type": "code",
   "execution_count": 41,
   "metadata": {},
   "outputs": [
    {
     "name": "stderr",
     "output_type": "stream",
     "text": [
      "C:\\Users\\User\\anaconda3\\lib\\site-packages\\scipy\\optimize\\minpack.py:828: OptimizeWarning: Covariance of the parameters could not be estimated\n",
      "  warnings.warn('Covariance of the parameters could not be estimated',\n"
     ]
    },
    {
     "data": {
      "text/plain": [
       "array([1.0604008 , 0.89500413, 1.00346624, 0.70233475, 0.89213721,\n",
       "       1.02044599, 1.        , 0.01165194, 0.7121026 ])"
      ]
     },
     "execution_count": 41,
     "metadata": {},
     "output_type": "execute_result"
    }
   ],
   "source": [
    "param3, param_cov2 = curve_fit(pow_test, (x1, x2, x3, x4, x5, x6, x7, x8), y, maxfev=5000) \n",
    "param3"
   ]
  },
  {
   "cell_type": "code",
   "execution_count": 42,
   "metadata": {},
   "outputs": [
    {
     "data": {
      "text/plain": [
       "array([168.42620574, 180.83207085, 183.93312354, 192.78622682,\n",
       "       206.34146597, 213.3264063 , 220.22784043, 227.76812436,\n",
       "       233.20879104, 214.50012551])"
      ]
     },
     "execution_count": 42,
     "metadata": {},
     "output_type": "execute_result"
    }
   ],
   "source": [
    "predictions3 =  param3[0] * ( np.power(x1,param3[1]) + np.power(x2,param3[2]) + np.power(x3,param3[3]) + np.power(x4,param3[4]) + np.power(x5,param3[5]) + np.power(x6,param3[6]) + np.power(x7,param3[7]) + np.power(x8,param3[8]))\n",
    "predictions3"
   ]
  },
  {
   "cell_type": "code",
   "execution_count": 43,
   "metadata": {},
   "outputs": [
    {
     "data": {
      "text/plain": [
       "0.07640255027713366"
      ]
     },
     "execution_count": 43,
     "metadata": {},
     "output_type": "execute_result"
    }
   ],
   "source": [
    "from sklearn import metrics\n",
    "mse = metrics.mean_squared_error(y,predictions3)\n",
    "mse"
   ]
  },
  {
   "cell_type": "code",
   "execution_count": 44,
   "metadata": {},
   "outputs": [
    {
     "data": {
      "text/plain": [
       "0.9998183467183747"
      ]
     },
     "execution_count": 44,
     "metadata": {},
     "output_type": "execute_result"
    }
   ],
   "source": [
    "#R-square\n",
    "metrics.r2_score(y, predictions3)"
   ]
  },
  {
   "cell_type": "code",
   "execution_count": 45,
   "metadata": {},
   "outputs": [
    {
     "data": {
      "text/plain": [
       "0.2764101124726331"
      ]
     },
     "execution_count": 45,
     "metadata": {},
     "output_type": "execute_result"
    }
   ],
   "source": [
    "#RMSE\n",
    "rmse = math.sqrt(mse)\n",
    "rmse"
   ]
  },
  {
   "cell_type": "code",
   "execution_count": 46,
   "metadata": {},
   "outputs": [
    {
     "data": {
      "text/plain": [
       "0.10863312822345056"
      ]
     },
     "execution_count": 46,
     "metadata": {},
     "output_type": "execute_result"
    }
   ],
   "source": [
    "#MAPE\n",
    "np.mean(np.abs((y - predictions3) / y)) * 100"
   ]
  },
  {
   "cell_type": "code",
   "execution_count": 47,
   "metadata": {},
   "outputs": [
    {
     "data": {
      "text/plain": [
       "0.22135569422020468"
      ]
     },
     "execution_count": 47,
     "metadata": {},
     "output_type": "execute_result"
    }
   ],
   "source": [
    "#MAD\n",
    "np.mean(np.abs(y - predictions3))"
   ]
  },
  {
   "cell_type": "code",
   "execution_count": 48,
   "metadata": {},
   "outputs": [],
   "source": [
    "year = df3['year']"
   ]
  },
  {
   "cell_type": "code",
   "execution_count": 49,
   "metadata": {},
   "outputs": [
    {
     "data": {
      "text/plain": [
       "<matplotlib.legend.Legend at 0x1ad8eaef580>"
      ]
     },
     "execution_count": 49,
     "metadata": {},
     "output_type": "execute_result"
    },
    {
     "data": {
      "image/png": "[encoded data removed]",
      "text/plain": [
       "<Figure size 432x288 with 1 Axes>"
      ]
     },
     "metadata": {
      "needs_background": "light"
     },
     "output_type": "display_data"
    }
   ],
   "source": [
    "plt.plot(year,y,'g-',label='actual')\n",
    "plt.plot(year,predictions3,'r.', label='predicted')\n",
    "plt.legend()"
   ]
  },
  {
   "cell_type": "code",
   "execution_count": null,
   "metadata": {},
   "outputs": [],
   "source": []
  },
  {
   "cell_type": "markdown",
   "metadata": {},
   "source": [
    "# Corre\n"
   ]
  },
  {
   "cell_type": "code",
   "execution_count": 50,
   "metadata": {},
   "outputs": [],
   "source": [
    "import seaborn as sns\n",
    "%matplotlib inline"
   ]
  },
  {
   "cell_type": "code",
   "execution_count": 51,
   "metadata": {},
   "outputs": [
    {
     "data": {
      "text/plain": [
       "<AxesSubplot:>"
      ]
     },
     "execution_count": 51,
     "metadata": {},
     "output_type": "execute_result"
    },
    {
     "data": {
      "image/png": "[encoded data removed]",
      "text/plain": [
       "<Figure size 432x288 with 2 Axes>"
      ]
     },
     "metadata": {
      "needs_background": "light"
     },
     "output_type": "display_data"
    }
   ],
   "source": [
    "sns.heatmap(df.corr(),\n",
    "            square=True,\n",
    "            linewidths=0.30,    \n",
    "            linecolor=(0,0,0),\n",
    "           cmap=sns.color_palette(\"coolwarm\"),\n",
    "           annot=True)"
   ]
  },
  {
   "cell_type": "code",
   "execution_count": null,
   "metadata": {},
   "outputs": [],
   "source": []
  },
  {
   "cell_type": "code",
   "execution_count": null,
   "metadata": {},
   "outputs": [],
   "source": []
  }
 ],
 "metadata": {
  "kernelspec": {
   "display_name": "Python 3",
   "language": "python",
   "name": "python3"
  },
  "language_info": {
   "codemirror_mode": {
    "name": "ipython",
    "version": 3
   },
   "file_extension": ".py",
   "mimetype": "text/x-python",
   "name": "python",
   "nbconvert_exporter": "python",
   "pygments_lexer": "ipython3",
   "version": "3.8.5"
  }
 },
 "nbformat": 4,
 "nbformat_minor": 4
}
